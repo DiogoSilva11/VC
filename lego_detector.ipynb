{
 "cells": [
  {
   "cell_type": "markdown",
   "source": [
    "# Project Computer Vision - Task 1"
   ],
   "metadata": {
    "collapsed": false
   }
  },
  {
   "cell_type": "markdown",
   "source": [
    "### Libraries"
   ],
   "metadata": {
    "collapsed": false
   }
  },
  {
   "cell_type": "code",
   "execution_count": 1,
   "outputs": [],
   "source": [
    "import cv2\n",
    "import os\n",
    "import numpy as np\n",
    "import json"
   ],
   "metadata": {
    "collapsed": false
   }
  },
  {
   "cell_type": "markdown",
   "source": [
    "### Data directory"
   ],
   "metadata": {
    "collapsed": false
   }
  },
  {
   "cell_type": "code",
   "execution_count": 2,
   "outputs": [],
   "source": [
    "imagesDir = './samples'\n",
    "testDir = './json_examples/'"
   ],
   "metadata": {
    "collapsed": false
   }
  },
  {
   "cell_type": "markdown",
   "source": [
    "### Leading with input file"
   ],
   "metadata": {
    "collapsed": false
   }
  },
  {
   "cell_type": "code",
   "execution_count": 3,
   "outputs": [
    {
     "name": "stdout",
     "output_type": "stream",
     "text": [
      "['IMG_20201127_235047.jpg', 'IMG_20201127_234711.jpg', '2_7mUR_original-test_1609981034838.jpg']\n"
     ]
    }
   ],
   "source": [
    "# Build the path to the input.json file\n",
    "json_file_path = os.path.join(testDir, 'input.json')\n",
    "\n",
    "# Open and read the input.json\n",
    "with open(json_file_path, 'r') as file:\n",
    "    data = json.load(file)\n",
    "\n",
    "# Extract image paths into a list\n",
    "image_paths = data['image_files']\n",
    "\n",
    "# Print the list of image paths\n",
    "print(image_paths)"
   ],
   "metadata": {
    "collapsed": false
   }
  },
  {
   "cell_type": "code",
   "execution_count": 4,
   "outputs": [],
   "source": [
    "# Opening an image\n",
    "first_image = image_paths[0]\n",
    "image_to_test = cv2.imread(os.path.join(imagesDir, first_image))\n",
    "\n",
    "# Showing the image\n",
    "cv2.imshow(\"Lego\", image_to_test)\n",
    "\n",
    "# Waiting for user to press a key to close the image\n",
    "cv2.waitKey(0)\n",
    "\n",
    "# Close the window after user pressed a key\n",
    "cv2.destroyWindow(\"Lego\")"
   ],
   "metadata": {
    "collapsed": false
   }
  },
  {
   "cell_type": "markdown",
   "source": [
    "## Filtering and Smoothing"
   ],
   "metadata": {
    "collapsed": false
   }
  },
  {
   "cell_type": "markdown",
   "source": [
    "#### MEAN FILTER"
   ],
   "metadata": {
    "collapsed": false
   }
  },
  {
   "cell_type": "code",
   "execution_count": null,
   "outputs": [],
   "source": [
    "# Apply mean filter to the image\n",
    "img_mean_filter = cv2.blur(image_to_test, (4,4))\n",
    "\n",
    "# Show image\n",
    "cv2.imshow('mean_filter', img_mean_filter)\n",
    "cv2.waitKey(0)\n",
    "cv2.destroyWindow('mean_filter')"
   ],
   "metadata": {
    "collapsed": false
   }
  },
  {
   "cell_type": "markdown",
   "source": [
    "#### GAUSSIAN FILTER"
   ],
   "metadata": {
    "collapsed": false
   }
  },
  {
   "cell_type": "code",
   "execution_count": null,
   "outputs": [],
   "source": [
    "# Apply gaussian filter to the image\n",
    "img_gaussian_filter = cv2.GaussianBlur(image_to_test, (5,5), 0)\n",
    "\n",
    "# Show image\n",
    "cv2.imshow('gaussian_filter', img_gaussian_filter)\n",
    "cv2.waitKey(0)\n",
    "cv2.destroyWindow('gaussian_filter')"
   ],
   "metadata": {
    "collapsed": false
   }
  },
  {
   "cell_type": "markdown",
   "source": [
    "#### MEDIAN FILTER"
   ],
   "metadata": {
    "collapsed": false
   }
  },
  {
   "cell_type": "code",
   "execution_count": 4,
   "outputs": [],
   "source": [
    "# Apply median filter to the image\n",
    "img_median_filter = cv2.medianBlur(image_to_test, 5)\n",
    "\n",
    "# Show image\n",
    "cv2.imshow('median_filter', img_median_filter)\n",
    "cv2.waitKey(0)\n",
    "cv2.destroyWindow('median_filter')"
   ],
   "metadata": {
    "collapsed": false
   }
  },
  {
   "cell_type": "markdown",
   "source": [
    "#### BILATERAL FILTER"
   ],
   "metadata": {
    "collapsed": false
   }
  },
  {
   "cell_type": "code",
   "execution_count": 5,
   "outputs": [],
   "source": [
    "# Apply bilateral filter to the image\n",
    "img_bilateral_filter = cv2.bilateralFilter(image_to_test, 9, 75, 75)\n",
    "\n",
    "# Show image\n",
    "cv2.imshow('bilateral_filter', img_bilateral_filter)\n",
    "cv2.waitKey(0)\n",
    "cv2.destroyWindow('bilateral_filter')"
   ],
   "metadata": {
    "collapsed": false
   }
  },
  {
   "cell_type": "markdown",
   "source": [
    "## Edge and Line Detection\n"
   ],
   "metadata": {
    "collapsed": false
   }
  },
  {
   "cell_type": "code",
   "execution_count": 6,
   "outputs": [
    {
     "ename": "error",
     "evalue": "OpenCV(4.9.0) D:\\a\\opencv-python\\opencv-python\\opencv\\modules\\highgui\\src\\window_w32.cpp:1261: error: (-27:Null pointer) NULL window: 'canny_edge_detection' in function 'cvDestroyWindow'\n",
     "output_type": "error",
     "traceback": [
      "\u001B[1;31m---------------------------------------------------------------------------\u001B[0m",
      "\u001B[1;31merror\u001B[0m                                     Traceback (most recent call last)",
      "Cell \u001B[1;32mIn[6], line 9\u001B[0m\n\u001B[0;32m      7\u001B[0m cv2\u001B[38;5;241m.\u001B[39mimshow(\u001B[38;5;124m'\u001B[39m\u001B[38;5;124mcanny_edge_detection\u001B[39m\u001B[38;5;124m'\u001B[39m, edges)\n\u001B[0;32m      8\u001B[0m cv2\u001B[38;5;241m.\u001B[39mwaitKey(\u001B[38;5;241m0\u001B[39m)\n\u001B[1;32m----> 9\u001B[0m \u001B[43mcv2\u001B[49m\u001B[38;5;241;43m.\u001B[39;49m\u001B[43mdestroyWindow\u001B[49m\u001B[43m(\u001B[49m\u001B[38;5;124;43m'\u001B[39;49m\u001B[38;5;124;43mcanny_edge_detection\u001B[39;49m\u001B[38;5;124;43m'\u001B[39;49m\u001B[43m)\u001B[49m\n",
      "\u001B[1;31merror\u001B[0m: OpenCV(4.9.0) D:\\a\\opencv-python\\opencv-python\\opencv\\modules\\highgui\\src\\window_w32.cpp:1261: error: (-27:Null pointer) NULL window: 'canny_edge_detection' in function 'cvDestroyWindow'\n"
     ]
    }
   ],
   "source": [
    "# Convert the image to grayscale\n",
    "gray_img = cv2.cvtColor(image_to_test, cv2.COLOR_BGR2GRAY)\n",
    "\n",
    "# Apply Canny edge detection\n",
    "edges = cv2.Canny(gray_img, 100, 200)\n",
    "\n",
    "cv2.imshow('canny_edge_detection', edges)\n",
    "cv2.waitKey(0)\n",
    "cv2.destroyWindow('canny_edge_detection')"
   ],
   "metadata": {
    "collapsed": false
   }
  },
  {
   "cell_type": "code",
   "execution_count": null,
   "outputs": [],
   "source": [],
   "metadata": {
    "collapsed": false
   }
  }
 ],
 "metadata": {
  "kernelspec": {
   "display_name": "Python 3",
   "language": "python",
   "name": "python3"
  },
  "language_info": {
   "codemirror_mode": {
    "name": "ipython",
    "version": 3
   },
   "file_extension": ".py",
   "mimetype": "text/x-python",
   "name": "python",
   "nbconvert_exporter": "python",
   "pygments_lexer": "ipython3",
   "version": "3.10.10"
  }
 },
 "nbformat": 4,
 "nbformat_minor": 2
}
