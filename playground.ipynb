{
 "cells": [
  {
   "cell_type": "markdown",
   "metadata": {},
   "source": [
    "### Initial setup"
   ]
  },
  {
   "cell_type": "code",
   "execution_count": 5,
   "metadata": {},
   "outputs": [],
   "source": [
    "import cv2\n",
    "import os\n",
    "import json\n",
    "from utils import *\n",
    "\n",
    "images_dir = './samples'\n",
    "input = 'input.json'\n",
    "output = 'output.json'"
   ]
  },
  {
   "cell_type": "markdown",
   "metadata": {},
   "source": [
    "### Check image type"
   ]
  },
  {
   "cell_type": "code",
   "execution_count": 3,
   "metadata": {},
   "outputs": [
    {
     "name": "stdout",
     "output_type": "stream",
     "text": [
      "Complexity: Simple (20 features)\n"
     ]
    }
   ],
   "source": [
    "with open(input, 'r') as json_file:\n",
    "    data = json.load(json_file)\n",
    "\n",
    "image_paths = data['image_files']\n",
    "image_index = 11\n",
    "\n",
    "image = cv2.imread(os.path.join(images_dir, image_paths[image_index]))\n",
    "image = cv2.resize(image, (0, 0), fx = 0.15, fy = 0.15)\n",
    "\n",
    "gray = cv2.cvtColor(image, cv2.COLOR_BGR2GRAY)\n",
    "\n",
    "complexity, num_keypoints = get_image_complexity(gray)\n",
    "print(f'Complexity: {complexity} ({num_keypoints} features)')\n",
    "\n",
    "cv2.imshow('Image', image)\n",
    "cv2.waitKey(0)\n",
    "cv2.destroyAllWindows()"
   ]
  },
  {
   "cell_type": "markdown",
   "metadata": {},
   "source": [
    "### GrabCut testing"
   ]
  },
  {
   "cell_type": "code",
   "execution_count": 6,
   "metadata": {},
   "outputs": [],
   "source": [
    "# ----------------------------------------------\n",
    "\n",
    "with open(input, 'r') as json_file:\n",
    "    data = json.load(json_file)\n",
    "\n",
    "image_paths = data['image_files']\n",
    "image_index = 11\n",
    "\n",
    "image = cv2.imread(os.path.join(images_dir, image_paths[image_index]))\n",
    "image = cv2.resize(image, (0, 0), fx = 0.15, fy = 0.15)\n",
    "\n",
    "gray = cv2.cvtColor(image, cv2.COLOR_BGR2GRAY)\n",
    "hsv = cv2.cvtColor(image, cv2.COLOR_BGR2HSV)\n",
    "\n",
    "complexity, _ = get_image_complexity(gray)\n",
    "\n",
    "# ----------------------------------------------\n",
    "\n",
    "blur_kernel = (9, 9) if complexity == 'Complex' else (7, 7)\n",
    "bb_size = 100 if complexity == 'Complex' else 50\n",
    "iterations = 5 if complexity == 'Complex' else 1\n",
    "grabcut_mask = grab_cut(image, blur_kernel, bb_size, iterations)\n",
    "grabcut = cv2.bitwise_and(image, image, mask=grabcut_mask)\n",
    "\n",
    "# ----------------------------------------------\n",
    "\n",
    "cv2.imshow('Image', image)\n",
    "cv2.imshow('Grabcut', grabcut)\n",
    "cv2.waitKey(0)\n",
    "cv2.destroyAllWindows()\n",
    "\n",
    "# ----------------------------------------------"
   ]
  },
  {
   "cell_type": "markdown",
   "metadata": {},
   "source": [
    "### Background median testing"
   ]
  },
  {
   "cell_type": "code",
   "execution_count": 1,
   "metadata": {},
   "outputs": [
    {
     "ename": "TypeError",
     "evalue": "expected str, bytes or os.PathLike object, not method",
     "output_type": "error",
     "traceback": [
      "\u001b[1;31m---------------------------------------------------------------------------\u001b[0m",
      "\u001b[1;31mTypeError\u001b[0m                                 Traceback (most recent call last)",
      "Cell \u001b[1;32mIn[1], line 3\u001b[0m\n\u001b[0;32m      1\u001b[0m \u001b[38;5;66;03m# ----------------------------------------------\u001b[39;00m\n\u001b[1;32m----> 3\u001b[0m \u001b[38;5;28;01mwith\u001b[39;00m \u001b[38;5;28;43mopen\u001b[39;49m\u001b[43m(\u001b[49m\u001b[38;5;28;43minput\u001b[39;49m\u001b[43m,\u001b[49m\u001b[43m \u001b[49m\u001b[38;5;124;43m'\u001b[39;49m\u001b[38;5;124;43mr\u001b[39;49m\u001b[38;5;124;43m'\u001b[39;49m\u001b[43m)\u001b[49m \u001b[38;5;28;01mas\u001b[39;00m json_file:\n\u001b[0;32m      4\u001b[0m     data \u001b[38;5;241m=\u001b[39m json\u001b[38;5;241m.\u001b[39mload(json_file)\n\u001b[0;32m      6\u001b[0m image_paths \u001b[38;5;241m=\u001b[39m data[\u001b[38;5;124m'\u001b[39m\u001b[38;5;124mimage_files\u001b[39m\u001b[38;5;124m'\u001b[39m]\n",
      "File \u001b[1;32m~\\AppData\\Roaming\\Python\\Python310\\site-packages\\IPython\\core\\interactiveshell.py:310\u001b[0m, in \u001b[0;36m_modified_open\u001b[1;34m(file, *args, **kwargs)\u001b[0m\n\u001b[0;32m    303\u001b[0m \u001b[38;5;28;01mif\u001b[39;00m file \u001b[38;5;129;01min\u001b[39;00m {\u001b[38;5;241m0\u001b[39m, \u001b[38;5;241m1\u001b[39m, \u001b[38;5;241m2\u001b[39m}:\n\u001b[0;32m    304\u001b[0m     \u001b[38;5;28;01mraise\u001b[39;00m \u001b[38;5;167;01mValueError\u001b[39;00m(\n\u001b[0;32m    305\u001b[0m         \u001b[38;5;124mf\u001b[39m\u001b[38;5;124m\"\u001b[39m\u001b[38;5;124mIPython won\u001b[39m\u001b[38;5;124m'\u001b[39m\u001b[38;5;124mt let you open fd=\u001b[39m\u001b[38;5;132;01m{\u001b[39;00mfile\u001b[38;5;132;01m}\u001b[39;00m\u001b[38;5;124m by default \u001b[39m\u001b[38;5;124m\"\u001b[39m\n\u001b[0;32m    306\u001b[0m         \u001b[38;5;124m\"\u001b[39m\u001b[38;5;124mas it is likely to crash IPython. If you know what you are doing, \u001b[39m\u001b[38;5;124m\"\u001b[39m\n\u001b[0;32m    307\u001b[0m         \u001b[38;5;124m\"\u001b[39m\u001b[38;5;124myou can use builtins\u001b[39m\u001b[38;5;124m'\u001b[39m\u001b[38;5;124m open.\u001b[39m\u001b[38;5;124m\"\u001b[39m\n\u001b[0;32m    308\u001b[0m     )\n\u001b[1;32m--> 310\u001b[0m \u001b[38;5;28;01mreturn\u001b[39;00m io_open(file, \u001b[38;5;241m*\u001b[39margs, \u001b[38;5;241m*\u001b[39m\u001b[38;5;241m*\u001b[39mkwargs)\n",
      "\u001b[1;31mTypeError\u001b[0m: expected str, bytes or os.PathLike object, not method"
     ]
    }
   ],
   "source": [
    "# ----------------------------------------------\n",
    "\n",
    "with open(input, 'r') as json_file:\n",
    "    data = json.load(json_file)\n",
    "\n",
    "image_paths = data['image_files']\n",
    "image_index = 3\n",
    "\n",
    "image = cv2.imread(os.path.join(images_dir, image_paths[image_index]))\n",
    "image = cv2.resize(image, (0, 0), fx = 0.15, fy = 0.15)\n",
    "\n",
    "gray = cv2.cvtColor(image, cv2.COLOR_BGR2GRAY)\n",
    "hsv = cv2.cvtColor(image, cv2.COLOR_BGR2HSV)\n",
    "\n",
    "complexity, _ = get_image_complexity(gray)\n",
    "\n",
    "# ----------------------------------------------\n",
    "\n",
    "def process_image():\n",
    "    complexity, _ = get_image_complexity(gray)\n",
    "    blur_kernel = (11, 11) if complexity == 'Complex' else (5, 5)\n",
    "    bg_median_mask = background_median(hsv, hue_tolerance, saturation_tolerance, value_tolerance, blur_kernel)\n",
    "    bg_median = cv2.bitwise_and(image, image, mask=bg_median_mask)\n",
    "    contours, _ = cv2.findContours(bg_median_mask, cv2.RETR_EXTERNAL, cv2.CHAIN_APPROX_SIMPLE)\n",
    "    contours = filter_contours(contours)\n",
    "    image_copy = image.copy()\n",
    "    for contour in contours:\n",
    "        x, y, w, h = cv2.boundingRect(contour)\n",
    "        cv2.rectangle(image_copy, (x, y), (x + w, y + h), (255, 255, 0), 2)\n",
    "    combined_image = np.hstack((bg_median, image_copy))\n",
    "    cv2.imshow(window_name, combined_image)\n",
    "\n",
    "def update_hue_tolerance(*args):\n",
    "    global hue_tolerance\n",
    "    hue_tolerance = cv2.getTrackbarPos(\"Hue\", window_name)\n",
    "    process_image()\n",
    "\n",
    "def update_saturation_tolerance(*args):\n",
    "    global saturation_tolerance\n",
    "    saturation_tolerance = cv2.getTrackbarPos(\"Saturation\", window_name)\n",
    "    process_image()\n",
    "\n",
    "def update_value_tolerance(*args):\n",
    "    global value_tolerance\n",
    "    value_tolerance = cv2.getTrackbarPos(\"Value\", window_name)\n",
    "    process_image()\n",
    "\n",
    "# ----------------------------------------------\n",
    "\n",
    "hue_tolerance = 100\n",
    "saturation_tolerance = 100\n",
    "value_tolerance = 100\n",
    "\n",
    "window_name = \"TEST\"\n",
    "cv2.namedWindow(window_name)\n",
    "\n",
    "cv2.createTrackbar(\"Hue\", window_name, hue_tolerance, 180, update_hue_tolerance)\n",
    "cv2.createTrackbar(\"Saturation\", window_name, saturation_tolerance, 255, update_saturation_tolerance)\n",
    "cv2.createTrackbar(\"Value\", window_name, value_tolerance, 255, update_value_tolerance)\n",
    "\n",
    "process_image()\n",
    "\n",
    "cv2.waitKey(0)\n",
    "cv2.destroyAllWindows()\n",
    "\n",
    "# ----------------------------------------------"
   ]
  },
  {
   "cell_type": "markdown",
   "metadata": {},
   "source": [
    "### Canny testing"
   ]
  },
  {
   "cell_type": "code",
   "execution_count": 5,
   "metadata": {},
   "outputs": [],
   "source": [
    "# ----------------------------------------------\n",
    "\n",
    "with open(input, 'r') as json_file:\n",
    "    data = json.load(json_file)\n",
    "\n",
    "image_paths = data['image_files']\n",
    "image_index = 3\n",
    "\n",
    "image = cv2.imread(os.path.join(images_dir, image_paths[image_index]))\n",
    "image = cv2.resize(image, (0, 0), fx = 0.15, fy = 0.15)\n",
    "\n",
    "gray = cv2.cvtColor(image, cv2.COLOR_BGR2GRAY)\n",
    "hsv = cv2.cvtColor(image, cv2.COLOR_BGR2HSV)\n",
    "\n",
    "complexity, _ = get_image_complexity(gray)\n",
    "\n",
    "# ----------------------------------------------\n",
    "\n",
    "def process_image():\n",
    "    complexity, _ = get_image_complexity(gray)\n",
    "    blur_kernel = (11, 11) if complexity == 'Complex' else (5, 5)\n",
    "    canny_mask = canny_edges(gray, blur_kernel, low_threshold, high_threshold)\n",
    "    canny = cv2.bitwise_and(image, image, mask=canny_mask)\n",
    "    contours, _ = cv2.findContours(canny_mask, cv2.RETR_EXTERNAL, cv2.CHAIN_APPROX_SIMPLE)\n",
    "    contours = filter_contours(contours)\n",
    "    image_copy = image.copy()\n",
    "    for contour in contours:\n",
    "        x, y, w, h = cv2.boundingRect(contour)\n",
    "        cv2.rectangle(image_copy, (x, y), (x + w, y + h), (255, 255, 0), 2)\n",
    "    combined_image = np.hstack((canny, image_copy))\n",
    "    cv2.imshow(window_name, combined_image)\n",
    "\n",
    "def update_low_threshold(*args):\n",
    "    global low_threshold\n",
    "    low_threshold = cv2.getTrackbarPos(\"Low\", window_name)\n",
    "    process_image()\n",
    "\n",
    "def update_high_threshold(*args):\n",
    "    global high_threshold\n",
    "    high_threshold = cv2.getTrackbarPos(\"High\", window_name)\n",
    "    process_image()\n",
    "\n",
    "# ----------------------------------------------\n",
    "\n",
    "low_threshold = 100\n",
    "high_threshold = 200\n",
    "\n",
    "window_name = \"TEST\"\n",
    "cv2.namedWindow(window_name, cv2.WINDOW_AUTOSIZE)\n",
    "\n",
    "cv2.createTrackbar(\"Low\", window_name, low_threshold, 255, update_low_threshold)\n",
    "cv2.createTrackbar(\"High\", window_name, high_threshold, 255, update_high_threshold)\n",
    "\n",
    "process_image()\n",
    "\n",
    "cv2.waitKey(0)\n",
    "cv2.destroyAllWindows()\n",
    "\n",
    "# ----------------------------------------------"
   ]
  }
 ],
 "metadata": {
  "kernelspec": {
   "display_name": "Python 3",
   "language": "python",
   "name": "python3"
  },
  "language_info": {
   "codemirror_mode": {
    "name": "ipython",
    "version": 3
   },
   "file_extension": ".py",
   "mimetype": "text/x-python",
   "name": "python",
   "nbconvert_exporter": "python",
   "pygments_lexer": "ipython3",
   "version": "3.10.10"
  }
 },
 "nbformat": 4,
 "nbformat_minor": 2
}
