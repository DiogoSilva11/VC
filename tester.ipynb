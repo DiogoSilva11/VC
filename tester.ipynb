{
 "cells": [
  {
   "cell_type": "code",
   "execution_count": 4,
   "metadata": {},
   "outputs": [],
   "source": [
    "import json"
   ]
  },
  {
   "cell_type": "code",
   "execution_count": 5,
   "metadata": {},
   "outputs": [],
   "source": [
    "def load_json(filename):\n",
    "    with open(filename) as f:\n",
    "        return json.load(f)"
   ]
  },
  {
   "cell_type": "code",
   "execution_count": 18,
   "metadata": {},
   "outputs": [],
   "source": [
    "output_data = load_json('output.json')\n",
    "solutions_data = load_json('solutions.json')\n",
    "\n",
    "solutions_dict = {item['file_name']: item for item in solutions_data['results']}"
   ]
  },
  {
   "cell_type": "code",
   "execution_count": 19,
   "metadata": {},
   "outputs": [
    {
     "name": "stdout",
     "output_type": "stream",
     "text": [
      "[PASS] IMG_20201127_235047.jpg\n",
      "[PASS] IMG_20201127_234711.jpg\n",
      "[PASS] 2_7mUR_original-test_1609981034838.jpg\n",
      "\n",
      "[SCORE] 3/3\n"
     ]
    }
   ],
   "source": [
    "passed_tests = 0\n",
    "total_tests = len(output_data['results'])\n",
    "\n",
    "for file in output_data['results']:\n",
    "    file_name = file['file_name']\n",
    "    \n",
    "    if file_name in solutions_dict:\n",
    "        if (file['num_colors'] == solutions_dict[file_name]['num_colors'] and\n",
    "                file['num_detections'] == solutions_dict[file_name]['num_detections']):\n",
    "            passed_tests += 1\n",
    "            print(f\"[PASS] {file_name}\")\n",
    "        else:\n",
    "            print(f\"[FAIL] {file_name}\")\n",
    "    else:\n",
    "        total_tests -= 1\n",
    "        print(f\"{file_name}: Not found in solutions\")\n",
    "\n",
    "print(f\"\\n[SCORE] {passed_tests}/{total_tests}\")"
   ]
  }
 ],
 "metadata": {
  "kernelspec": {
   "display_name": "Python 3",
   "language": "python",
   "name": "python3"
  },
  "language_info": {
   "codemirror_mode": {
    "name": "ipython",
    "version": 3
   },
   "file_extension": ".py",
   "mimetype": "text/x-python",
   "name": "python",
   "nbconvert_exporter": "python",
   "pygments_lexer": "ipython3",
   "version": "3.10.10"
  }
 },
 "nbformat": 4,
 "nbformat_minor": 2
}
