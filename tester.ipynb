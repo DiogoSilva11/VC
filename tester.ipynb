{
 "cells": [
  {
   "cell_type": "code",
   "execution_count": 9,
   "metadata": {},
   "outputs": [],
   "source": [
    "import json"
   ]
  },
  {
   "cell_type": "code",
   "execution_count": 10,
   "metadata": {},
   "outputs": [],
   "source": [
    "def load_json(filename):\n",
    "    with open(filename) as f:\n",
    "        return json.load(f)"
   ]
  },
  {
   "cell_type": "code",
   "execution_count": 13,
   "metadata": {},
   "outputs": [],
   "source": [
    "output_data = load_json('output.json')\n",
    "solutions_data = load_json('solutions.json')\n",
    "\n",
    "solutions_dict = {item['file_name']: item for item in solutions_data['results']}"
   ]
  },
  {
   "cell_type": "code",
   "execution_count": 14,
   "metadata": {},
   "outputs": [
    {
     "name": "stdout",
     "output_type": "stream",
     "text": [
      "[PASS] 0_4UMA_original_60479_1609884606260.jpg\n",
      "[PASS] 0_hWqG_original_3460_1609895876431.jpg\n",
      "[PASS] 0_hXAf_original_3460_1609895891398.jpg\n",
      "[PASS] 0_MnDu_original_15254_1609945083260.jpg\n",
      "[PASS] 0_neOX_original_3460_1609895884436.jpg\n",
      "[FAIL] 0_rGIB_original_15254_1609945086846.jpg\n",
      "[PASS] 1_utXT_original-test_1609981179609.jpg\n",
      "[FAIL] 2_7mUR_original-test_1609981034838.jpg\n",
      "[PASS] 2_GPI9_original-test_1609981038128.jpg\n",
      "[FAIL] 2_lXUX_original-test_1609981023743.jpg\n",
      "[FAIL] 2_vUVe_original-test_1609981148397.jpg\n",
      "[FAIL] IMG_20201127_001711.jpg\n",
      "[FAIL] IMG_20201127_001800.jpg\n",
      "[FAIL] IMG_20201127_001818.jpg\n",
      "[FAIL] IMG_20201127_001831.jpg\n",
      "[FAIL] IMG_20201127_001840.jpg\n",
      "[FAIL] IMG_20201127_001904.jpg\n",
      "[FAIL] IMG_20201127_002055.jpg\n",
      "[FAIL] IMG_20201127_002243.jpg\n",
      "[FAIL] IMG_20201127_002309.jpg\n",
      "[FAIL] IMG_20201127_002319.jpg\n",
      "[FAIL] IMG_20201127_002506.jpg\n",
      "[FAIL] IMG_20201127_002529.jpg\n",
      "[FAIL] IMG_20201127_002953.jpg\n",
      "[FAIL] IMG_20201127_002957.jpg\n",
      "[FAIL] IMG_20201127_003003.jpg\n",
      "[FAIL] IMG_20201127_003218.jpg\n",
      "[FAIL] IMG_20201127_003844.jpg\n",
      "[FAIL] IMG_20201127_140637.jpg\n",
      "[FAIL] IMG_20201127_140925.jpg\n",
      "[FAIL] IMG_20201127_233659.jpg\n",
      "[FAIL] IMG_20201127_233719.jpg\n",
      "[FAIL] IMG_20201127_233804.jpg\n",
      "[FAIL] IMG_20201127_233822.jpg\n",
      "[FAIL] IMG_20201127_234032.jpg\n",
      "[FAIL] IMG_20201127_234054.jpg\n",
      "[FAIL] IMG_20201127_234114.jpg\n",
      "[FAIL] IMG_20201127_234242.jpg\n",
      "[FAIL] IMG_20201127_234528.jpg\n",
      "[FAIL] IMG_20201127_234550.jpg\n",
      "[FAIL] IMG_20201127_234607.jpg\n",
      "[FAIL] IMG_20201127_234711.jpg\n",
      "[FAIL] IMG_20201127_234932.jpg\n",
      "[FAIL] IMG_20201127_234945.jpg\n",
      "[FAIL] IMG_20201127_234959.jpg\n",
      "[FAIL] IMG_20201127_235029.jpg\n",
      "[FAIL] IMG_20201127_235047.jpg\n",
      "[PASS] IMG_20201127_235241.jpg\n",
      "[FAIL] IMG_20201127_235418.jpg\n",
      "[FAIL] IMG_20201203_091752.jpg\n",
      "\n",
      "[SCORE] 8/50\n"
     ]
    }
   ],
   "source": [
    "passed_tests = 0\n",
    "total_tests = len(output_data['results'])\n",
    "\n",
    "for file in output_data['results']:\n",
    "    file_name = file['file_name']\n",
    "    \n",
    "    if file_name in solutions_dict:\n",
    "        same_colors = file['num_colors'] == solutions_dict[file_name]['num_colors']\n",
    "        same_detections = file['num_detections'] == solutions_dict[file_name]['num_detections']\n",
    "        if (same_detections):\n",
    "            passed_tests += 1\n",
    "            print(f\"[PASS] {file_name}\")\n",
    "        else:\n",
    "            print(f\"[FAIL] {file_name}\")\n",
    "    else:\n",
    "        total_tests -= 1\n",
    "        print(f\"{file_name}: Not found in solutions\")\n",
    "\n",
    "print(f\"\\n[SCORE] {passed_tests}/{total_tests}\")"
   ]
  }
 ],
 "metadata": {
  "kernelspec": {
   "display_name": "Python 3",
   "language": "python",
   "name": "python3"
  },
  "language_info": {
   "codemirror_mode": {
    "name": "ipython",
    "version": 3
   },
   "file_extension": ".py",
   "mimetype": "text/x-python",
   "name": "python",
   "nbconvert_exporter": "python",
   "pygments_lexer": "ipython3",
   "version": "3.10.10"
  }
 },
 "nbformat": 4,
 "nbformat_minor": 2
}
