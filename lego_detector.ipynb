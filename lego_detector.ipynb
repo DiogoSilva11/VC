{
 "cells": [
  {
   "cell_type": "markdown",
   "metadata": {},
   "source": [
    "### Libraries"
   ]
  },
  {
   "cell_type": "code",
   "execution_count": 1,
   "metadata": {},
   "outputs": [],
   "source": [
    "# import libraries\n",
    "\n",
    "import cv2\n",
    "import os\n",
    "import json\n",
    "import numpy as np"
   ]
  },
  {
   "cell_type": "markdown",
   "metadata": {},
   "source": [
    "### Data directory"
   ]
  },
  {
   "cell_type": "code",
   "execution_count": 2,
   "metadata": {},
   "outputs": [],
   "source": [
    "# main paths\n",
    "\n",
    "images_dir = './samples'\n",
    "input = 'input.json'\n",
    "output = 'output.json'"
   ]
  },
  {
   "cell_type": "markdown",
   "metadata": {},
   "source": [
    "### Input file"
   ]
  },
  {
   "cell_type": "code",
   "execution_count": 27,
   "metadata": {},
   "outputs": [],
   "source": [
    "# open an image\n",
    "\n",
    "with open(input, 'r') as json_file:\n",
    "    data = json.load(json_file)\n",
    "\n",
    "image_paths = data['image_files']\n",
    "image_index = 40\n",
    "\n",
    "original_image = cv2.imread(os.path.join(images_dir, image_paths[image_index]))\n",
    "original_image = cv2.resize(original_image, (0, 0), fx = 0.15, fy = 0.15)\n",
    "\n",
    "cv2.imshow('Original', original_image)\n",
    "cv2.waitKey(0)\n",
    "cv2.destroyAllWindows()"
   ]
  },
  {
   "cell_type": "code",
   "execution_count": 28,
   "metadata": {},
   "outputs": [],
   "source": [
    "# gray and hsv versions\n",
    "\n",
    "gray_image = cv2.cvtColor(original_image, cv2.COLOR_BGR2GRAY)\n",
    "\n",
    "hsv_image = cv2.cvtColor(original_image, cv2.COLOR_BGR2HSV)\n",
    "\n",
    "cv2.imshow('Gray', gray_image)\n",
    "cv2.imshow('HSV', hsv_image)\n",
    "cv2.waitKey(0)\n",
    "cv2.destroyAllWindows()"
   ]
  },
  {
   "cell_type": "markdown",
   "metadata": {},
   "source": [
    "### Lego detection"
   ]
  },
  {
   "cell_type": "code",
   "execution_count": 29,
   "metadata": {},
   "outputs": [
    {
     "name": "stdout",
     "output_type": "stream",
     "text": [
      "Number of LEGO pieces detected: 120\n"
     ]
    }
   ],
   "source": [
    "image = original_image.copy()\n",
    "gray = gray_image.copy()\n",
    "hsv = hsv_image.copy()\n",
    "\n",
    "hsv_flattened = hsv.reshape((-1, 3))\n",
    "hsv_flattened = hsv_flattened[hsv_flattened[:, 2] > 0]\n",
    "background_color = np.median(hsv_flattened, axis=0)\n",
    "\n",
    "hue_tolerance = 105\n",
    "saturation_tolerance = 105\n",
    "value_tolerance = 105\n",
    "\n",
    "lower_limit_0 = max(background_color[0] - hue_tolerance, 0)\n",
    "upper_limit_0 = min(background_color[0] + hue_tolerance, 180)\n",
    "lower_limit_1 = max(background_color[1] - saturation_tolerance, 0)\n",
    "upper_limit_1 = min(background_color[1] + saturation_tolerance, 255)\n",
    "lower_limit_2 = max(background_color[2] - value_tolerance, 0)\n",
    "upper_limit_2 = min(background_color[2] + value_tolerance, 255)\n",
    "\n",
    "lower_background = np.array([lower_limit_0, lower_limit_1, lower_limit_2])\n",
    "upper_background = np.array([upper_limit_0, upper_limit_1, upper_limit_2])\n",
    "\n",
    "hsv_blur = cv2.GaussianBlur(hsv, (11, 11), 0)\n",
    "gray_mask = cv2.inRange(hsv_blur, lower_background, upper_background)\n",
    "non_gray_mask = cv2.bitwise_not(gray_mask)\n",
    "\n",
    "#clahe = cv2.createCLAHE(clipLimit=8.0, tileGridSize=(16, 16))\n",
    "#clahe_image = clahe.apply(gray)\n",
    "gray_blur = cv2.GaussianBlur(gray, (11, 11), 0)\n",
    "canny = cv2.Canny(gray_blur, 50, 150)\n",
    "\n",
    "combined_mask = cv2.bitwise_or(non_gray_mask, canny)\n",
    "result = cv2.bitwise_and(image, image, mask=combined_mask)\n",
    "\n",
    "contours, _ = cv2.findContours(combined_mask, cv2.RETR_EXTERNAL, cv2.CHAIN_APPROX_SIMPLE)\n",
    "\n",
    "for contour in contours:\n",
    "    x, y, w, h = cv2.boundingRect(contour)\n",
    "    cv2.rectangle(image, (x, y), (x + w, y + h), (255, 0, 0), 2)\n",
    "\n",
    "num_lego_pieces = len(contours)\n",
    "\n",
    "cv2.imshow('Image', image)\n",
    "cv2.imshow('Non-Gray Mask', non_gray_mask)\n",
    "cv2.imshow('Canny', canny)\n",
    "cv2.imshow('Combined Mask', combined_mask)\n",
    "cv2.waitKey(0)\n",
    "cv2.destroyAllWindows()\n",
    "\n",
    "print(\"Number of LEGO pieces detected:\", num_lego_pieces)"
   ]
  },
  {
   "cell_type": "markdown",
   "metadata": {},
   "source": [
    "### Background medium testing"
   ]
  },
  {
   "cell_type": "code",
   "execution_count": 30,
   "metadata": {},
   "outputs": [
    {
     "ename": "error",
     "evalue": "OpenCV(4.9.0) D:\\a\\opencv-python\\opencv-python\\opencv\\modules\\highgui\\src\\window.cpp:866: error: (-215:Assertion failed) trackbar in function 'cv::getTrackbarPos'\n",
     "output_type": "error",
     "traceback": [
      "\u001b[1;31m---------------------------------------------------------------------------\u001b[0m",
      "\u001b[1;31merror\u001b[0m                                     Traceback (most recent call last)",
      "Cell \u001b[1;32mIn[30], line 4\u001b[0m, in \u001b[0;36mupdate_tolerance\u001b[1;34m(*args)\u001b[0m\n\u001b[0;32m      2\u001b[0m \u001b[38;5;28;01mglobal\u001b[39;00m hue_tolerance, saturation_tolerance, value_tolerance\n\u001b[0;32m      3\u001b[0m hue_tolerance \u001b[38;5;241m=\u001b[39m cv2\u001b[38;5;241m.\u001b[39mgetTrackbarPos(\u001b[38;5;124m\"\u001b[39m\u001b[38;5;124mHue\u001b[39m\u001b[38;5;124m\"\u001b[39m, window_name)\n\u001b[1;32m----> 4\u001b[0m saturation_tolerance \u001b[38;5;241m=\u001b[39m \u001b[43mcv2\u001b[49m\u001b[38;5;241;43m.\u001b[39;49m\u001b[43mgetTrackbarPos\u001b[49m\u001b[43m(\u001b[49m\u001b[38;5;124;43m\"\u001b[39;49m\u001b[38;5;124;43mSaturation\u001b[39;49m\u001b[38;5;124;43m\"\u001b[39;49m\u001b[43m,\u001b[49m\u001b[43m \u001b[49m\u001b[43mwindow_name\u001b[49m\u001b[43m)\u001b[49m\n\u001b[0;32m      5\u001b[0m value_tolerance \u001b[38;5;241m=\u001b[39m cv2\u001b[38;5;241m.\u001b[39mgetTrackbarPos(\u001b[38;5;124m\"\u001b[39m\u001b[38;5;124mValue\u001b[39m\u001b[38;5;124m\"\u001b[39m, window_name)\n\u001b[0;32m      6\u001b[0m process_image()\n",
      "\u001b[1;31merror\u001b[0m: OpenCV(4.9.0) D:\\a\\opencv-python\\opencv-python\\opencv\\modules\\highgui\\src\\window.cpp:866: error: (-215:Assertion failed) trackbar in function 'cv::getTrackbarPos'\n"
     ]
    },
    {
     "ename": "error",
     "evalue": "OpenCV(4.9.0) D:\\a\\opencv-python\\opencv-python\\opencv\\modules\\highgui\\src\\window.cpp:866: error: (-215:Assertion failed) trackbar in function 'cv::getTrackbarPos'\n",
     "output_type": "error",
     "traceback": [
      "\u001b[1;31m---------------------------------------------------------------------------\u001b[0m",
      "\u001b[1;31merror\u001b[0m                                     Traceback (most recent call last)",
      "Cell \u001b[1;32mIn[30], line 5\u001b[0m, in \u001b[0;36mupdate_tolerance\u001b[1;34m(*args)\u001b[0m\n\u001b[0;32m      3\u001b[0m hue_tolerance \u001b[38;5;241m=\u001b[39m cv2\u001b[38;5;241m.\u001b[39mgetTrackbarPos(\u001b[38;5;124m\"\u001b[39m\u001b[38;5;124mHue\u001b[39m\u001b[38;5;124m\"\u001b[39m, window_name)\n\u001b[0;32m      4\u001b[0m saturation_tolerance \u001b[38;5;241m=\u001b[39m cv2\u001b[38;5;241m.\u001b[39mgetTrackbarPos(\u001b[38;5;124m\"\u001b[39m\u001b[38;5;124mSaturation\u001b[39m\u001b[38;5;124m\"\u001b[39m, window_name)\n\u001b[1;32m----> 5\u001b[0m value_tolerance \u001b[38;5;241m=\u001b[39m \u001b[43mcv2\u001b[49m\u001b[38;5;241;43m.\u001b[39;49m\u001b[43mgetTrackbarPos\u001b[49m\u001b[43m(\u001b[49m\u001b[38;5;124;43m\"\u001b[39;49m\u001b[38;5;124;43mValue\u001b[39;49m\u001b[38;5;124;43m\"\u001b[39;49m\u001b[43m,\u001b[49m\u001b[43m \u001b[49m\u001b[43mwindow_name\u001b[49m\u001b[43m)\u001b[49m\n\u001b[0;32m      6\u001b[0m process_image()\n",
      "\u001b[1;31merror\u001b[0m: OpenCV(4.9.0) D:\\a\\opencv-python\\opencv-python\\opencv\\modules\\highgui\\src\\window.cpp:866: error: (-215:Assertion failed) trackbar in function 'cv::getTrackbarPos'\n"
     ]
    },
    {
     "ename": "error",
     "evalue": "OpenCV(4.9.0) D:\\a\\opencv-python\\opencv-python\\opencv\\modules\\core\\src\\arithm.cpp:1782: error: (-215:Assertion failed) lb.type() == ub.type() in function 'cv::inRange'\n",
     "output_type": "error",
     "traceback": [
      "\u001b[1;31m---------------------------------------------------------------------------\u001b[0m",
      "\u001b[1;31merror\u001b[0m                                     Traceback (most recent call last)",
      "Cell \u001b[1;32mIn[30], line 6\u001b[0m, in \u001b[0;36mupdate_tolerance\u001b[1;34m(*args)\u001b[0m\n\u001b[0;32m      4\u001b[0m saturation_tolerance \u001b[38;5;241m=\u001b[39m cv2\u001b[38;5;241m.\u001b[39mgetTrackbarPos(\u001b[38;5;124m\"\u001b[39m\u001b[38;5;124mSaturation\u001b[39m\u001b[38;5;124m\"\u001b[39m, window_name)\n\u001b[0;32m      5\u001b[0m value_tolerance \u001b[38;5;241m=\u001b[39m cv2\u001b[38;5;241m.\u001b[39mgetTrackbarPos(\u001b[38;5;124m\"\u001b[39m\u001b[38;5;124mValue\u001b[39m\u001b[38;5;124m\"\u001b[39m, window_name)\n\u001b[1;32m----> 6\u001b[0m \u001b[43mprocess_image\u001b[49m\u001b[43m(\u001b[49m\u001b[43m)\u001b[49m\n",
      "Cell \u001b[1;32mIn[30], line 21\u001b[0m, in \u001b[0;36mprocess_image\u001b[1;34m()\u001b[0m\n\u001b[0;32m     17\u001b[0m upper_background \u001b[38;5;241m=\u001b[39m np\u001b[38;5;241m.\u001b[39marray([upper_limit_0, upper_limit_1, upper_limit_2])\n\u001b[0;32m     19\u001b[0m blur \u001b[38;5;241m=\u001b[39m cv2\u001b[38;5;241m.\u001b[39mGaussianBlur(hsv, (\u001b[38;5;241m11\u001b[39m, \u001b[38;5;241m11\u001b[39m), \u001b[38;5;241m0\u001b[39m)\n\u001b[1;32m---> 21\u001b[0m gray_mask \u001b[38;5;241m=\u001b[39m \u001b[43mcv2\u001b[49m\u001b[38;5;241;43m.\u001b[39;49m\u001b[43minRange\u001b[49m\u001b[43m(\u001b[49m\u001b[43mblur\u001b[49m\u001b[43m,\u001b[49m\u001b[43m \u001b[49m\u001b[43mlower_background\u001b[49m\u001b[43m,\u001b[49m\u001b[43m \u001b[49m\u001b[43mupper_background\u001b[49m\u001b[43m)\u001b[49m\n\u001b[0;32m     22\u001b[0m non_gray_mask \u001b[38;5;241m=\u001b[39m cv2\u001b[38;5;241m.\u001b[39mbitwise_not(gray_mask)\n\u001b[0;32m     24\u001b[0m result \u001b[38;5;241m=\u001b[39m cv2\u001b[38;5;241m.\u001b[39mbitwise_and(image, image, mask\u001b[38;5;241m=\u001b[39mnon_gray_mask)\n",
      "\u001b[1;31merror\u001b[0m: OpenCV(4.9.0) D:\\a\\opencv-python\\opencv-python\\opencv\\modules\\core\\src\\arithm.cpp:1782: error: (-215:Assertion failed) lb.type() == ub.type() in function 'cv::inRange'\n"
     ]
    },
    {
     "ename": "error",
     "evalue": "OpenCV(4.9.0) D:\\a\\opencv-python\\opencv-python\\opencv\\modules\\core\\src\\arithm.cpp:1782: error: (-215:Assertion failed) lb.type() == ub.type() in function 'cv::inRange'\n",
     "output_type": "error",
     "traceback": [
      "\u001b[1;31m---------------------------------------------------------------------------\u001b[0m",
      "\u001b[1;31merror\u001b[0m                                     Traceback (most recent call last)",
      "Cell \u001b[1;32mIn[30], line 6\u001b[0m, in \u001b[0;36mupdate_tolerance\u001b[1;34m(*args)\u001b[0m\n\u001b[0;32m      4\u001b[0m saturation_tolerance \u001b[38;5;241m=\u001b[39m cv2\u001b[38;5;241m.\u001b[39mgetTrackbarPos(\u001b[38;5;124m\"\u001b[39m\u001b[38;5;124mSaturation\u001b[39m\u001b[38;5;124m\"\u001b[39m, window_name)\n\u001b[0;32m      5\u001b[0m value_tolerance \u001b[38;5;241m=\u001b[39m cv2\u001b[38;5;241m.\u001b[39mgetTrackbarPos(\u001b[38;5;124m\"\u001b[39m\u001b[38;5;124mValue\u001b[39m\u001b[38;5;124m\"\u001b[39m, window_name)\n\u001b[1;32m----> 6\u001b[0m \u001b[43mprocess_image\u001b[49m\u001b[43m(\u001b[49m\u001b[43m)\u001b[49m\n",
      "Cell \u001b[1;32mIn[30], line 21\u001b[0m, in \u001b[0;36mprocess_image\u001b[1;34m()\u001b[0m\n\u001b[0;32m     17\u001b[0m upper_background \u001b[38;5;241m=\u001b[39m np\u001b[38;5;241m.\u001b[39marray([upper_limit_0, upper_limit_1, upper_limit_2])\n\u001b[0;32m     19\u001b[0m blur \u001b[38;5;241m=\u001b[39m cv2\u001b[38;5;241m.\u001b[39mGaussianBlur(hsv, (\u001b[38;5;241m11\u001b[39m, \u001b[38;5;241m11\u001b[39m), \u001b[38;5;241m0\u001b[39m)\n\u001b[1;32m---> 21\u001b[0m gray_mask \u001b[38;5;241m=\u001b[39m \u001b[43mcv2\u001b[49m\u001b[38;5;241;43m.\u001b[39;49m\u001b[43minRange\u001b[49m\u001b[43m(\u001b[49m\u001b[43mblur\u001b[49m\u001b[43m,\u001b[49m\u001b[43m \u001b[49m\u001b[43mlower_background\u001b[49m\u001b[43m,\u001b[49m\u001b[43m \u001b[49m\u001b[43mupper_background\u001b[49m\u001b[43m)\u001b[49m\n\u001b[0;32m     22\u001b[0m non_gray_mask \u001b[38;5;241m=\u001b[39m cv2\u001b[38;5;241m.\u001b[39mbitwise_not(gray_mask)\n\u001b[0;32m     24\u001b[0m result \u001b[38;5;241m=\u001b[39m cv2\u001b[38;5;241m.\u001b[39mbitwise_and(image, image, mask\u001b[38;5;241m=\u001b[39mnon_gray_mask)\n",
      "\u001b[1;31merror\u001b[0m: OpenCV(4.9.0) D:\\a\\opencv-python\\opencv-python\\opencv\\modules\\core\\src\\arithm.cpp:1782: error: (-215:Assertion failed) lb.type() == ub.type() in function 'cv::inRange'\n"
     ]
    },
    {
     "ename": "error",
     "evalue": "OpenCV(4.9.0) D:\\a\\opencv-python\\opencv-python\\opencv\\modules\\core\\src\\arithm.cpp:1782: error: (-215:Assertion failed) lb.type() == ub.type() in function 'cv::inRange'\n",
     "output_type": "error",
     "traceback": [
      "\u001b[1;31m---------------------------------------------------------------------------\u001b[0m",
      "\u001b[1;31merror\u001b[0m                                     Traceback (most recent call last)",
      "Cell \u001b[1;32mIn[30], line 6\u001b[0m, in \u001b[0;36mupdate_tolerance\u001b[1;34m(*args)\u001b[0m\n\u001b[0;32m      4\u001b[0m saturation_tolerance \u001b[38;5;241m=\u001b[39m cv2\u001b[38;5;241m.\u001b[39mgetTrackbarPos(\u001b[38;5;124m\"\u001b[39m\u001b[38;5;124mSaturation\u001b[39m\u001b[38;5;124m\"\u001b[39m, window_name)\n\u001b[0;32m      5\u001b[0m value_tolerance \u001b[38;5;241m=\u001b[39m cv2\u001b[38;5;241m.\u001b[39mgetTrackbarPos(\u001b[38;5;124m\"\u001b[39m\u001b[38;5;124mValue\u001b[39m\u001b[38;5;124m\"\u001b[39m, window_name)\n\u001b[1;32m----> 6\u001b[0m \u001b[43mprocess_image\u001b[49m\u001b[43m(\u001b[49m\u001b[43m)\u001b[49m\n",
      "Cell \u001b[1;32mIn[30], line 21\u001b[0m, in \u001b[0;36mprocess_image\u001b[1;34m()\u001b[0m\n\u001b[0;32m     17\u001b[0m upper_background \u001b[38;5;241m=\u001b[39m np\u001b[38;5;241m.\u001b[39marray([upper_limit_0, upper_limit_1, upper_limit_2])\n\u001b[0;32m     19\u001b[0m blur \u001b[38;5;241m=\u001b[39m cv2\u001b[38;5;241m.\u001b[39mGaussianBlur(hsv, (\u001b[38;5;241m11\u001b[39m, \u001b[38;5;241m11\u001b[39m), \u001b[38;5;241m0\u001b[39m)\n\u001b[1;32m---> 21\u001b[0m gray_mask \u001b[38;5;241m=\u001b[39m \u001b[43mcv2\u001b[49m\u001b[38;5;241;43m.\u001b[39;49m\u001b[43minRange\u001b[49m\u001b[43m(\u001b[49m\u001b[43mblur\u001b[49m\u001b[43m,\u001b[49m\u001b[43m \u001b[49m\u001b[43mlower_background\u001b[49m\u001b[43m,\u001b[49m\u001b[43m \u001b[49m\u001b[43mupper_background\u001b[49m\u001b[43m)\u001b[49m\n\u001b[0;32m     22\u001b[0m non_gray_mask \u001b[38;5;241m=\u001b[39m cv2\u001b[38;5;241m.\u001b[39mbitwise_not(gray_mask)\n\u001b[0;32m     24\u001b[0m result \u001b[38;5;241m=\u001b[39m cv2\u001b[38;5;241m.\u001b[39mbitwise_and(image, image, mask\u001b[38;5;241m=\u001b[39mnon_gray_mask)\n",
      "\u001b[1;31merror\u001b[0m: OpenCV(4.9.0) D:\\a\\opencv-python\\opencv-python\\opencv\\modules\\core\\src\\arithm.cpp:1782: error: (-215:Assertion failed) lb.type() == ub.type() in function 'cv::inRange'\n"
     ]
    },
    {
     "ename": "error",
     "evalue": "OpenCV(4.9.0) D:\\a\\opencv-python\\opencv-python\\opencv\\modules\\core\\src\\arithm.cpp:1782: error: (-215:Assertion failed) lb.type() == ub.type() in function 'cv::inRange'\n",
     "output_type": "error",
     "traceback": [
      "\u001b[1;31m---------------------------------------------------------------------------\u001b[0m",
      "\u001b[1;31merror\u001b[0m                                     Traceback (most recent call last)",
      "Cell \u001b[1;32mIn[30], line 6\u001b[0m, in \u001b[0;36mupdate_tolerance\u001b[1;34m(*args)\u001b[0m\n\u001b[0;32m      4\u001b[0m saturation_tolerance \u001b[38;5;241m=\u001b[39m cv2\u001b[38;5;241m.\u001b[39mgetTrackbarPos(\u001b[38;5;124m\"\u001b[39m\u001b[38;5;124mSaturation\u001b[39m\u001b[38;5;124m\"\u001b[39m, window_name)\n\u001b[0;32m      5\u001b[0m value_tolerance \u001b[38;5;241m=\u001b[39m cv2\u001b[38;5;241m.\u001b[39mgetTrackbarPos(\u001b[38;5;124m\"\u001b[39m\u001b[38;5;124mValue\u001b[39m\u001b[38;5;124m\"\u001b[39m, window_name)\n\u001b[1;32m----> 6\u001b[0m \u001b[43mprocess_image\u001b[49m\u001b[43m(\u001b[49m\u001b[43m)\u001b[49m\n",
      "Cell \u001b[1;32mIn[30], line 21\u001b[0m, in \u001b[0;36mprocess_image\u001b[1;34m()\u001b[0m\n\u001b[0;32m     17\u001b[0m upper_background \u001b[38;5;241m=\u001b[39m np\u001b[38;5;241m.\u001b[39marray([upper_limit_0, upper_limit_1, upper_limit_2])\n\u001b[0;32m     19\u001b[0m blur \u001b[38;5;241m=\u001b[39m cv2\u001b[38;5;241m.\u001b[39mGaussianBlur(hsv, (\u001b[38;5;241m11\u001b[39m, \u001b[38;5;241m11\u001b[39m), \u001b[38;5;241m0\u001b[39m)\n\u001b[1;32m---> 21\u001b[0m gray_mask \u001b[38;5;241m=\u001b[39m \u001b[43mcv2\u001b[49m\u001b[38;5;241;43m.\u001b[39;49m\u001b[43minRange\u001b[49m\u001b[43m(\u001b[49m\u001b[43mblur\u001b[49m\u001b[43m,\u001b[49m\u001b[43m \u001b[49m\u001b[43mlower_background\u001b[49m\u001b[43m,\u001b[49m\u001b[43m \u001b[49m\u001b[43mupper_background\u001b[49m\u001b[43m)\u001b[49m\n\u001b[0;32m     22\u001b[0m non_gray_mask \u001b[38;5;241m=\u001b[39m cv2\u001b[38;5;241m.\u001b[39mbitwise_not(gray_mask)\n\u001b[0;32m     24\u001b[0m result \u001b[38;5;241m=\u001b[39m cv2\u001b[38;5;241m.\u001b[39mbitwise_and(image, image, mask\u001b[38;5;241m=\u001b[39mnon_gray_mask)\n",
      "\u001b[1;31merror\u001b[0m: OpenCV(4.9.0) D:\\a\\opencv-python\\opencv-python\\opencv\\modules\\core\\src\\arithm.cpp:1782: error: (-215:Assertion failed) lb.type() == ub.type() in function 'cv::inRange'\n"
     ]
    },
    {
     "ename": "error",
     "evalue": "OpenCV(4.9.0) D:\\a\\opencv-python\\opencv-python\\opencv\\modules\\core\\src\\arithm.cpp:1782: error: (-215:Assertion failed) lb.type() == ub.type() in function 'cv::inRange'\n",
     "output_type": "error",
     "traceback": [
      "\u001b[1;31m---------------------------------------------------------------------------\u001b[0m",
      "\u001b[1;31merror\u001b[0m                                     Traceback (most recent call last)",
      "Cell \u001b[1;32mIn[30], line 6\u001b[0m, in \u001b[0;36mupdate_tolerance\u001b[1;34m(*args)\u001b[0m\n\u001b[0;32m      4\u001b[0m saturation_tolerance \u001b[38;5;241m=\u001b[39m cv2\u001b[38;5;241m.\u001b[39mgetTrackbarPos(\u001b[38;5;124m\"\u001b[39m\u001b[38;5;124mSaturation\u001b[39m\u001b[38;5;124m\"\u001b[39m, window_name)\n\u001b[0;32m      5\u001b[0m value_tolerance \u001b[38;5;241m=\u001b[39m cv2\u001b[38;5;241m.\u001b[39mgetTrackbarPos(\u001b[38;5;124m\"\u001b[39m\u001b[38;5;124mValue\u001b[39m\u001b[38;5;124m\"\u001b[39m, window_name)\n\u001b[1;32m----> 6\u001b[0m \u001b[43mprocess_image\u001b[49m\u001b[43m(\u001b[49m\u001b[43m)\u001b[49m\n",
      "Cell \u001b[1;32mIn[30], line 21\u001b[0m, in \u001b[0;36mprocess_image\u001b[1;34m()\u001b[0m\n\u001b[0;32m     17\u001b[0m upper_background \u001b[38;5;241m=\u001b[39m np\u001b[38;5;241m.\u001b[39marray([upper_limit_0, upper_limit_1, upper_limit_2])\n\u001b[0;32m     19\u001b[0m blur \u001b[38;5;241m=\u001b[39m cv2\u001b[38;5;241m.\u001b[39mGaussianBlur(hsv, (\u001b[38;5;241m11\u001b[39m, \u001b[38;5;241m11\u001b[39m), \u001b[38;5;241m0\u001b[39m)\n\u001b[1;32m---> 21\u001b[0m gray_mask \u001b[38;5;241m=\u001b[39m \u001b[43mcv2\u001b[49m\u001b[38;5;241;43m.\u001b[39;49m\u001b[43minRange\u001b[49m\u001b[43m(\u001b[49m\u001b[43mblur\u001b[49m\u001b[43m,\u001b[49m\u001b[43m \u001b[49m\u001b[43mlower_background\u001b[49m\u001b[43m,\u001b[49m\u001b[43m \u001b[49m\u001b[43mupper_background\u001b[49m\u001b[43m)\u001b[49m\n\u001b[0;32m     22\u001b[0m non_gray_mask \u001b[38;5;241m=\u001b[39m cv2\u001b[38;5;241m.\u001b[39mbitwise_not(gray_mask)\n\u001b[0;32m     24\u001b[0m result \u001b[38;5;241m=\u001b[39m cv2\u001b[38;5;241m.\u001b[39mbitwise_and(image, image, mask\u001b[38;5;241m=\u001b[39mnon_gray_mask)\n",
      "\u001b[1;31merror\u001b[0m: OpenCV(4.9.0) D:\\a\\opencv-python\\opencv-python\\opencv\\modules\\core\\src\\arithm.cpp:1782: error: (-215:Assertion failed) lb.type() == ub.type() in function 'cv::inRange'\n"
     ]
    },
    {
     "ename": "error",
     "evalue": "OpenCV(4.9.0) D:\\a\\opencv-python\\opencv-python\\opencv\\modules\\core\\src\\arithm.cpp:1782: error: (-215:Assertion failed) lb.type() == ub.type() in function 'cv::inRange'\n",
     "output_type": "error",
     "traceback": [
      "\u001b[1;31m---------------------------------------------------------------------------\u001b[0m",
      "\u001b[1;31merror\u001b[0m                                     Traceback (most recent call last)",
      "Cell \u001b[1;32mIn[30], line 6\u001b[0m, in \u001b[0;36mupdate_tolerance\u001b[1;34m(*args)\u001b[0m\n\u001b[0;32m      4\u001b[0m saturation_tolerance \u001b[38;5;241m=\u001b[39m cv2\u001b[38;5;241m.\u001b[39mgetTrackbarPos(\u001b[38;5;124m\"\u001b[39m\u001b[38;5;124mSaturation\u001b[39m\u001b[38;5;124m\"\u001b[39m, window_name)\n\u001b[0;32m      5\u001b[0m value_tolerance \u001b[38;5;241m=\u001b[39m cv2\u001b[38;5;241m.\u001b[39mgetTrackbarPos(\u001b[38;5;124m\"\u001b[39m\u001b[38;5;124mValue\u001b[39m\u001b[38;5;124m\"\u001b[39m, window_name)\n\u001b[1;32m----> 6\u001b[0m \u001b[43mprocess_image\u001b[49m\u001b[43m(\u001b[49m\u001b[43m)\u001b[49m\n",
      "Cell \u001b[1;32mIn[30], line 21\u001b[0m, in \u001b[0;36mprocess_image\u001b[1;34m()\u001b[0m\n\u001b[0;32m     17\u001b[0m upper_background \u001b[38;5;241m=\u001b[39m np\u001b[38;5;241m.\u001b[39marray([upper_limit_0, upper_limit_1, upper_limit_2])\n\u001b[0;32m     19\u001b[0m blur \u001b[38;5;241m=\u001b[39m cv2\u001b[38;5;241m.\u001b[39mGaussianBlur(hsv, (\u001b[38;5;241m11\u001b[39m, \u001b[38;5;241m11\u001b[39m), \u001b[38;5;241m0\u001b[39m)\n\u001b[1;32m---> 21\u001b[0m gray_mask \u001b[38;5;241m=\u001b[39m \u001b[43mcv2\u001b[49m\u001b[38;5;241;43m.\u001b[39;49m\u001b[43minRange\u001b[49m\u001b[43m(\u001b[49m\u001b[43mblur\u001b[49m\u001b[43m,\u001b[49m\u001b[43m \u001b[49m\u001b[43mlower_background\u001b[49m\u001b[43m,\u001b[49m\u001b[43m \u001b[49m\u001b[43mupper_background\u001b[49m\u001b[43m)\u001b[49m\n\u001b[0;32m     22\u001b[0m non_gray_mask \u001b[38;5;241m=\u001b[39m cv2\u001b[38;5;241m.\u001b[39mbitwise_not(gray_mask)\n\u001b[0;32m     24\u001b[0m result \u001b[38;5;241m=\u001b[39m cv2\u001b[38;5;241m.\u001b[39mbitwise_and(image, image, mask\u001b[38;5;241m=\u001b[39mnon_gray_mask)\n",
      "\u001b[1;31merror\u001b[0m: OpenCV(4.9.0) D:\\a\\opencv-python\\opencv-python\\opencv\\modules\\core\\src\\arithm.cpp:1782: error: (-215:Assertion failed) lb.type() == ub.type() in function 'cv::inRange'\n"
     ]
    },
    {
     "ename": "error",
     "evalue": "OpenCV(4.9.0) D:\\a\\opencv-python\\opencv-python\\opencv\\modules\\core\\src\\arithm.cpp:1782: error: (-215:Assertion failed) lb.type() == ub.type() in function 'cv::inRange'\n",
     "output_type": "error",
     "traceback": [
      "\u001b[1;31m---------------------------------------------------------------------------\u001b[0m",
      "\u001b[1;31merror\u001b[0m                                     Traceback (most recent call last)",
      "Cell \u001b[1;32mIn[30], line 6\u001b[0m, in \u001b[0;36mupdate_tolerance\u001b[1;34m(*args)\u001b[0m\n\u001b[0;32m      4\u001b[0m saturation_tolerance \u001b[38;5;241m=\u001b[39m cv2\u001b[38;5;241m.\u001b[39mgetTrackbarPos(\u001b[38;5;124m\"\u001b[39m\u001b[38;5;124mSaturation\u001b[39m\u001b[38;5;124m\"\u001b[39m, window_name)\n\u001b[0;32m      5\u001b[0m value_tolerance \u001b[38;5;241m=\u001b[39m cv2\u001b[38;5;241m.\u001b[39mgetTrackbarPos(\u001b[38;5;124m\"\u001b[39m\u001b[38;5;124mValue\u001b[39m\u001b[38;5;124m\"\u001b[39m, window_name)\n\u001b[1;32m----> 6\u001b[0m \u001b[43mprocess_image\u001b[49m\u001b[43m(\u001b[49m\u001b[43m)\u001b[49m\n",
      "Cell \u001b[1;32mIn[30], line 21\u001b[0m, in \u001b[0;36mprocess_image\u001b[1;34m()\u001b[0m\n\u001b[0;32m     17\u001b[0m upper_background \u001b[38;5;241m=\u001b[39m np\u001b[38;5;241m.\u001b[39marray([upper_limit_0, upper_limit_1, upper_limit_2])\n\u001b[0;32m     19\u001b[0m blur \u001b[38;5;241m=\u001b[39m cv2\u001b[38;5;241m.\u001b[39mGaussianBlur(hsv, (\u001b[38;5;241m11\u001b[39m, \u001b[38;5;241m11\u001b[39m), \u001b[38;5;241m0\u001b[39m)\n\u001b[1;32m---> 21\u001b[0m gray_mask \u001b[38;5;241m=\u001b[39m \u001b[43mcv2\u001b[49m\u001b[38;5;241;43m.\u001b[39;49m\u001b[43minRange\u001b[49m\u001b[43m(\u001b[49m\u001b[43mblur\u001b[49m\u001b[43m,\u001b[49m\u001b[43m \u001b[49m\u001b[43mlower_background\u001b[49m\u001b[43m,\u001b[49m\u001b[43m \u001b[49m\u001b[43mupper_background\u001b[49m\u001b[43m)\u001b[49m\n\u001b[0;32m     22\u001b[0m non_gray_mask \u001b[38;5;241m=\u001b[39m cv2\u001b[38;5;241m.\u001b[39mbitwise_not(gray_mask)\n\u001b[0;32m     24\u001b[0m result \u001b[38;5;241m=\u001b[39m cv2\u001b[38;5;241m.\u001b[39mbitwise_and(image, image, mask\u001b[38;5;241m=\u001b[39mnon_gray_mask)\n",
      "\u001b[1;31merror\u001b[0m: OpenCV(4.9.0) D:\\a\\opencv-python\\opencv-python\\opencv\\modules\\core\\src\\arithm.cpp:1782: error: (-215:Assertion failed) lb.type() == ub.type() in function 'cv::inRange'\n"
     ]
    },
    {
     "ename": "error",
     "evalue": "OpenCV(4.9.0) D:\\a\\opencv-python\\opencv-python\\opencv\\modules\\core\\src\\arithm.cpp:1782: error: (-215:Assertion failed) lb.type() == ub.type() in function 'cv::inRange'\n",
     "output_type": "error",
     "traceback": [
      "\u001b[1;31m---------------------------------------------------------------------------\u001b[0m",
      "\u001b[1;31merror\u001b[0m                                     Traceback (most recent call last)",
      "Cell \u001b[1;32mIn[30], line 6\u001b[0m, in \u001b[0;36mupdate_tolerance\u001b[1;34m(*args)\u001b[0m\n\u001b[0;32m      4\u001b[0m saturation_tolerance \u001b[38;5;241m=\u001b[39m cv2\u001b[38;5;241m.\u001b[39mgetTrackbarPos(\u001b[38;5;124m\"\u001b[39m\u001b[38;5;124mSaturation\u001b[39m\u001b[38;5;124m\"\u001b[39m, window_name)\n\u001b[0;32m      5\u001b[0m value_tolerance \u001b[38;5;241m=\u001b[39m cv2\u001b[38;5;241m.\u001b[39mgetTrackbarPos(\u001b[38;5;124m\"\u001b[39m\u001b[38;5;124mValue\u001b[39m\u001b[38;5;124m\"\u001b[39m, window_name)\n\u001b[1;32m----> 6\u001b[0m \u001b[43mprocess_image\u001b[49m\u001b[43m(\u001b[49m\u001b[43m)\u001b[49m\n",
      "Cell \u001b[1;32mIn[30], line 21\u001b[0m, in \u001b[0;36mprocess_image\u001b[1;34m()\u001b[0m\n\u001b[0;32m     17\u001b[0m upper_background \u001b[38;5;241m=\u001b[39m np\u001b[38;5;241m.\u001b[39marray([upper_limit_0, upper_limit_1, upper_limit_2])\n\u001b[0;32m     19\u001b[0m blur \u001b[38;5;241m=\u001b[39m cv2\u001b[38;5;241m.\u001b[39mGaussianBlur(hsv, (\u001b[38;5;241m11\u001b[39m, \u001b[38;5;241m11\u001b[39m), \u001b[38;5;241m0\u001b[39m)\n\u001b[1;32m---> 21\u001b[0m gray_mask \u001b[38;5;241m=\u001b[39m \u001b[43mcv2\u001b[49m\u001b[38;5;241;43m.\u001b[39;49m\u001b[43minRange\u001b[49m\u001b[43m(\u001b[49m\u001b[43mblur\u001b[49m\u001b[43m,\u001b[49m\u001b[43m \u001b[49m\u001b[43mlower_background\u001b[49m\u001b[43m,\u001b[49m\u001b[43m \u001b[49m\u001b[43mupper_background\u001b[49m\u001b[43m)\u001b[49m\n\u001b[0;32m     22\u001b[0m non_gray_mask \u001b[38;5;241m=\u001b[39m cv2\u001b[38;5;241m.\u001b[39mbitwise_not(gray_mask)\n\u001b[0;32m     24\u001b[0m result \u001b[38;5;241m=\u001b[39m cv2\u001b[38;5;241m.\u001b[39mbitwise_and(image, image, mask\u001b[38;5;241m=\u001b[39mnon_gray_mask)\n",
      "\u001b[1;31merror\u001b[0m: OpenCV(4.9.0) D:\\a\\opencv-python\\opencv-python\\opencv\\modules\\core\\src\\arithm.cpp:1782: error: (-215:Assertion failed) lb.type() == ub.type() in function 'cv::inRange'\n"
     ]
    },
    {
     "ename": "error",
     "evalue": "OpenCV(4.9.0) D:\\a\\opencv-python\\opencv-python\\opencv\\modules\\core\\src\\arithm.cpp:1782: error: (-215:Assertion failed) lb.type() == ub.type() in function 'cv::inRange'\n",
     "output_type": "error",
     "traceback": [
      "\u001b[1;31m---------------------------------------------------------------------------\u001b[0m",
      "\u001b[1;31merror\u001b[0m                                     Traceback (most recent call last)",
      "Cell \u001b[1;32mIn[30], line 6\u001b[0m, in \u001b[0;36mupdate_tolerance\u001b[1;34m(*args)\u001b[0m\n\u001b[0;32m      4\u001b[0m saturation_tolerance \u001b[38;5;241m=\u001b[39m cv2\u001b[38;5;241m.\u001b[39mgetTrackbarPos(\u001b[38;5;124m\"\u001b[39m\u001b[38;5;124mSaturation\u001b[39m\u001b[38;5;124m\"\u001b[39m, window_name)\n\u001b[0;32m      5\u001b[0m value_tolerance \u001b[38;5;241m=\u001b[39m cv2\u001b[38;5;241m.\u001b[39mgetTrackbarPos(\u001b[38;5;124m\"\u001b[39m\u001b[38;5;124mValue\u001b[39m\u001b[38;5;124m\"\u001b[39m, window_name)\n\u001b[1;32m----> 6\u001b[0m \u001b[43mprocess_image\u001b[49m\u001b[43m(\u001b[49m\u001b[43m)\u001b[49m\n",
      "Cell \u001b[1;32mIn[30], line 21\u001b[0m, in \u001b[0;36mprocess_image\u001b[1;34m()\u001b[0m\n\u001b[0;32m     17\u001b[0m upper_background \u001b[38;5;241m=\u001b[39m np\u001b[38;5;241m.\u001b[39marray([upper_limit_0, upper_limit_1, upper_limit_2])\n\u001b[0;32m     19\u001b[0m blur \u001b[38;5;241m=\u001b[39m cv2\u001b[38;5;241m.\u001b[39mGaussianBlur(hsv, (\u001b[38;5;241m11\u001b[39m, \u001b[38;5;241m11\u001b[39m), \u001b[38;5;241m0\u001b[39m)\n\u001b[1;32m---> 21\u001b[0m gray_mask \u001b[38;5;241m=\u001b[39m \u001b[43mcv2\u001b[49m\u001b[38;5;241;43m.\u001b[39;49m\u001b[43minRange\u001b[49m\u001b[43m(\u001b[49m\u001b[43mblur\u001b[49m\u001b[43m,\u001b[49m\u001b[43m \u001b[49m\u001b[43mlower_background\u001b[49m\u001b[43m,\u001b[49m\u001b[43m \u001b[49m\u001b[43mupper_background\u001b[49m\u001b[43m)\u001b[49m\n\u001b[0;32m     22\u001b[0m non_gray_mask \u001b[38;5;241m=\u001b[39m cv2\u001b[38;5;241m.\u001b[39mbitwise_not(gray_mask)\n\u001b[0;32m     24\u001b[0m result \u001b[38;5;241m=\u001b[39m cv2\u001b[38;5;241m.\u001b[39mbitwise_and(image, image, mask\u001b[38;5;241m=\u001b[39mnon_gray_mask)\n",
      "\u001b[1;31merror\u001b[0m: OpenCV(4.9.0) D:\\a\\opencv-python\\opencv-python\\opencv\\modules\\core\\src\\arithm.cpp:1782: error: (-215:Assertion failed) lb.type() == ub.type() in function 'cv::inRange'\n"
     ]
    },
    {
     "ename": "error",
     "evalue": "OpenCV(4.9.0) D:\\a\\opencv-python\\opencv-python\\opencv\\modules\\core\\src\\arithm.cpp:1782: error: (-215:Assertion failed) lb.type() == ub.type() in function 'cv::inRange'\n",
     "output_type": "error",
     "traceback": [
      "\u001b[1;31m---------------------------------------------------------------------------\u001b[0m",
      "\u001b[1;31merror\u001b[0m                                     Traceback (most recent call last)",
      "Cell \u001b[1;32mIn[30], line 6\u001b[0m, in \u001b[0;36mupdate_tolerance\u001b[1;34m(*args)\u001b[0m\n\u001b[0;32m      4\u001b[0m saturation_tolerance \u001b[38;5;241m=\u001b[39m cv2\u001b[38;5;241m.\u001b[39mgetTrackbarPos(\u001b[38;5;124m\"\u001b[39m\u001b[38;5;124mSaturation\u001b[39m\u001b[38;5;124m\"\u001b[39m, window_name)\n\u001b[0;32m      5\u001b[0m value_tolerance \u001b[38;5;241m=\u001b[39m cv2\u001b[38;5;241m.\u001b[39mgetTrackbarPos(\u001b[38;5;124m\"\u001b[39m\u001b[38;5;124mValue\u001b[39m\u001b[38;5;124m\"\u001b[39m, window_name)\n\u001b[1;32m----> 6\u001b[0m \u001b[43mprocess_image\u001b[49m\u001b[43m(\u001b[49m\u001b[43m)\u001b[49m\n",
      "Cell \u001b[1;32mIn[30], line 21\u001b[0m, in \u001b[0;36mprocess_image\u001b[1;34m()\u001b[0m\n\u001b[0;32m     17\u001b[0m upper_background \u001b[38;5;241m=\u001b[39m np\u001b[38;5;241m.\u001b[39marray([upper_limit_0, upper_limit_1, upper_limit_2])\n\u001b[0;32m     19\u001b[0m blur \u001b[38;5;241m=\u001b[39m cv2\u001b[38;5;241m.\u001b[39mGaussianBlur(hsv, (\u001b[38;5;241m11\u001b[39m, \u001b[38;5;241m11\u001b[39m), \u001b[38;5;241m0\u001b[39m)\n\u001b[1;32m---> 21\u001b[0m gray_mask \u001b[38;5;241m=\u001b[39m \u001b[43mcv2\u001b[49m\u001b[38;5;241;43m.\u001b[39;49m\u001b[43minRange\u001b[49m\u001b[43m(\u001b[49m\u001b[43mblur\u001b[49m\u001b[43m,\u001b[49m\u001b[43m \u001b[49m\u001b[43mlower_background\u001b[49m\u001b[43m,\u001b[49m\u001b[43m \u001b[49m\u001b[43mupper_background\u001b[49m\u001b[43m)\u001b[49m\n\u001b[0;32m     22\u001b[0m non_gray_mask \u001b[38;5;241m=\u001b[39m cv2\u001b[38;5;241m.\u001b[39mbitwise_not(gray_mask)\n\u001b[0;32m     24\u001b[0m result \u001b[38;5;241m=\u001b[39m cv2\u001b[38;5;241m.\u001b[39mbitwise_and(image, image, mask\u001b[38;5;241m=\u001b[39mnon_gray_mask)\n",
      "\u001b[1;31merror\u001b[0m: OpenCV(4.9.0) D:\\a\\opencv-python\\opencv-python\\opencv\\modules\\core\\src\\arithm.cpp:1782: error: (-215:Assertion failed) lb.type() == ub.type() in function 'cv::inRange'\n"
     ]
    },
    {
     "ename": "error",
     "evalue": "OpenCV(4.9.0) D:\\a\\opencv-python\\opencv-python\\opencv\\modules\\core\\src\\arithm.cpp:1782: error: (-215:Assertion failed) lb.type() == ub.type() in function 'cv::inRange'\n",
     "output_type": "error",
     "traceback": [
      "\u001b[1;31m---------------------------------------------------------------------------\u001b[0m",
      "\u001b[1;31merror\u001b[0m                                     Traceback (most recent call last)",
      "Cell \u001b[1;32mIn[30], line 6\u001b[0m, in \u001b[0;36mupdate_tolerance\u001b[1;34m(*args)\u001b[0m\n\u001b[0;32m      4\u001b[0m saturation_tolerance \u001b[38;5;241m=\u001b[39m cv2\u001b[38;5;241m.\u001b[39mgetTrackbarPos(\u001b[38;5;124m\"\u001b[39m\u001b[38;5;124mSaturation\u001b[39m\u001b[38;5;124m\"\u001b[39m, window_name)\n\u001b[0;32m      5\u001b[0m value_tolerance \u001b[38;5;241m=\u001b[39m cv2\u001b[38;5;241m.\u001b[39mgetTrackbarPos(\u001b[38;5;124m\"\u001b[39m\u001b[38;5;124mValue\u001b[39m\u001b[38;5;124m\"\u001b[39m, window_name)\n\u001b[1;32m----> 6\u001b[0m \u001b[43mprocess_image\u001b[49m\u001b[43m(\u001b[49m\u001b[43m)\u001b[49m\n",
      "Cell \u001b[1;32mIn[30], line 21\u001b[0m, in \u001b[0;36mprocess_image\u001b[1;34m()\u001b[0m\n\u001b[0;32m     17\u001b[0m upper_background \u001b[38;5;241m=\u001b[39m np\u001b[38;5;241m.\u001b[39marray([upper_limit_0, upper_limit_1, upper_limit_2])\n\u001b[0;32m     19\u001b[0m blur \u001b[38;5;241m=\u001b[39m cv2\u001b[38;5;241m.\u001b[39mGaussianBlur(hsv, (\u001b[38;5;241m11\u001b[39m, \u001b[38;5;241m11\u001b[39m), \u001b[38;5;241m0\u001b[39m)\n\u001b[1;32m---> 21\u001b[0m gray_mask \u001b[38;5;241m=\u001b[39m \u001b[43mcv2\u001b[49m\u001b[38;5;241;43m.\u001b[39;49m\u001b[43minRange\u001b[49m\u001b[43m(\u001b[49m\u001b[43mblur\u001b[49m\u001b[43m,\u001b[49m\u001b[43m \u001b[49m\u001b[43mlower_background\u001b[49m\u001b[43m,\u001b[49m\u001b[43m \u001b[49m\u001b[43mupper_background\u001b[49m\u001b[43m)\u001b[49m\n\u001b[0;32m     22\u001b[0m non_gray_mask \u001b[38;5;241m=\u001b[39m cv2\u001b[38;5;241m.\u001b[39mbitwise_not(gray_mask)\n\u001b[0;32m     24\u001b[0m result \u001b[38;5;241m=\u001b[39m cv2\u001b[38;5;241m.\u001b[39mbitwise_and(image, image, mask\u001b[38;5;241m=\u001b[39mnon_gray_mask)\n",
      "\u001b[1;31merror\u001b[0m: OpenCV(4.9.0) D:\\a\\opencv-python\\opencv-python\\opencv\\modules\\core\\src\\arithm.cpp:1782: error: (-215:Assertion failed) lb.type() == ub.type() in function 'cv::inRange'\n"
     ]
    },
    {
     "ename": "error",
     "evalue": "OpenCV(4.9.0) D:\\a\\opencv-python\\opencv-python\\opencv\\modules\\core\\src\\arithm.cpp:1782: error: (-215:Assertion failed) lb.type() == ub.type() in function 'cv::inRange'\n",
     "output_type": "error",
     "traceback": [
      "\u001b[1;31m---------------------------------------------------------------------------\u001b[0m",
      "\u001b[1;31merror\u001b[0m                                     Traceback (most recent call last)",
      "Cell \u001b[1;32mIn[30], line 6\u001b[0m, in \u001b[0;36mupdate_tolerance\u001b[1;34m(*args)\u001b[0m\n\u001b[0;32m      4\u001b[0m saturation_tolerance \u001b[38;5;241m=\u001b[39m cv2\u001b[38;5;241m.\u001b[39mgetTrackbarPos(\u001b[38;5;124m\"\u001b[39m\u001b[38;5;124mSaturation\u001b[39m\u001b[38;5;124m\"\u001b[39m, window_name)\n\u001b[0;32m      5\u001b[0m value_tolerance \u001b[38;5;241m=\u001b[39m cv2\u001b[38;5;241m.\u001b[39mgetTrackbarPos(\u001b[38;5;124m\"\u001b[39m\u001b[38;5;124mValue\u001b[39m\u001b[38;5;124m\"\u001b[39m, window_name)\n\u001b[1;32m----> 6\u001b[0m \u001b[43mprocess_image\u001b[49m\u001b[43m(\u001b[49m\u001b[43m)\u001b[49m\n",
      "Cell \u001b[1;32mIn[30], line 21\u001b[0m, in \u001b[0;36mprocess_image\u001b[1;34m()\u001b[0m\n\u001b[0;32m     17\u001b[0m upper_background \u001b[38;5;241m=\u001b[39m np\u001b[38;5;241m.\u001b[39marray([upper_limit_0, upper_limit_1, upper_limit_2])\n\u001b[0;32m     19\u001b[0m blur \u001b[38;5;241m=\u001b[39m cv2\u001b[38;5;241m.\u001b[39mGaussianBlur(hsv, (\u001b[38;5;241m11\u001b[39m, \u001b[38;5;241m11\u001b[39m), \u001b[38;5;241m0\u001b[39m)\n\u001b[1;32m---> 21\u001b[0m gray_mask \u001b[38;5;241m=\u001b[39m \u001b[43mcv2\u001b[49m\u001b[38;5;241;43m.\u001b[39;49m\u001b[43minRange\u001b[49m\u001b[43m(\u001b[49m\u001b[43mblur\u001b[49m\u001b[43m,\u001b[49m\u001b[43m \u001b[49m\u001b[43mlower_background\u001b[49m\u001b[43m,\u001b[49m\u001b[43m \u001b[49m\u001b[43mupper_background\u001b[49m\u001b[43m)\u001b[49m\n\u001b[0;32m     22\u001b[0m non_gray_mask \u001b[38;5;241m=\u001b[39m cv2\u001b[38;5;241m.\u001b[39mbitwise_not(gray_mask)\n\u001b[0;32m     24\u001b[0m result \u001b[38;5;241m=\u001b[39m cv2\u001b[38;5;241m.\u001b[39mbitwise_and(image, image, mask\u001b[38;5;241m=\u001b[39mnon_gray_mask)\n",
      "\u001b[1;31merror\u001b[0m: OpenCV(4.9.0) D:\\a\\opencv-python\\opencv-python\\opencv\\modules\\core\\src\\arithm.cpp:1782: error: (-215:Assertion failed) lb.type() == ub.type() in function 'cv::inRange'\n"
     ]
    },
    {
     "ename": "error",
     "evalue": "OpenCV(4.9.0) D:\\a\\opencv-python\\opencv-python\\opencv\\modules\\core\\src\\arithm.cpp:1782: error: (-215:Assertion failed) lb.type() == ub.type() in function 'cv::inRange'\n",
     "output_type": "error",
     "traceback": [
      "\u001b[1;31m---------------------------------------------------------------------------\u001b[0m",
      "\u001b[1;31merror\u001b[0m                                     Traceback (most recent call last)",
      "Cell \u001b[1;32mIn[30], line 6\u001b[0m, in \u001b[0;36mupdate_tolerance\u001b[1;34m(*args)\u001b[0m\n\u001b[0;32m      4\u001b[0m saturation_tolerance \u001b[38;5;241m=\u001b[39m cv2\u001b[38;5;241m.\u001b[39mgetTrackbarPos(\u001b[38;5;124m\"\u001b[39m\u001b[38;5;124mSaturation\u001b[39m\u001b[38;5;124m\"\u001b[39m, window_name)\n\u001b[0;32m      5\u001b[0m value_tolerance \u001b[38;5;241m=\u001b[39m cv2\u001b[38;5;241m.\u001b[39mgetTrackbarPos(\u001b[38;5;124m\"\u001b[39m\u001b[38;5;124mValue\u001b[39m\u001b[38;5;124m\"\u001b[39m, window_name)\n\u001b[1;32m----> 6\u001b[0m \u001b[43mprocess_image\u001b[49m\u001b[43m(\u001b[49m\u001b[43m)\u001b[49m\n",
      "Cell \u001b[1;32mIn[30], line 21\u001b[0m, in \u001b[0;36mprocess_image\u001b[1;34m()\u001b[0m\n\u001b[0;32m     17\u001b[0m upper_background \u001b[38;5;241m=\u001b[39m np\u001b[38;5;241m.\u001b[39marray([upper_limit_0, upper_limit_1, upper_limit_2])\n\u001b[0;32m     19\u001b[0m blur \u001b[38;5;241m=\u001b[39m cv2\u001b[38;5;241m.\u001b[39mGaussianBlur(hsv, (\u001b[38;5;241m11\u001b[39m, \u001b[38;5;241m11\u001b[39m), \u001b[38;5;241m0\u001b[39m)\n\u001b[1;32m---> 21\u001b[0m gray_mask \u001b[38;5;241m=\u001b[39m \u001b[43mcv2\u001b[49m\u001b[38;5;241;43m.\u001b[39;49m\u001b[43minRange\u001b[49m\u001b[43m(\u001b[49m\u001b[43mblur\u001b[49m\u001b[43m,\u001b[49m\u001b[43m \u001b[49m\u001b[43mlower_background\u001b[49m\u001b[43m,\u001b[49m\u001b[43m \u001b[49m\u001b[43mupper_background\u001b[49m\u001b[43m)\u001b[49m\n\u001b[0;32m     22\u001b[0m non_gray_mask \u001b[38;5;241m=\u001b[39m cv2\u001b[38;5;241m.\u001b[39mbitwise_not(gray_mask)\n\u001b[0;32m     24\u001b[0m result \u001b[38;5;241m=\u001b[39m cv2\u001b[38;5;241m.\u001b[39mbitwise_and(image, image, mask\u001b[38;5;241m=\u001b[39mnon_gray_mask)\n",
      "\u001b[1;31merror\u001b[0m: OpenCV(4.9.0) D:\\a\\opencv-python\\opencv-python\\opencv\\modules\\core\\src\\arithm.cpp:1782: error: (-215:Assertion failed) lb.type() == ub.type() in function 'cv::inRange'\n"
     ]
    },
    {
     "ename": "error",
     "evalue": "OpenCV(4.9.0) D:\\a\\opencv-python\\opencv-python\\opencv\\modules\\core\\src\\arithm.cpp:1782: error: (-215:Assertion failed) lb.type() == ub.type() in function 'cv::inRange'\n",
     "output_type": "error",
     "traceback": [
      "\u001b[1;31m---------------------------------------------------------------------------\u001b[0m",
      "\u001b[1;31merror\u001b[0m                                     Traceback (most recent call last)",
      "Cell \u001b[1;32mIn[30], line 6\u001b[0m, in \u001b[0;36mupdate_tolerance\u001b[1;34m(*args)\u001b[0m\n\u001b[0;32m      4\u001b[0m saturation_tolerance \u001b[38;5;241m=\u001b[39m cv2\u001b[38;5;241m.\u001b[39mgetTrackbarPos(\u001b[38;5;124m\"\u001b[39m\u001b[38;5;124mSaturation\u001b[39m\u001b[38;5;124m\"\u001b[39m, window_name)\n\u001b[0;32m      5\u001b[0m value_tolerance \u001b[38;5;241m=\u001b[39m cv2\u001b[38;5;241m.\u001b[39mgetTrackbarPos(\u001b[38;5;124m\"\u001b[39m\u001b[38;5;124mValue\u001b[39m\u001b[38;5;124m\"\u001b[39m, window_name)\n\u001b[1;32m----> 6\u001b[0m \u001b[43mprocess_image\u001b[49m\u001b[43m(\u001b[49m\u001b[43m)\u001b[49m\n",
      "Cell \u001b[1;32mIn[30], line 21\u001b[0m, in \u001b[0;36mprocess_image\u001b[1;34m()\u001b[0m\n\u001b[0;32m     17\u001b[0m upper_background \u001b[38;5;241m=\u001b[39m np\u001b[38;5;241m.\u001b[39marray([upper_limit_0, upper_limit_1, upper_limit_2])\n\u001b[0;32m     19\u001b[0m blur \u001b[38;5;241m=\u001b[39m cv2\u001b[38;5;241m.\u001b[39mGaussianBlur(hsv, (\u001b[38;5;241m11\u001b[39m, \u001b[38;5;241m11\u001b[39m), \u001b[38;5;241m0\u001b[39m)\n\u001b[1;32m---> 21\u001b[0m gray_mask \u001b[38;5;241m=\u001b[39m \u001b[43mcv2\u001b[49m\u001b[38;5;241;43m.\u001b[39;49m\u001b[43minRange\u001b[49m\u001b[43m(\u001b[49m\u001b[43mblur\u001b[49m\u001b[43m,\u001b[49m\u001b[43m \u001b[49m\u001b[43mlower_background\u001b[49m\u001b[43m,\u001b[49m\u001b[43m \u001b[49m\u001b[43mupper_background\u001b[49m\u001b[43m)\u001b[49m\n\u001b[0;32m     22\u001b[0m non_gray_mask \u001b[38;5;241m=\u001b[39m cv2\u001b[38;5;241m.\u001b[39mbitwise_not(gray_mask)\n\u001b[0;32m     24\u001b[0m result \u001b[38;5;241m=\u001b[39m cv2\u001b[38;5;241m.\u001b[39mbitwise_and(image, image, mask\u001b[38;5;241m=\u001b[39mnon_gray_mask)\n",
      "\u001b[1;31merror\u001b[0m: OpenCV(4.9.0) D:\\a\\opencv-python\\opencv-python\\opencv\\modules\\core\\src\\arithm.cpp:1782: error: (-215:Assertion failed) lb.type() == ub.type() in function 'cv::inRange'\n"
     ]
    },
    {
     "ename": "error",
     "evalue": "OpenCV(4.9.0) D:\\a\\opencv-python\\opencv-python\\opencv\\modules\\core\\src\\arithm.cpp:1782: error: (-215:Assertion failed) lb.type() == ub.type() in function 'cv::inRange'\n",
     "output_type": "error",
     "traceback": [
      "\u001b[1;31m---------------------------------------------------------------------------\u001b[0m",
      "\u001b[1;31merror\u001b[0m                                     Traceback (most recent call last)",
      "Cell \u001b[1;32mIn[30], line 6\u001b[0m, in \u001b[0;36mupdate_tolerance\u001b[1;34m(*args)\u001b[0m\n\u001b[0;32m      4\u001b[0m saturation_tolerance \u001b[38;5;241m=\u001b[39m cv2\u001b[38;5;241m.\u001b[39mgetTrackbarPos(\u001b[38;5;124m\"\u001b[39m\u001b[38;5;124mSaturation\u001b[39m\u001b[38;5;124m\"\u001b[39m, window_name)\n\u001b[0;32m      5\u001b[0m value_tolerance \u001b[38;5;241m=\u001b[39m cv2\u001b[38;5;241m.\u001b[39mgetTrackbarPos(\u001b[38;5;124m\"\u001b[39m\u001b[38;5;124mValue\u001b[39m\u001b[38;5;124m\"\u001b[39m, window_name)\n\u001b[1;32m----> 6\u001b[0m \u001b[43mprocess_image\u001b[49m\u001b[43m(\u001b[49m\u001b[43m)\u001b[49m\n",
      "Cell \u001b[1;32mIn[30], line 21\u001b[0m, in \u001b[0;36mprocess_image\u001b[1;34m()\u001b[0m\n\u001b[0;32m     17\u001b[0m upper_background \u001b[38;5;241m=\u001b[39m np\u001b[38;5;241m.\u001b[39marray([upper_limit_0, upper_limit_1, upper_limit_2])\n\u001b[0;32m     19\u001b[0m blur \u001b[38;5;241m=\u001b[39m cv2\u001b[38;5;241m.\u001b[39mGaussianBlur(hsv, (\u001b[38;5;241m11\u001b[39m, \u001b[38;5;241m11\u001b[39m), \u001b[38;5;241m0\u001b[39m)\n\u001b[1;32m---> 21\u001b[0m gray_mask \u001b[38;5;241m=\u001b[39m \u001b[43mcv2\u001b[49m\u001b[38;5;241;43m.\u001b[39;49m\u001b[43minRange\u001b[49m\u001b[43m(\u001b[49m\u001b[43mblur\u001b[49m\u001b[43m,\u001b[49m\u001b[43m \u001b[49m\u001b[43mlower_background\u001b[49m\u001b[43m,\u001b[49m\u001b[43m \u001b[49m\u001b[43mupper_background\u001b[49m\u001b[43m)\u001b[49m\n\u001b[0;32m     22\u001b[0m non_gray_mask \u001b[38;5;241m=\u001b[39m cv2\u001b[38;5;241m.\u001b[39mbitwise_not(gray_mask)\n\u001b[0;32m     24\u001b[0m result \u001b[38;5;241m=\u001b[39m cv2\u001b[38;5;241m.\u001b[39mbitwise_and(image, image, mask\u001b[38;5;241m=\u001b[39mnon_gray_mask)\n",
      "\u001b[1;31merror\u001b[0m: OpenCV(4.9.0) D:\\a\\opencv-python\\opencv-python\\opencv\\modules\\core\\src\\arithm.cpp:1782: error: (-215:Assertion failed) lb.type() == ub.type() in function 'cv::inRange'\n"
     ]
    },
    {
     "ename": "error",
     "evalue": "OpenCV(4.9.0) D:\\a\\opencv-python\\opencv-python\\opencv\\modules\\core\\src\\arithm.cpp:1782: error: (-215:Assertion failed) lb.type() == ub.type() in function 'cv::inRange'\n",
     "output_type": "error",
     "traceback": [
      "\u001b[1;31m---------------------------------------------------------------------------\u001b[0m",
      "\u001b[1;31merror\u001b[0m                                     Traceback (most recent call last)",
      "Cell \u001b[1;32mIn[30], line 6\u001b[0m, in \u001b[0;36mupdate_tolerance\u001b[1;34m(*args)\u001b[0m\n\u001b[0;32m      4\u001b[0m saturation_tolerance \u001b[38;5;241m=\u001b[39m cv2\u001b[38;5;241m.\u001b[39mgetTrackbarPos(\u001b[38;5;124m\"\u001b[39m\u001b[38;5;124mSaturation\u001b[39m\u001b[38;5;124m\"\u001b[39m, window_name)\n\u001b[0;32m      5\u001b[0m value_tolerance \u001b[38;5;241m=\u001b[39m cv2\u001b[38;5;241m.\u001b[39mgetTrackbarPos(\u001b[38;5;124m\"\u001b[39m\u001b[38;5;124mValue\u001b[39m\u001b[38;5;124m\"\u001b[39m, window_name)\n\u001b[1;32m----> 6\u001b[0m \u001b[43mprocess_image\u001b[49m\u001b[43m(\u001b[49m\u001b[43m)\u001b[49m\n",
      "Cell \u001b[1;32mIn[30], line 21\u001b[0m, in \u001b[0;36mprocess_image\u001b[1;34m()\u001b[0m\n\u001b[0;32m     17\u001b[0m upper_background \u001b[38;5;241m=\u001b[39m np\u001b[38;5;241m.\u001b[39marray([upper_limit_0, upper_limit_1, upper_limit_2])\n\u001b[0;32m     19\u001b[0m blur \u001b[38;5;241m=\u001b[39m cv2\u001b[38;5;241m.\u001b[39mGaussianBlur(hsv, (\u001b[38;5;241m11\u001b[39m, \u001b[38;5;241m11\u001b[39m), \u001b[38;5;241m0\u001b[39m)\n\u001b[1;32m---> 21\u001b[0m gray_mask \u001b[38;5;241m=\u001b[39m \u001b[43mcv2\u001b[49m\u001b[38;5;241;43m.\u001b[39;49m\u001b[43minRange\u001b[49m\u001b[43m(\u001b[49m\u001b[43mblur\u001b[49m\u001b[43m,\u001b[49m\u001b[43m \u001b[49m\u001b[43mlower_background\u001b[49m\u001b[43m,\u001b[49m\u001b[43m \u001b[49m\u001b[43mupper_background\u001b[49m\u001b[43m)\u001b[49m\n\u001b[0;32m     22\u001b[0m non_gray_mask \u001b[38;5;241m=\u001b[39m cv2\u001b[38;5;241m.\u001b[39mbitwise_not(gray_mask)\n\u001b[0;32m     24\u001b[0m result \u001b[38;5;241m=\u001b[39m cv2\u001b[38;5;241m.\u001b[39mbitwise_and(image, image, mask\u001b[38;5;241m=\u001b[39mnon_gray_mask)\n",
      "\u001b[1;31merror\u001b[0m: OpenCV(4.9.0) D:\\a\\opencv-python\\opencv-python\\opencv\\modules\\core\\src\\arithm.cpp:1782: error: (-215:Assertion failed) lb.type() == ub.type() in function 'cv::inRange'\n"
     ]
    },
    {
     "ename": "error",
     "evalue": "OpenCV(4.9.0) D:\\a\\opencv-python\\opencv-python\\opencv\\modules\\core\\src\\arithm.cpp:1782: error: (-215:Assertion failed) lb.type() == ub.type() in function 'cv::inRange'\n",
     "output_type": "error",
     "traceback": [
      "\u001b[1;31m---------------------------------------------------------------------------\u001b[0m",
      "\u001b[1;31merror\u001b[0m                                     Traceback (most recent call last)",
      "Cell \u001b[1;32mIn[30], line 6\u001b[0m, in \u001b[0;36mupdate_tolerance\u001b[1;34m(*args)\u001b[0m\n\u001b[0;32m      4\u001b[0m saturation_tolerance \u001b[38;5;241m=\u001b[39m cv2\u001b[38;5;241m.\u001b[39mgetTrackbarPos(\u001b[38;5;124m\"\u001b[39m\u001b[38;5;124mSaturation\u001b[39m\u001b[38;5;124m\"\u001b[39m, window_name)\n\u001b[0;32m      5\u001b[0m value_tolerance \u001b[38;5;241m=\u001b[39m cv2\u001b[38;5;241m.\u001b[39mgetTrackbarPos(\u001b[38;5;124m\"\u001b[39m\u001b[38;5;124mValue\u001b[39m\u001b[38;5;124m\"\u001b[39m, window_name)\n\u001b[1;32m----> 6\u001b[0m \u001b[43mprocess_image\u001b[49m\u001b[43m(\u001b[49m\u001b[43m)\u001b[49m\n",
      "Cell \u001b[1;32mIn[30], line 21\u001b[0m, in \u001b[0;36mprocess_image\u001b[1;34m()\u001b[0m\n\u001b[0;32m     17\u001b[0m upper_background \u001b[38;5;241m=\u001b[39m np\u001b[38;5;241m.\u001b[39marray([upper_limit_0, upper_limit_1, upper_limit_2])\n\u001b[0;32m     19\u001b[0m blur \u001b[38;5;241m=\u001b[39m cv2\u001b[38;5;241m.\u001b[39mGaussianBlur(hsv, (\u001b[38;5;241m11\u001b[39m, \u001b[38;5;241m11\u001b[39m), \u001b[38;5;241m0\u001b[39m)\n\u001b[1;32m---> 21\u001b[0m gray_mask \u001b[38;5;241m=\u001b[39m \u001b[43mcv2\u001b[49m\u001b[38;5;241;43m.\u001b[39;49m\u001b[43minRange\u001b[49m\u001b[43m(\u001b[49m\u001b[43mblur\u001b[49m\u001b[43m,\u001b[49m\u001b[43m \u001b[49m\u001b[43mlower_background\u001b[49m\u001b[43m,\u001b[49m\u001b[43m \u001b[49m\u001b[43mupper_background\u001b[49m\u001b[43m)\u001b[49m\n\u001b[0;32m     22\u001b[0m non_gray_mask \u001b[38;5;241m=\u001b[39m cv2\u001b[38;5;241m.\u001b[39mbitwise_not(gray_mask)\n\u001b[0;32m     24\u001b[0m result \u001b[38;5;241m=\u001b[39m cv2\u001b[38;5;241m.\u001b[39mbitwise_and(image, image, mask\u001b[38;5;241m=\u001b[39mnon_gray_mask)\n",
      "\u001b[1;31merror\u001b[0m: OpenCV(4.9.0) D:\\a\\opencv-python\\opencv-python\\opencv\\modules\\core\\src\\arithm.cpp:1782: error: (-215:Assertion failed) lb.type() == ub.type() in function 'cv::inRange'\n"
     ]
    },
    {
     "ename": "error",
     "evalue": "OpenCV(4.9.0) D:\\a\\opencv-python\\opencv-python\\opencv\\modules\\core\\src\\arithm.cpp:1782: error: (-215:Assertion failed) lb.type() == ub.type() in function 'cv::inRange'\n",
     "output_type": "error",
     "traceback": [
      "\u001b[1;31m---------------------------------------------------------------------------\u001b[0m",
      "\u001b[1;31merror\u001b[0m                                     Traceback (most recent call last)",
      "Cell \u001b[1;32mIn[30], line 6\u001b[0m, in \u001b[0;36mupdate_tolerance\u001b[1;34m(*args)\u001b[0m\n\u001b[0;32m      4\u001b[0m saturation_tolerance \u001b[38;5;241m=\u001b[39m cv2\u001b[38;5;241m.\u001b[39mgetTrackbarPos(\u001b[38;5;124m\"\u001b[39m\u001b[38;5;124mSaturation\u001b[39m\u001b[38;5;124m\"\u001b[39m, window_name)\n\u001b[0;32m      5\u001b[0m value_tolerance \u001b[38;5;241m=\u001b[39m cv2\u001b[38;5;241m.\u001b[39mgetTrackbarPos(\u001b[38;5;124m\"\u001b[39m\u001b[38;5;124mValue\u001b[39m\u001b[38;5;124m\"\u001b[39m, window_name)\n\u001b[1;32m----> 6\u001b[0m \u001b[43mprocess_image\u001b[49m\u001b[43m(\u001b[49m\u001b[43m)\u001b[49m\n",
      "Cell \u001b[1;32mIn[30], line 21\u001b[0m, in \u001b[0;36mprocess_image\u001b[1;34m()\u001b[0m\n\u001b[0;32m     17\u001b[0m upper_background \u001b[38;5;241m=\u001b[39m np\u001b[38;5;241m.\u001b[39marray([upper_limit_0, upper_limit_1, upper_limit_2])\n\u001b[0;32m     19\u001b[0m blur \u001b[38;5;241m=\u001b[39m cv2\u001b[38;5;241m.\u001b[39mGaussianBlur(hsv, (\u001b[38;5;241m11\u001b[39m, \u001b[38;5;241m11\u001b[39m), \u001b[38;5;241m0\u001b[39m)\n\u001b[1;32m---> 21\u001b[0m gray_mask \u001b[38;5;241m=\u001b[39m \u001b[43mcv2\u001b[49m\u001b[38;5;241;43m.\u001b[39;49m\u001b[43minRange\u001b[49m\u001b[43m(\u001b[49m\u001b[43mblur\u001b[49m\u001b[43m,\u001b[49m\u001b[43m \u001b[49m\u001b[43mlower_background\u001b[49m\u001b[43m,\u001b[49m\u001b[43m \u001b[49m\u001b[43mupper_background\u001b[49m\u001b[43m)\u001b[49m\n\u001b[0;32m     22\u001b[0m non_gray_mask \u001b[38;5;241m=\u001b[39m cv2\u001b[38;5;241m.\u001b[39mbitwise_not(gray_mask)\n\u001b[0;32m     24\u001b[0m result \u001b[38;5;241m=\u001b[39m cv2\u001b[38;5;241m.\u001b[39mbitwise_and(image, image, mask\u001b[38;5;241m=\u001b[39mnon_gray_mask)\n",
      "\u001b[1;31merror\u001b[0m: OpenCV(4.9.0) D:\\a\\opencv-python\\opencv-python\\opencv\\modules\\core\\src\\arithm.cpp:1782: error: (-215:Assertion failed) lb.type() == ub.type() in function 'cv::inRange'\n"
     ]
    },
    {
     "ename": "error",
     "evalue": "OpenCV(4.9.0) D:\\a\\opencv-python\\opencv-python\\opencv\\modules\\core\\src\\arithm.cpp:1782: error: (-215:Assertion failed) lb.type() == ub.type() in function 'cv::inRange'\n",
     "output_type": "error",
     "traceback": [
      "\u001b[1;31m---------------------------------------------------------------------------\u001b[0m",
      "\u001b[1;31merror\u001b[0m                                     Traceback (most recent call last)",
      "Cell \u001b[1;32mIn[30], line 6\u001b[0m, in \u001b[0;36mupdate_tolerance\u001b[1;34m(*args)\u001b[0m\n\u001b[0;32m      4\u001b[0m saturation_tolerance \u001b[38;5;241m=\u001b[39m cv2\u001b[38;5;241m.\u001b[39mgetTrackbarPos(\u001b[38;5;124m\"\u001b[39m\u001b[38;5;124mSaturation\u001b[39m\u001b[38;5;124m\"\u001b[39m, window_name)\n\u001b[0;32m      5\u001b[0m value_tolerance \u001b[38;5;241m=\u001b[39m cv2\u001b[38;5;241m.\u001b[39mgetTrackbarPos(\u001b[38;5;124m\"\u001b[39m\u001b[38;5;124mValue\u001b[39m\u001b[38;5;124m\"\u001b[39m, window_name)\n\u001b[1;32m----> 6\u001b[0m \u001b[43mprocess_image\u001b[49m\u001b[43m(\u001b[49m\u001b[43m)\u001b[49m\n",
      "Cell \u001b[1;32mIn[30], line 21\u001b[0m, in \u001b[0;36mprocess_image\u001b[1;34m()\u001b[0m\n\u001b[0;32m     17\u001b[0m upper_background \u001b[38;5;241m=\u001b[39m np\u001b[38;5;241m.\u001b[39marray([upper_limit_0, upper_limit_1, upper_limit_2])\n\u001b[0;32m     19\u001b[0m blur \u001b[38;5;241m=\u001b[39m cv2\u001b[38;5;241m.\u001b[39mGaussianBlur(hsv, (\u001b[38;5;241m11\u001b[39m, \u001b[38;5;241m11\u001b[39m), \u001b[38;5;241m0\u001b[39m)\n\u001b[1;32m---> 21\u001b[0m gray_mask \u001b[38;5;241m=\u001b[39m \u001b[43mcv2\u001b[49m\u001b[38;5;241;43m.\u001b[39;49m\u001b[43minRange\u001b[49m\u001b[43m(\u001b[49m\u001b[43mblur\u001b[49m\u001b[43m,\u001b[49m\u001b[43m \u001b[49m\u001b[43mlower_background\u001b[49m\u001b[43m,\u001b[49m\u001b[43m \u001b[49m\u001b[43mupper_background\u001b[49m\u001b[43m)\u001b[49m\n\u001b[0;32m     22\u001b[0m non_gray_mask \u001b[38;5;241m=\u001b[39m cv2\u001b[38;5;241m.\u001b[39mbitwise_not(gray_mask)\n\u001b[0;32m     24\u001b[0m result \u001b[38;5;241m=\u001b[39m cv2\u001b[38;5;241m.\u001b[39mbitwise_and(image, image, mask\u001b[38;5;241m=\u001b[39mnon_gray_mask)\n",
      "\u001b[1;31merror\u001b[0m: OpenCV(4.9.0) D:\\a\\opencv-python\\opencv-python\\opencv\\modules\\core\\src\\arithm.cpp:1782: error: (-215:Assertion failed) lb.type() == ub.type() in function 'cv::inRange'\n"
     ]
    },
    {
     "ename": "error",
     "evalue": "OpenCV(4.9.0) D:\\a\\opencv-python\\opencv-python\\opencv\\modules\\core\\src\\arithm.cpp:1782: error: (-215:Assertion failed) lb.type() == ub.type() in function 'cv::inRange'\n",
     "output_type": "error",
     "traceback": [
      "\u001b[1;31m---------------------------------------------------------------------------\u001b[0m",
      "\u001b[1;31merror\u001b[0m                                     Traceback (most recent call last)",
      "Cell \u001b[1;32mIn[30], line 6\u001b[0m, in \u001b[0;36mupdate_tolerance\u001b[1;34m(*args)\u001b[0m\n\u001b[0;32m      4\u001b[0m saturation_tolerance \u001b[38;5;241m=\u001b[39m cv2\u001b[38;5;241m.\u001b[39mgetTrackbarPos(\u001b[38;5;124m\"\u001b[39m\u001b[38;5;124mSaturation\u001b[39m\u001b[38;5;124m\"\u001b[39m, window_name)\n\u001b[0;32m      5\u001b[0m value_tolerance \u001b[38;5;241m=\u001b[39m cv2\u001b[38;5;241m.\u001b[39mgetTrackbarPos(\u001b[38;5;124m\"\u001b[39m\u001b[38;5;124mValue\u001b[39m\u001b[38;5;124m\"\u001b[39m, window_name)\n\u001b[1;32m----> 6\u001b[0m \u001b[43mprocess_image\u001b[49m\u001b[43m(\u001b[49m\u001b[43m)\u001b[49m\n",
      "Cell \u001b[1;32mIn[30], line 21\u001b[0m, in \u001b[0;36mprocess_image\u001b[1;34m()\u001b[0m\n\u001b[0;32m     17\u001b[0m upper_background \u001b[38;5;241m=\u001b[39m np\u001b[38;5;241m.\u001b[39marray([upper_limit_0, upper_limit_1, upper_limit_2])\n\u001b[0;32m     19\u001b[0m blur \u001b[38;5;241m=\u001b[39m cv2\u001b[38;5;241m.\u001b[39mGaussianBlur(hsv, (\u001b[38;5;241m11\u001b[39m, \u001b[38;5;241m11\u001b[39m), \u001b[38;5;241m0\u001b[39m)\n\u001b[1;32m---> 21\u001b[0m gray_mask \u001b[38;5;241m=\u001b[39m \u001b[43mcv2\u001b[49m\u001b[38;5;241;43m.\u001b[39;49m\u001b[43minRange\u001b[49m\u001b[43m(\u001b[49m\u001b[43mblur\u001b[49m\u001b[43m,\u001b[49m\u001b[43m \u001b[49m\u001b[43mlower_background\u001b[49m\u001b[43m,\u001b[49m\u001b[43m \u001b[49m\u001b[43mupper_background\u001b[49m\u001b[43m)\u001b[49m\n\u001b[0;32m     22\u001b[0m non_gray_mask \u001b[38;5;241m=\u001b[39m cv2\u001b[38;5;241m.\u001b[39mbitwise_not(gray_mask)\n\u001b[0;32m     24\u001b[0m result \u001b[38;5;241m=\u001b[39m cv2\u001b[38;5;241m.\u001b[39mbitwise_and(image, image, mask\u001b[38;5;241m=\u001b[39mnon_gray_mask)\n",
      "\u001b[1;31merror\u001b[0m: OpenCV(4.9.0) D:\\a\\opencv-python\\opencv-python\\opencv\\modules\\core\\src\\arithm.cpp:1782: error: (-215:Assertion failed) lb.type() == ub.type() in function 'cv::inRange'\n"
     ]
    },
    {
     "ename": "error",
     "evalue": "OpenCV(4.9.0) D:\\a\\opencv-python\\opencv-python\\opencv\\modules\\core\\src\\arithm.cpp:1782: error: (-215:Assertion failed) lb.type() == ub.type() in function 'cv::inRange'\n",
     "output_type": "error",
     "traceback": [
      "\u001b[1;31m---------------------------------------------------------------------------\u001b[0m",
      "\u001b[1;31merror\u001b[0m                                     Traceback (most recent call last)",
      "Cell \u001b[1;32mIn[30], line 6\u001b[0m, in \u001b[0;36mupdate_tolerance\u001b[1;34m(*args)\u001b[0m\n\u001b[0;32m      4\u001b[0m saturation_tolerance \u001b[38;5;241m=\u001b[39m cv2\u001b[38;5;241m.\u001b[39mgetTrackbarPos(\u001b[38;5;124m\"\u001b[39m\u001b[38;5;124mSaturation\u001b[39m\u001b[38;5;124m\"\u001b[39m, window_name)\n\u001b[0;32m      5\u001b[0m value_tolerance \u001b[38;5;241m=\u001b[39m cv2\u001b[38;5;241m.\u001b[39mgetTrackbarPos(\u001b[38;5;124m\"\u001b[39m\u001b[38;5;124mValue\u001b[39m\u001b[38;5;124m\"\u001b[39m, window_name)\n\u001b[1;32m----> 6\u001b[0m \u001b[43mprocess_image\u001b[49m\u001b[43m(\u001b[49m\u001b[43m)\u001b[49m\n",
      "Cell \u001b[1;32mIn[30], line 21\u001b[0m, in \u001b[0;36mprocess_image\u001b[1;34m()\u001b[0m\n\u001b[0;32m     17\u001b[0m upper_background \u001b[38;5;241m=\u001b[39m np\u001b[38;5;241m.\u001b[39marray([upper_limit_0, upper_limit_1, upper_limit_2])\n\u001b[0;32m     19\u001b[0m blur \u001b[38;5;241m=\u001b[39m cv2\u001b[38;5;241m.\u001b[39mGaussianBlur(hsv, (\u001b[38;5;241m11\u001b[39m, \u001b[38;5;241m11\u001b[39m), \u001b[38;5;241m0\u001b[39m)\n\u001b[1;32m---> 21\u001b[0m gray_mask \u001b[38;5;241m=\u001b[39m \u001b[43mcv2\u001b[49m\u001b[38;5;241;43m.\u001b[39;49m\u001b[43minRange\u001b[49m\u001b[43m(\u001b[49m\u001b[43mblur\u001b[49m\u001b[43m,\u001b[49m\u001b[43m \u001b[49m\u001b[43mlower_background\u001b[49m\u001b[43m,\u001b[49m\u001b[43m \u001b[49m\u001b[43mupper_background\u001b[49m\u001b[43m)\u001b[49m\n\u001b[0;32m     22\u001b[0m non_gray_mask \u001b[38;5;241m=\u001b[39m cv2\u001b[38;5;241m.\u001b[39mbitwise_not(gray_mask)\n\u001b[0;32m     24\u001b[0m result \u001b[38;5;241m=\u001b[39m cv2\u001b[38;5;241m.\u001b[39mbitwise_and(image, image, mask\u001b[38;5;241m=\u001b[39mnon_gray_mask)\n",
      "\u001b[1;31merror\u001b[0m: OpenCV(4.9.0) D:\\a\\opencv-python\\opencv-python\\opencv\\modules\\core\\src\\arithm.cpp:1782: error: (-215:Assertion failed) lb.type() == ub.type() in function 'cv::inRange'\n"
     ]
    },
    {
     "ename": "error",
     "evalue": "OpenCV(4.9.0) D:\\a\\opencv-python\\opencv-python\\opencv\\modules\\core\\src\\arithm.cpp:1782: error: (-215:Assertion failed) lb.type() == ub.type() in function 'cv::inRange'\n",
     "output_type": "error",
     "traceback": [
      "\u001b[1;31m---------------------------------------------------------------------------\u001b[0m",
      "\u001b[1;31merror\u001b[0m                                     Traceback (most recent call last)",
      "Cell \u001b[1;32mIn[30], line 6\u001b[0m, in \u001b[0;36mupdate_tolerance\u001b[1;34m(*args)\u001b[0m\n\u001b[0;32m      4\u001b[0m saturation_tolerance \u001b[38;5;241m=\u001b[39m cv2\u001b[38;5;241m.\u001b[39mgetTrackbarPos(\u001b[38;5;124m\"\u001b[39m\u001b[38;5;124mSaturation\u001b[39m\u001b[38;5;124m\"\u001b[39m, window_name)\n\u001b[0;32m      5\u001b[0m value_tolerance \u001b[38;5;241m=\u001b[39m cv2\u001b[38;5;241m.\u001b[39mgetTrackbarPos(\u001b[38;5;124m\"\u001b[39m\u001b[38;5;124mValue\u001b[39m\u001b[38;5;124m\"\u001b[39m, window_name)\n\u001b[1;32m----> 6\u001b[0m \u001b[43mprocess_image\u001b[49m\u001b[43m(\u001b[49m\u001b[43m)\u001b[49m\n",
      "Cell \u001b[1;32mIn[30], line 21\u001b[0m, in \u001b[0;36mprocess_image\u001b[1;34m()\u001b[0m\n\u001b[0;32m     17\u001b[0m upper_background \u001b[38;5;241m=\u001b[39m np\u001b[38;5;241m.\u001b[39marray([upper_limit_0, upper_limit_1, upper_limit_2])\n\u001b[0;32m     19\u001b[0m blur \u001b[38;5;241m=\u001b[39m cv2\u001b[38;5;241m.\u001b[39mGaussianBlur(hsv, (\u001b[38;5;241m11\u001b[39m, \u001b[38;5;241m11\u001b[39m), \u001b[38;5;241m0\u001b[39m)\n\u001b[1;32m---> 21\u001b[0m gray_mask \u001b[38;5;241m=\u001b[39m \u001b[43mcv2\u001b[49m\u001b[38;5;241;43m.\u001b[39;49m\u001b[43minRange\u001b[49m\u001b[43m(\u001b[49m\u001b[43mblur\u001b[49m\u001b[43m,\u001b[49m\u001b[43m \u001b[49m\u001b[43mlower_background\u001b[49m\u001b[43m,\u001b[49m\u001b[43m \u001b[49m\u001b[43mupper_background\u001b[49m\u001b[43m)\u001b[49m\n\u001b[0;32m     22\u001b[0m non_gray_mask \u001b[38;5;241m=\u001b[39m cv2\u001b[38;5;241m.\u001b[39mbitwise_not(gray_mask)\n\u001b[0;32m     24\u001b[0m result \u001b[38;5;241m=\u001b[39m cv2\u001b[38;5;241m.\u001b[39mbitwise_and(image, image, mask\u001b[38;5;241m=\u001b[39mnon_gray_mask)\n",
      "\u001b[1;31merror\u001b[0m: OpenCV(4.9.0) D:\\a\\opencv-python\\opencv-python\\opencv\\modules\\core\\src\\arithm.cpp:1782: error: (-215:Assertion failed) lb.type() == ub.type() in function 'cv::inRange'\n"
     ]
    },
    {
     "ename": "error",
     "evalue": "OpenCV(4.9.0) D:\\a\\opencv-python\\opencv-python\\opencv\\modules\\core\\src\\arithm.cpp:1782: error: (-215:Assertion failed) lb.type() == ub.type() in function 'cv::inRange'\n",
     "output_type": "error",
     "traceback": [
      "\u001b[1;31m---------------------------------------------------------------------------\u001b[0m",
      "\u001b[1;31merror\u001b[0m                                     Traceback (most recent call last)",
      "Cell \u001b[1;32mIn[30], line 6\u001b[0m, in \u001b[0;36mupdate_tolerance\u001b[1;34m(*args)\u001b[0m\n\u001b[0;32m      4\u001b[0m saturation_tolerance \u001b[38;5;241m=\u001b[39m cv2\u001b[38;5;241m.\u001b[39mgetTrackbarPos(\u001b[38;5;124m\"\u001b[39m\u001b[38;5;124mSaturation\u001b[39m\u001b[38;5;124m\"\u001b[39m, window_name)\n\u001b[0;32m      5\u001b[0m value_tolerance \u001b[38;5;241m=\u001b[39m cv2\u001b[38;5;241m.\u001b[39mgetTrackbarPos(\u001b[38;5;124m\"\u001b[39m\u001b[38;5;124mValue\u001b[39m\u001b[38;5;124m\"\u001b[39m, window_name)\n\u001b[1;32m----> 6\u001b[0m \u001b[43mprocess_image\u001b[49m\u001b[43m(\u001b[49m\u001b[43m)\u001b[49m\n",
      "Cell \u001b[1;32mIn[30], line 21\u001b[0m, in \u001b[0;36mprocess_image\u001b[1;34m()\u001b[0m\n\u001b[0;32m     17\u001b[0m upper_background \u001b[38;5;241m=\u001b[39m np\u001b[38;5;241m.\u001b[39marray([upper_limit_0, upper_limit_1, upper_limit_2])\n\u001b[0;32m     19\u001b[0m blur \u001b[38;5;241m=\u001b[39m cv2\u001b[38;5;241m.\u001b[39mGaussianBlur(hsv, (\u001b[38;5;241m11\u001b[39m, \u001b[38;5;241m11\u001b[39m), \u001b[38;5;241m0\u001b[39m)\n\u001b[1;32m---> 21\u001b[0m gray_mask \u001b[38;5;241m=\u001b[39m \u001b[43mcv2\u001b[49m\u001b[38;5;241;43m.\u001b[39;49m\u001b[43minRange\u001b[49m\u001b[43m(\u001b[49m\u001b[43mblur\u001b[49m\u001b[43m,\u001b[49m\u001b[43m \u001b[49m\u001b[43mlower_background\u001b[49m\u001b[43m,\u001b[49m\u001b[43m \u001b[49m\u001b[43mupper_background\u001b[49m\u001b[43m)\u001b[49m\n\u001b[0;32m     22\u001b[0m non_gray_mask \u001b[38;5;241m=\u001b[39m cv2\u001b[38;5;241m.\u001b[39mbitwise_not(gray_mask)\n\u001b[0;32m     24\u001b[0m result \u001b[38;5;241m=\u001b[39m cv2\u001b[38;5;241m.\u001b[39mbitwise_and(image, image, mask\u001b[38;5;241m=\u001b[39mnon_gray_mask)\n",
      "\u001b[1;31merror\u001b[0m: OpenCV(4.9.0) D:\\a\\opencv-python\\opencv-python\\opencv\\modules\\core\\src\\arithm.cpp:1782: error: (-215:Assertion failed) lb.type() == ub.type() in function 'cv::inRange'\n"
     ]
    },
    {
     "ename": "error",
     "evalue": "OpenCV(4.9.0) D:\\a\\opencv-python\\opencv-python\\opencv\\modules\\core\\src\\arithm.cpp:1782: error: (-215:Assertion failed) lb.type() == ub.type() in function 'cv::inRange'\n",
     "output_type": "error",
     "traceback": [
      "\u001b[1;31m---------------------------------------------------------------------------\u001b[0m",
      "\u001b[1;31merror\u001b[0m                                     Traceback (most recent call last)",
      "Cell \u001b[1;32mIn[30], line 6\u001b[0m, in \u001b[0;36mupdate_tolerance\u001b[1;34m(*args)\u001b[0m\n\u001b[0;32m      4\u001b[0m saturation_tolerance \u001b[38;5;241m=\u001b[39m cv2\u001b[38;5;241m.\u001b[39mgetTrackbarPos(\u001b[38;5;124m\"\u001b[39m\u001b[38;5;124mSaturation\u001b[39m\u001b[38;5;124m\"\u001b[39m, window_name)\n\u001b[0;32m      5\u001b[0m value_tolerance \u001b[38;5;241m=\u001b[39m cv2\u001b[38;5;241m.\u001b[39mgetTrackbarPos(\u001b[38;5;124m\"\u001b[39m\u001b[38;5;124mValue\u001b[39m\u001b[38;5;124m\"\u001b[39m, window_name)\n\u001b[1;32m----> 6\u001b[0m \u001b[43mprocess_image\u001b[49m\u001b[43m(\u001b[49m\u001b[43m)\u001b[49m\n",
      "Cell \u001b[1;32mIn[30], line 21\u001b[0m, in \u001b[0;36mprocess_image\u001b[1;34m()\u001b[0m\n\u001b[0;32m     17\u001b[0m upper_background \u001b[38;5;241m=\u001b[39m np\u001b[38;5;241m.\u001b[39marray([upper_limit_0, upper_limit_1, upper_limit_2])\n\u001b[0;32m     19\u001b[0m blur \u001b[38;5;241m=\u001b[39m cv2\u001b[38;5;241m.\u001b[39mGaussianBlur(hsv, (\u001b[38;5;241m11\u001b[39m, \u001b[38;5;241m11\u001b[39m), \u001b[38;5;241m0\u001b[39m)\n\u001b[1;32m---> 21\u001b[0m gray_mask \u001b[38;5;241m=\u001b[39m \u001b[43mcv2\u001b[49m\u001b[38;5;241;43m.\u001b[39;49m\u001b[43minRange\u001b[49m\u001b[43m(\u001b[49m\u001b[43mblur\u001b[49m\u001b[43m,\u001b[49m\u001b[43m \u001b[49m\u001b[43mlower_background\u001b[49m\u001b[43m,\u001b[49m\u001b[43m \u001b[49m\u001b[43mupper_background\u001b[49m\u001b[43m)\u001b[49m\n\u001b[0;32m     22\u001b[0m non_gray_mask \u001b[38;5;241m=\u001b[39m cv2\u001b[38;5;241m.\u001b[39mbitwise_not(gray_mask)\n\u001b[0;32m     24\u001b[0m result \u001b[38;5;241m=\u001b[39m cv2\u001b[38;5;241m.\u001b[39mbitwise_and(image, image, mask\u001b[38;5;241m=\u001b[39mnon_gray_mask)\n",
      "\u001b[1;31merror\u001b[0m: OpenCV(4.9.0) D:\\a\\opencv-python\\opencv-python\\opencv\\modules\\core\\src\\arithm.cpp:1782: error: (-215:Assertion failed) lb.type() == ub.type() in function 'cv::inRange'\n"
     ]
    },
    {
     "ename": "error",
     "evalue": "OpenCV(4.9.0) D:\\a\\opencv-python\\opencv-python\\opencv\\modules\\core\\src\\arithm.cpp:1782: error: (-215:Assertion failed) lb.type() == ub.type() in function 'cv::inRange'\n",
     "output_type": "error",
     "traceback": [
      "\u001b[1;31m---------------------------------------------------------------------------\u001b[0m",
      "\u001b[1;31merror\u001b[0m                                     Traceback (most recent call last)",
      "Cell \u001b[1;32mIn[30], line 6\u001b[0m, in \u001b[0;36mupdate_tolerance\u001b[1;34m(*args)\u001b[0m\n\u001b[0;32m      4\u001b[0m saturation_tolerance \u001b[38;5;241m=\u001b[39m cv2\u001b[38;5;241m.\u001b[39mgetTrackbarPos(\u001b[38;5;124m\"\u001b[39m\u001b[38;5;124mSaturation\u001b[39m\u001b[38;5;124m\"\u001b[39m, window_name)\n\u001b[0;32m      5\u001b[0m value_tolerance \u001b[38;5;241m=\u001b[39m cv2\u001b[38;5;241m.\u001b[39mgetTrackbarPos(\u001b[38;5;124m\"\u001b[39m\u001b[38;5;124mValue\u001b[39m\u001b[38;5;124m\"\u001b[39m, window_name)\n\u001b[1;32m----> 6\u001b[0m \u001b[43mprocess_image\u001b[49m\u001b[43m(\u001b[49m\u001b[43m)\u001b[49m\n",
      "Cell \u001b[1;32mIn[30], line 21\u001b[0m, in \u001b[0;36mprocess_image\u001b[1;34m()\u001b[0m\n\u001b[0;32m     17\u001b[0m upper_background \u001b[38;5;241m=\u001b[39m np\u001b[38;5;241m.\u001b[39marray([upper_limit_0, upper_limit_1, upper_limit_2])\n\u001b[0;32m     19\u001b[0m blur \u001b[38;5;241m=\u001b[39m cv2\u001b[38;5;241m.\u001b[39mGaussianBlur(hsv, (\u001b[38;5;241m11\u001b[39m, \u001b[38;5;241m11\u001b[39m), \u001b[38;5;241m0\u001b[39m)\n\u001b[1;32m---> 21\u001b[0m gray_mask \u001b[38;5;241m=\u001b[39m \u001b[43mcv2\u001b[49m\u001b[38;5;241;43m.\u001b[39;49m\u001b[43minRange\u001b[49m\u001b[43m(\u001b[49m\u001b[43mblur\u001b[49m\u001b[43m,\u001b[49m\u001b[43m \u001b[49m\u001b[43mlower_background\u001b[49m\u001b[43m,\u001b[49m\u001b[43m \u001b[49m\u001b[43mupper_background\u001b[49m\u001b[43m)\u001b[49m\n\u001b[0;32m     22\u001b[0m non_gray_mask \u001b[38;5;241m=\u001b[39m cv2\u001b[38;5;241m.\u001b[39mbitwise_not(gray_mask)\n\u001b[0;32m     24\u001b[0m result \u001b[38;5;241m=\u001b[39m cv2\u001b[38;5;241m.\u001b[39mbitwise_and(image, image, mask\u001b[38;5;241m=\u001b[39mnon_gray_mask)\n",
      "\u001b[1;31merror\u001b[0m: OpenCV(4.9.0) D:\\a\\opencv-python\\opencv-python\\opencv\\modules\\core\\src\\arithm.cpp:1782: error: (-215:Assertion failed) lb.type() == ub.type() in function 'cv::inRange'\n"
     ]
    },
    {
     "ename": "error",
     "evalue": "OpenCV(4.9.0) D:\\a\\opencv-python\\opencv-python\\opencv\\modules\\core\\src\\arithm.cpp:1782: error: (-215:Assertion failed) lb.type() == ub.type() in function 'cv::inRange'\n",
     "output_type": "error",
     "traceback": [
      "\u001b[1;31m---------------------------------------------------------------------------\u001b[0m",
      "\u001b[1;31merror\u001b[0m                                     Traceback (most recent call last)",
      "Cell \u001b[1;32mIn[30], line 6\u001b[0m, in \u001b[0;36mupdate_tolerance\u001b[1;34m(*args)\u001b[0m\n\u001b[0;32m      4\u001b[0m saturation_tolerance \u001b[38;5;241m=\u001b[39m cv2\u001b[38;5;241m.\u001b[39mgetTrackbarPos(\u001b[38;5;124m\"\u001b[39m\u001b[38;5;124mSaturation\u001b[39m\u001b[38;5;124m\"\u001b[39m, window_name)\n\u001b[0;32m      5\u001b[0m value_tolerance \u001b[38;5;241m=\u001b[39m cv2\u001b[38;5;241m.\u001b[39mgetTrackbarPos(\u001b[38;5;124m\"\u001b[39m\u001b[38;5;124mValue\u001b[39m\u001b[38;5;124m\"\u001b[39m, window_name)\n\u001b[1;32m----> 6\u001b[0m \u001b[43mprocess_image\u001b[49m\u001b[43m(\u001b[49m\u001b[43m)\u001b[49m\n",
      "Cell \u001b[1;32mIn[30], line 21\u001b[0m, in \u001b[0;36mprocess_image\u001b[1;34m()\u001b[0m\n\u001b[0;32m     17\u001b[0m upper_background \u001b[38;5;241m=\u001b[39m np\u001b[38;5;241m.\u001b[39marray([upper_limit_0, upper_limit_1, upper_limit_2])\n\u001b[0;32m     19\u001b[0m blur \u001b[38;5;241m=\u001b[39m cv2\u001b[38;5;241m.\u001b[39mGaussianBlur(hsv, (\u001b[38;5;241m11\u001b[39m, \u001b[38;5;241m11\u001b[39m), \u001b[38;5;241m0\u001b[39m)\n\u001b[1;32m---> 21\u001b[0m gray_mask \u001b[38;5;241m=\u001b[39m \u001b[43mcv2\u001b[49m\u001b[38;5;241;43m.\u001b[39;49m\u001b[43minRange\u001b[49m\u001b[43m(\u001b[49m\u001b[43mblur\u001b[49m\u001b[43m,\u001b[49m\u001b[43m \u001b[49m\u001b[43mlower_background\u001b[49m\u001b[43m,\u001b[49m\u001b[43m \u001b[49m\u001b[43mupper_background\u001b[49m\u001b[43m)\u001b[49m\n\u001b[0;32m     22\u001b[0m non_gray_mask \u001b[38;5;241m=\u001b[39m cv2\u001b[38;5;241m.\u001b[39mbitwise_not(gray_mask)\n\u001b[0;32m     24\u001b[0m result \u001b[38;5;241m=\u001b[39m cv2\u001b[38;5;241m.\u001b[39mbitwise_and(image, image, mask\u001b[38;5;241m=\u001b[39mnon_gray_mask)\n",
      "\u001b[1;31merror\u001b[0m: OpenCV(4.9.0) D:\\a\\opencv-python\\opencv-python\\opencv\\modules\\core\\src\\arithm.cpp:1782: error: (-215:Assertion failed) lb.type() == ub.type() in function 'cv::inRange'\n"
     ]
    },
    {
     "ename": "error",
     "evalue": "OpenCV(4.9.0) D:\\a\\opencv-python\\opencv-python\\opencv\\modules\\core\\src\\arithm.cpp:1782: error: (-215:Assertion failed) lb.type() == ub.type() in function 'cv::inRange'\n",
     "output_type": "error",
     "traceback": [
      "\u001b[1;31m---------------------------------------------------------------------------\u001b[0m",
      "\u001b[1;31merror\u001b[0m                                     Traceback (most recent call last)",
      "Cell \u001b[1;32mIn[30], line 6\u001b[0m, in \u001b[0;36mupdate_tolerance\u001b[1;34m(*args)\u001b[0m\n\u001b[0;32m      4\u001b[0m saturation_tolerance \u001b[38;5;241m=\u001b[39m cv2\u001b[38;5;241m.\u001b[39mgetTrackbarPos(\u001b[38;5;124m\"\u001b[39m\u001b[38;5;124mSaturation\u001b[39m\u001b[38;5;124m\"\u001b[39m, window_name)\n\u001b[0;32m      5\u001b[0m value_tolerance \u001b[38;5;241m=\u001b[39m cv2\u001b[38;5;241m.\u001b[39mgetTrackbarPos(\u001b[38;5;124m\"\u001b[39m\u001b[38;5;124mValue\u001b[39m\u001b[38;5;124m\"\u001b[39m, window_name)\n\u001b[1;32m----> 6\u001b[0m \u001b[43mprocess_image\u001b[49m\u001b[43m(\u001b[49m\u001b[43m)\u001b[49m\n",
      "Cell \u001b[1;32mIn[30], line 21\u001b[0m, in \u001b[0;36mprocess_image\u001b[1;34m()\u001b[0m\n\u001b[0;32m     17\u001b[0m upper_background \u001b[38;5;241m=\u001b[39m np\u001b[38;5;241m.\u001b[39marray([upper_limit_0, upper_limit_1, upper_limit_2])\n\u001b[0;32m     19\u001b[0m blur \u001b[38;5;241m=\u001b[39m cv2\u001b[38;5;241m.\u001b[39mGaussianBlur(hsv, (\u001b[38;5;241m11\u001b[39m, \u001b[38;5;241m11\u001b[39m), \u001b[38;5;241m0\u001b[39m)\n\u001b[1;32m---> 21\u001b[0m gray_mask \u001b[38;5;241m=\u001b[39m \u001b[43mcv2\u001b[49m\u001b[38;5;241;43m.\u001b[39;49m\u001b[43minRange\u001b[49m\u001b[43m(\u001b[49m\u001b[43mblur\u001b[49m\u001b[43m,\u001b[49m\u001b[43m \u001b[49m\u001b[43mlower_background\u001b[49m\u001b[43m,\u001b[49m\u001b[43m \u001b[49m\u001b[43mupper_background\u001b[49m\u001b[43m)\u001b[49m\n\u001b[0;32m     22\u001b[0m non_gray_mask \u001b[38;5;241m=\u001b[39m cv2\u001b[38;5;241m.\u001b[39mbitwise_not(gray_mask)\n\u001b[0;32m     24\u001b[0m result \u001b[38;5;241m=\u001b[39m cv2\u001b[38;5;241m.\u001b[39mbitwise_and(image, image, mask\u001b[38;5;241m=\u001b[39mnon_gray_mask)\n",
      "\u001b[1;31merror\u001b[0m: OpenCV(4.9.0) D:\\a\\opencv-python\\opencv-python\\opencv\\modules\\core\\src\\arithm.cpp:1782: error: (-215:Assertion failed) lb.type() == ub.type() in function 'cv::inRange'\n"
     ]
    },
    {
     "ename": "error",
     "evalue": "OpenCV(4.9.0) D:\\a\\opencv-python\\opencv-python\\opencv\\modules\\core\\src\\arithm.cpp:1782: error: (-215:Assertion failed) lb.type() == ub.type() in function 'cv::inRange'\n",
     "output_type": "error",
     "traceback": [
      "\u001b[1;31m---------------------------------------------------------------------------\u001b[0m",
      "\u001b[1;31merror\u001b[0m                                     Traceback (most recent call last)",
      "Cell \u001b[1;32mIn[30], line 6\u001b[0m, in \u001b[0;36mupdate_tolerance\u001b[1;34m(*args)\u001b[0m\n\u001b[0;32m      4\u001b[0m saturation_tolerance \u001b[38;5;241m=\u001b[39m cv2\u001b[38;5;241m.\u001b[39mgetTrackbarPos(\u001b[38;5;124m\"\u001b[39m\u001b[38;5;124mSaturation\u001b[39m\u001b[38;5;124m\"\u001b[39m, window_name)\n\u001b[0;32m      5\u001b[0m value_tolerance \u001b[38;5;241m=\u001b[39m cv2\u001b[38;5;241m.\u001b[39mgetTrackbarPos(\u001b[38;5;124m\"\u001b[39m\u001b[38;5;124mValue\u001b[39m\u001b[38;5;124m\"\u001b[39m, window_name)\n\u001b[1;32m----> 6\u001b[0m \u001b[43mprocess_image\u001b[49m\u001b[43m(\u001b[49m\u001b[43m)\u001b[49m\n",
      "Cell \u001b[1;32mIn[30], line 21\u001b[0m, in \u001b[0;36mprocess_image\u001b[1;34m()\u001b[0m\n\u001b[0;32m     17\u001b[0m upper_background \u001b[38;5;241m=\u001b[39m np\u001b[38;5;241m.\u001b[39marray([upper_limit_0, upper_limit_1, upper_limit_2])\n\u001b[0;32m     19\u001b[0m blur \u001b[38;5;241m=\u001b[39m cv2\u001b[38;5;241m.\u001b[39mGaussianBlur(hsv, (\u001b[38;5;241m11\u001b[39m, \u001b[38;5;241m11\u001b[39m), \u001b[38;5;241m0\u001b[39m)\n\u001b[1;32m---> 21\u001b[0m gray_mask \u001b[38;5;241m=\u001b[39m \u001b[43mcv2\u001b[49m\u001b[38;5;241;43m.\u001b[39;49m\u001b[43minRange\u001b[49m\u001b[43m(\u001b[49m\u001b[43mblur\u001b[49m\u001b[43m,\u001b[49m\u001b[43m \u001b[49m\u001b[43mlower_background\u001b[49m\u001b[43m,\u001b[49m\u001b[43m \u001b[49m\u001b[43mupper_background\u001b[49m\u001b[43m)\u001b[49m\n\u001b[0;32m     22\u001b[0m non_gray_mask \u001b[38;5;241m=\u001b[39m cv2\u001b[38;5;241m.\u001b[39mbitwise_not(gray_mask)\n\u001b[0;32m     24\u001b[0m result \u001b[38;5;241m=\u001b[39m cv2\u001b[38;5;241m.\u001b[39mbitwise_and(image, image, mask\u001b[38;5;241m=\u001b[39mnon_gray_mask)\n",
      "\u001b[1;31merror\u001b[0m: OpenCV(4.9.0) D:\\a\\opencv-python\\opencv-python\\opencv\\modules\\core\\src\\arithm.cpp:1782: error: (-215:Assertion failed) lb.type() == ub.type() in function 'cv::inRange'\n"
     ]
    },
    {
     "ename": "error",
     "evalue": "OpenCV(4.9.0) D:\\a\\opencv-python\\opencv-python\\opencv\\modules\\core\\src\\arithm.cpp:1782: error: (-215:Assertion failed) lb.type() == ub.type() in function 'cv::inRange'\n",
     "output_type": "error",
     "traceback": [
      "\u001b[1;31m---------------------------------------------------------------------------\u001b[0m",
      "\u001b[1;31merror\u001b[0m                                     Traceback (most recent call last)",
      "Cell \u001b[1;32mIn[30], line 6\u001b[0m, in \u001b[0;36mupdate_tolerance\u001b[1;34m(*args)\u001b[0m\n\u001b[0;32m      4\u001b[0m saturation_tolerance \u001b[38;5;241m=\u001b[39m cv2\u001b[38;5;241m.\u001b[39mgetTrackbarPos(\u001b[38;5;124m\"\u001b[39m\u001b[38;5;124mSaturation\u001b[39m\u001b[38;5;124m\"\u001b[39m, window_name)\n\u001b[0;32m      5\u001b[0m value_tolerance \u001b[38;5;241m=\u001b[39m cv2\u001b[38;5;241m.\u001b[39mgetTrackbarPos(\u001b[38;5;124m\"\u001b[39m\u001b[38;5;124mValue\u001b[39m\u001b[38;5;124m\"\u001b[39m, window_name)\n\u001b[1;32m----> 6\u001b[0m \u001b[43mprocess_image\u001b[49m\u001b[43m(\u001b[49m\u001b[43m)\u001b[49m\n",
      "Cell \u001b[1;32mIn[30], line 21\u001b[0m, in \u001b[0;36mprocess_image\u001b[1;34m()\u001b[0m\n\u001b[0;32m     17\u001b[0m upper_background \u001b[38;5;241m=\u001b[39m np\u001b[38;5;241m.\u001b[39marray([upper_limit_0, upper_limit_1, upper_limit_2])\n\u001b[0;32m     19\u001b[0m blur \u001b[38;5;241m=\u001b[39m cv2\u001b[38;5;241m.\u001b[39mGaussianBlur(hsv, (\u001b[38;5;241m11\u001b[39m, \u001b[38;5;241m11\u001b[39m), \u001b[38;5;241m0\u001b[39m)\n\u001b[1;32m---> 21\u001b[0m gray_mask \u001b[38;5;241m=\u001b[39m \u001b[43mcv2\u001b[49m\u001b[38;5;241;43m.\u001b[39;49m\u001b[43minRange\u001b[49m\u001b[43m(\u001b[49m\u001b[43mblur\u001b[49m\u001b[43m,\u001b[49m\u001b[43m \u001b[49m\u001b[43mlower_background\u001b[49m\u001b[43m,\u001b[49m\u001b[43m \u001b[49m\u001b[43mupper_background\u001b[49m\u001b[43m)\u001b[49m\n\u001b[0;32m     22\u001b[0m non_gray_mask \u001b[38;5;241m=\u001b[39m cv2\u001b[38;5;241m.\u001b[39mbitwise_not(gray_mask)\n\u001b[0;32m     24\u001b[0m result \u001b[38;5;241m=\u001b[39m cv2\u001b[38;5;241m.\u001b[39mbitwise_and(image, image, mask\u001b[38;5;241m=\u001b[39mnon_gray_mask)\n",
      "\u001b[1;31merror\u001b[0m: OpenCV(4.9.0) D:\\a\\opencv-python\\opencv-python\\opencv\\modules\\core\\src\\arithm.cpp:1782: error: (-215:Assertion failed) lb.type() == ub.type() in function 'cv::inRange'\n"
     ]
    },
    {
     "ename": "error",
     "evalue": "OpenCV(4.9.0) D:\\a\\opencv-python\\opencv-python\\opencv\\modules\\core\\src\\arithm.cpp:1782: error: (-215:Assertion failed) lb.type() == ub.type() in function 'cv::inRange'\n",
     "output_type": "error",
     "traceback": [
      "\u001b[1;31m---------------------------------------------------------------------------\u001b[0m",
      "\u001b[1;31merror\u001b[0m                                     Traceback (most recent call last)",
      "Cell \u001b[1;32mIn[30], line 6\u001b[0m, in \u001b[0;36mupdate_tolerance\u001b[1;34m(*args)\u001b[0m\n\u001b[0;32m      4\u001b[0m saturation_tolerance \u001b[38;5;241m=\u001b[39m cv2\u001b[38;5;241m.\u001b[39mgetTrackbarPos(\u001b[38;5;124m\"\u001b[39m\u001b[38;5;124mSaturation\u001b[39m\u001b[38;5;124m\"\u001b[39m, window_name)\n\u001b[0;32m      5\u001b[0m value_tolerance \u001b[38;5;241m=\u001b[39m cv2\u001b[38;5;241m.\u001b[39mgetTrackbarPos(\u001b[38;5;124m\"\u001b[39m\u001b[38;5;124mValue\u001b[39m\u001b[38;5;124m\"\u001b[39m, window_name)\n\u001b[1;32m----> 6\u001b[0m \u001b[43mprocess_image\u001b[49m\u001b[43m(\u001b[49m\u001b[43m)\u001b[49m\n",
      "Cell \u001b[1;32mIn[30], line 21\u001b[0m, in \u001b[0;36mprocess_image\u001b[1;34m()\u001b[0m\n\u001b[0;32m     17\u001b[0m upper_background \u001b[38;5;241m=\u001b[39m np\u001b[38;5;241m.\u001b[39marray([upper_limit_0, upper_limit_1, upper_limit_2])\n\u001b[0;32m     19\u001b[0m blur \u001b[38;5;241m=\u001b[39m cv2\u001b[38;5;241m.\u001b[39mGaussianBlur(hsv, (\u001b[38;5;241m11\u001b[39m, \u001b[38;5;241m11\u001b[39m), \u001b[38;5;241m0\u001b[39m)\n\u001b[1;32m---> 21\u001b[0m gray_mask \u001b[38;5;241m=\u001b[39m \u001b[43mcv2\u001b[49m\u001b[38;5;241;43m.\u001b[39;49m\u001b[43minRange\u001b[49m\u001b[43m(\u001b[49m\u001b[43mblur\u001b[49m\u001b[43m,\u001b[49m\u001b[43m \u001b[49m\u001b[43mlower_background\u001b[49m\u001b[43m,\u001b[49m\u001b[43m \u001b[49m\u001b[43mupper_background\u001b[49m\u001b[43m)\u001b[49m\n\u001b[0;32m     22\u001b[0m non_gray_mask \u001b[38;5;241m=\u001b[39m cv2\u001b[38;5;241m.\u001b[39mbitwise_not(gray_mask)\n\u001b[0;32m     24\u001b[0m result \u001b[38;5;241m=\u001b[39m cv2\u001b[38;5;241m.\u001b[39mbitwise_and(image, image, mask\u001b[38;5;241m=\u001b[39mnon_gray_mask)\n",
      "\u001b[1;31merror\u001b[0m: OpenCV(4.9.0) D:\\a\\opencv-python\\opencv-python\\opencv\\modules\\core\\src\\arithm.cpp:1782: error: (-215:Assertion failed) lb.type() == ub.type() in function 'cv::inRange'\n"
     ]
    },
    {
     "ename": "error",
     "evalue": "OpenCV(4.9.0) D:\\a\\opencv-python\\opencv-python\\opencv\\modules\\core\\src\\arithm.cpp:1782: error: (-215:Assertion failed) lb.type() == ub.type() in function 'cv::inRange'\n",
     "output_type": "error",
     "traceback": [
      "\u001b[1;31m---------------------------------------------------------------------------\u001b[0m",
      "\u001b[1;31merror\u001b[0m                                     Traceback (most recent call last)",
      "Cell \u001b[1;32mIn[30], line 6\u001b[0m, in \u001b[0;36mupdate_tolerance\u001b[1;34m(*args)\u001b[0m\n\u001b[0;32m      4\u001b[0m saturation_tolerance \u001b[38;5;241m=\u001b[39m cv2\u001b[38;5;241m.\u001b[39mgetTrackbarPos(\u001b[38;5;124m\"\u001b[39m\u001b[38;5;124mSaturation\u001b[39m\u001b[38;5;124m\"\u001b[39m, window_name)\n\u001b[0;32m      5\u001b[0m value_tolerance \u001b[38;5;241m=\u001b[39m cv2\u001b[38;5;241m.\u001b[39mgetTrackbarPos(\u001b[38;5;124m\"\u001b[39m\u001b[38;5;124mValue\u001b[39m\u001b[38;5;124m\"\u001b[39m, window_name)\n\u001b[1;32m----> 6\u001b[0m \u001b[43mprocess_image\u001b[49m\u001b[43m(\u001b[49m\u001b[43m)\u001b[49m\n",
      "Cell \u001b[1;32mIn[30], line 21\u001b[0m, in \u001b[0;36mprocess_image\u001b[1;34m()\u001b[0m\n\u001b[0;32m     17\u001b[0m upper_background \u001b[38;5;241m=\u001b[39m np\u001b[38;5;241m.\u001b[39marray([upper_limit_0, upper_limit_1, upper_limit_2])\n\u001b[0;32m     19\u001b[0m blur \u001b[38;5;241m=\u001b[39m cv2\u001b[38;5;241m.\u001b[39mGaussianBlur(hsv, (\u001b[38;5;241m11\u001b[39m, \u001b[38;5;241m11\u001b[39m), \u001b[38;5;241m0\u001b[39m)\n\u001b[1;32m---> 21\u001b[0m gray_mask \u001b[38;5;241m=\u001b[39m \u001b[43mcv2\u001b[49m\u001b[38;5;241;43m.\u001b[39;49m\u001b[43minRange\u001b[49m\u001b[43m(\u001b[49m\u001b[43mblur\u001b[49m\u001b[43m,\u001b[49m\u001b[43m \u001b[49m\u001b[43mlower_background\u001b[49m\u001b[43m,\u001b[49m\u001b[43m \u001b[49m\u001b[43mupper_background\u001b[49m\u001b[43m)\u001b[49m\n\u001b[0;32m     22\u001b[0m non_gray_mask \u001b[38;5;241m=\u001b[39m cv2\u001b[38;5;241m.\u001b[39mbitwise_not(gray_mask)\n\u001b[0;32m     24\u001b[0m result \u001b[38;5;241m=\u001b[39m cv2\u001b[38;5;241m.\u001b[39mbitwise_and(image, image, mask\u001b[38;5;241m=\u001b[39mnon_gray_mask)\n",
      "\u001b[1;31merror\u001b[0m: OpenCV(4.9.0) D:\\a\\opencv-python\\opencv-python\\opencv\\modules\\core\\src\\arithm.cpp:1782: error: (-215:Assertion failed) lb.type() == ub.type() in function 'cv::inRange'\n"
     ]
    },
    {
     "ename": "error",
     "evalue": "OpenCV(4.9.0) D:\\a\\opencv-python\\opencv-python\\opencv\\modules\\core\\src\\arithm.cpp:1782: error: (-215:Assertion failed) lb.type() == ub.type() in function 'cv::inRange'\n",
     "output_type": "error",
     "traceback": [
      "\u001b[1;31m---------------------------------------------------------------------------\u001b[0m",
      "\u001b[1;31merror\u001b[0m                                     Traceback (most recent call last)",
      "Cell \u001b[1;32mIn[30], line 6\u001b[0m, in \u001b[0;36mupdate_tolerance\u001b[1;34m(*args)\u001b[0m\n\u001b[0;32m      4\u001b[0m saturation_tolerance \u001b[38;5;241m=\u001b[39m cv2\u001b[38;5;241m.\u001b[39mgetTrackbarPos(\u001b[38;5;124m\"\u001b[39m\u001b[38;5;124mSaturation\u001b[39m\u001b[38;5;124m\"\u001b[39m, window_name)\n\u001b[0;32m      5\u001b[0m value_tolerance \u001b[38;5;241m=\u001b[39m cv2\u001b[38;5;241m.\u001b[39mgetTrackbarPos(\u001b[38;5;124m\"\u001b[39m\u001b[38;5;124mValue\u001b[39m\u001b[38;5;124m\"\u001b[39m, window_name)\n\u001b[1;32m----> 6\u001b[0m \u001b[43mprocess_image\u001b[49m\u001b[43m(\u001b[49m\u001b[43m)\u001b[49m\n",
      "Cell \u001b[1;32mIn[30], line 21\u001b[0m, in \u001b[0;36mprocess_image\u001b[1;34m()\u001b[0m\n\u001b[0;32m     17\u001b[0m upper_background \u001b[38;5;241m=\u001b[39m np\u001b[38;5;241m.\u001b[39marray([upper_limit_0, upper_limit_1, upper_limit_2])\n\u001b[0;32m     19\u001b[0m blur \u001b[38;5;241m=\u001b[39m cv2\u001b[38;5;241m.\u001b[39mGaussianBlur(hsv, (\u001b[38;5;241m11\u001b[39m, \u001b[38;5;241m11\u001b[39m), \u001b[38;5;241m0\u001b[39m)\n\u001b[1;32m---> 21\u001b[0m gray_mask \u001b[38;5;241m=\u001b[39m \u001b[43mcv2\u001b[49m\u001b[38;5;241;43m.\u001b[39;49m\u001b[43minRange\u001b[49m\u001b[43m(\u001b[49m\u001b[43mblur\u001b[49m\u001b[43m,\u001b[49m\u001b[43m \u001b[49m\u001b[43mlower_background\u001b[49m\u001b[43m,\u001b[49m\u001b[43m \u001b[49m\u001b[43mupper_background\u001b[49m\u001b[43m)\u001b[49m\n\u001b[0;32m     22\u001b[0m non_gray_mask \u001b[38;5;241m=\u001b[39m cv2\u001b[38;5;241m.\u001b[39mbitwise_not(gray_mask)\n\u001b[0;32m     24\u001b[0m result \u001b[38;5;241m=\u001b[39m cv2\u001b[38;5;241m.\u001b[39mbitwise_and(image, image, mask\u001b[38;5;241m=\u001b[39mnon_gray_mask)\n",
      "\u001b[1;31merror\u001b[0m: OpenCV(4.9.0) D:\\a\\opencv-python\\opencv-python\\opencv\\modules\\core\\src\\arithm.cpp:1782: error: (-215:Assertion failed) lb.type() == ub.type() in function 'cv::inRange'\n"
     ]
    },
    {
     "ename": "error",
     "evalue": "OpenCV(4.9.0) D:\\a\\opencv-python\\opencv-python\\opencv\\modules\\core\\src\\arithm.cpp:1782: error: (-215:Assertion failed) lb.type() == ub.type() in function 'cv::inRange'\n",
     "output_type": "error",
     "traceback": [
      "\u001b[1;31m---------------------------------------------------------------------------\u001b[0m",
      "\u001b[1;31merror\u001b[0m                                     Traceback (most recent call last)",
      "Cell \u001b[1;32mIn[30], line 6\u001b[0m, in \u001b[0;36mupdate_tolerance\u001b[1;34m(*args)\u001b[0m\n\u001b[0;32m      4\u001b[0m saturation_tolerance \u001b[38;5;241m=\u001b[39m cv2\u001b[38;5;241m.\u001b[39mgetTrackbarPos(\u001b[38;5;124m\"\u001b[39m\u001b[38;5;124mSaturation\u001b[39m\u001b[38;5;124m\"\u001b[39m, window_name)\n\u001b[0;32m      5\u001b[0m value_tolerance \u001b[38;5;241m=\u001b[39m cv2\u001b[38;5;241m.\u001b[39mgetTrackbarPos(\u001b[38;5;124m\"\u001b[39m\u001b[38;5;124mValue\u001b[39m\u001b[38;5;124m\"\u001b[39m, window_name)\n\u001b[1;32m----> 6\u001b[0m \u001b[43mprocess_image\u001b[49m\u001b[43m(\u001b[49m\u001b[43m)\u001b[49m\n",
      "Cell \u001b[1;32mIn[30], line 21\u001b[0m, in \u001b[0;36mprocess_image\u001b[1;34m()\u001b[0m\n\u001b[0;32m     17\u001b[0m upper_background \u001b[38;5;241m=\u001b[39m np\u001b[38;5;241m.\u001b[39marray([upper_limit_0, upper_limit_1, upper_limit_2])\n\u001b[0;32m     19\u001b[0m blur \u001b[38;5;241m=\u001b[39m cv2\u001b[38;5;241m.\u001b[39mGaussianBlur(hsv, (\u001b[38;5;241m11\u001b[39m, \u001b[38;5;241m11\u001b[39m), \u001b[38;5;241m0\u001b[39m)\n\u001b[1;32m---> 21\u001b[0m gray_mask \u001b[38;5;241m=\u001b[39m \u001b[43mcv2\u001b[49m\u001b[38;5;241;43m.\u001b[39;49m\u001b[43minRange\u001b[49m\u001b[43m(\u001b[49m\u001b[43mblur\u001b[49m\u001b[43m,\u001b[49m\u001b[43m \u001b[49m\u001b[43mlower_background\u001b[49m\u001b[43m,\u001b[49m\u001b[43m \u001b[49m\u001b[43mupper_background\u001b[49m\u001b[43m)\u001b[49m\n\u001b[0;32m     22\u001b[0m non_gray_mask \u001b[38;5;241m=\u001b[39m cv2\u001b[38;5;241m.\u001b[39mbitwise_not(gray_mask)\n\u001b[0;32m     24\u001b[0m result \u001b[38;5;241m=\u001b[39m cv2\u001b[38;5;241m.\u001b[39mbitwise_and(image, image, mask\u001b[38;5;241m=\u001b[39mnon_gray_mask)\n",
      "\u001b[1;31merror\u001b[0m: OpenCV(4.9.0) D:\\a\\opencv-python\\opencv-python\\opencv\\modules\\core\\src\\arithm.cpp:1782: error: (-215:Assertion failed) lb.type() == ub.type() in function 'cv::inRange'\n"
     ]
    },
    {
     "ename": "error",
     "evalue": "OpenCV(4.9.0) D:\\a\\opencv-python\\opencv-python\\opencv\\modules\\core\\src\\arithm.cpp:1782: error: (-215:Assertion failed) lb.type() == ub.type() in function 'cv::inRange'\n",
     "output_type": "error",
     "traceback": [
      "\u001b[1;31m---------------------------------------------------------------------------\u001b[0m",
      "\u001b[1;31merror\u001b[0m                                     Traceback (most recent call last)",
      "Cell \u001b[1;32mIn[30], line 6\u001b[0m, in \u001b[0;36mupdate_tolerance\u001b[1;34m(*args)\u001b[0m\n\u001b[0;32m      4\u001b[0m saturation_tolerance \u001b[38;5;241m=\u001b[39m cv2\u001b[38;5;241m.\u001b[39mgetTrackbarPos(\u001b[38;5;124m\"\u001b[39m\u001b[38;5;124mSaturation\u001b[39m\u001b[38;5;124m\"\u001b[39m, window_name)\n\u001b[0;32m      5\u001b[0m value_tolerance \u001b[38;5;241m=\u001b[39m cv2\u001b[38;5;241m.\u001b[39mgetTrackbarPos(\u001b[38;5;124m\"\u001b[39m\u001b[38;5;124mValue\u001b[39m\u001b[38;5;124m\"\u001b[39m, window_name)\n\u001b[1;32m----> 6\u001b[0m \u001b[43mprocess_image\u001b[49m\u001b[43m(\u001b[49m\u001b[43m)\u001b[49m\n",
      "Cell \u001b[1;32mIn[30], line 21\u001b[0m, in \u001b[0;36mprocess_image\u001b[1;34m()\u001b[0m\n\u001b[0;32m     17\u001b[0m upper_background \u001b[38;5;241m=\u001b[39m np\u001b[38;5;241m.\u001b[39marray([upper_limit_0, upper_limit_1, upper_limit_2])\n\u001b[0;32m     19\u001b[0m blur \u001b[38;5;241m=\u001b[39m cv2\u001b[38;5;241m.\u001b[39mGaussianBlur(hsv, (\u001b[38;5;241m11\u001b[39m, \u001b[38;5;241m11\u001b[39m), \u001b[38;5;241m0\u001b[39m)\n\u001b[1;32m---> 21\u001b[0m gray_mask \u001b[38;5;241m=\u001b[39m \u001b[43mcv2\u001b[49m\u001b[38;5;241;43m.\u001b[39;49m\u001b[43minRange\u001b[49m\u001b[43m(\u001b[49m\u001b[43mblur\u001b[49m\u001b[43m,\u001b[49m\u001b[43m \u001b[49m\u001b[43mlower_background\u001b[49m\u001b[43m,\u001b[49m\u001b[43m \u001b[49m\u001b[43mupper_background\u001b[49m\u001b[43m)\u001b[49m\n\u001b[0;32m     22\u001b[0m non_gray_mask \u001b[38;5;241m=\u001b[39m cv2\u001b[38;5;241m.\u001b[39mbitwise_not(gray_mask)\n\u001b[0;32m     24\u001b[0m result \u001b[38;5;241m=\u001b[39m cv2\u001b[38;5;241m.\u001b[39mbitwise_and(image, image, mask\u001b[38;5;241m=\u001b[39mnon_gray_mask)\n",
      "\u001b[1;31merror\u001b[0m: OpenCV(4.9.0) D:\\a\\opencv-python\\opencv-python\\opencv\\modules\\core\\src\\arithm.cpp:1782: error: (-215:Assertion failed) lb.type() == ub.type() in function 'cv::inRange'\n"
     ]
    },
    {
     "ename": "error",
     "evalue": "OpenCV(4.9.0) D:\\a\\opencv-python\\opencv-python\\opencv\\modules\\core\\src\\arithm.cpp:1782: error: (-215:Assertion failed) lb.type() == ub.type() in function 'cv::inRange'\n",
     "output_type": "error",
     "traceback": [
      "\u001b[1;31m---------------------------------------------------------------------------\u001b[0m",
      "\u001b[1;31merror\u001b[0m                                     Traceback (most recent call last)",
      "Cell \u001b[1;32mIn[30], line 6\u001b[0m, in \u001b[0;36mupdate_tolerance\u001b[1;34m(*args)\u001b[0m\n\u001b[0;32m      4\u001b[0m saturation_tolerance \u001b[38;5;241m=\u001b[39m cv2\u001b[38;5;241m.\u001b[39mgetTrackbarPos(\u001b[38;5;124m\"\u001b[39m\u001b[38;5;124mSaturation\u001b[39m\u001b[38;5;124m\"\u001b[39m, window_name)\n\u001b[0;32m      5\u001b[0m value_tolerance \u001b[38;5;241m=\u001b[39m cv2\u001b[38;5;241m.\u001b[39mgetTrackbarPos(\u001b[38;5;124m\"\u001b[39m\u001b[38;5;124mValue\u001b[39m\u001b[38;5;124m\"\u001b[39m, window_name)\n\u001b[1;32m----> 6\u001b[0m \u001b[43mprocess_image\u001b[49m\u001b[43m(\u001b[49m\u001b[43m)\u001b[49m\n",
      "Cell \u001b[1;32mIn[30], line 21\u001b[0m, in \u001b[0;36mprocess_image\u001b[1;34m()\u001b[0m\n\u001b[0;32m     17\u001b[0m upper_background \u001b[38;5;241m=\u001b[39m np\u001b[38;5;241m.\u001b[39marray([upper_limit_0, upper_limit_1, upper_limit_2])\n\u001b[0;32m     19\u001b[0m blur \u001b[38;5;241m=\u001b[39m cv2\u001b[38;5;241m.\u001b[39mGaussianBlur(hsv, (\u001b[38;5;241m11\u001b[39m, \u001b[38;5;241m11\u001b[39m), \u001b[38;5;241m0\u001b[39m)\n\u001b[1;32m---> 21\u001b[0m gray_mask \u001b[38;5;241m=\u001b[39m \u001b[43mcv2\u001b[49m\u001b[38;5;241;43m.\u001b[39;49m\u001b[43minRange\u001b[49m\u001b[43m(\u001b[49m\u001b[43mblur\u001b[49m\u001b[43m,\u001b[49m\u001b[43m \u001b[49m\u001b[43mlower_background\u001b[49m\u001b[43m,\u001b[49m\u001b[43m \u001b[49m\u001b[43mupper_background\u001b[49m\u001b[43m)\u001b[49m\n\u001b[0;32m     22\u001b[0m non_gray_mask \u001b[38;5;241m=\u001b[39m cv2\u001b[38;5;241m.\u001b[39mbitwise_not(gray_mask)\n\u001b[0;32m     24\u001b[0m result \u001b[38;5;241m=\u001b[39m cv2\u001b[38;5;241m.\u001b[39mbitwise_and(image, image, mask\u001b[38;5;241m=\u001b[39mnon_gray_mask)\n",
      "\u001b[1;31merror\u001b[0m: OpenCV(4.9.0) D:\\a\\opencv-python\\opencv-python\\opencv\\modules\\core\\src\\arithm.cpp:1782: error: (-215:Assertion failed) lb.type() == ub.type() in function 'cv::inRange'\n"
     ]
    },
    {
     "ename": "error",
     "evalue": "OpenCV(4.9.0) D:\\a\\opencv-python\\opencv-python\\opencv\\modules\\core\\src\\arithm.cpp:1782: error: (-215:Assertion failed) lb.type() == ub.type() in function 'cv::inRange'\n",
     "output_type": "error",
     "traceback": [
      "\u001b[1;31m---------------------------------------------------------------------------\u001b[0m",
      "\u001b[1;31merror\u001b[0m                                     Traceback (most recent call last)",
      "Cell \u001b[1;32mIn[30], line 6\u001b[0m, in \u001b[0;36mupdate_tolerance\u001b[1;34m(*args)\u001b[0m\n\u001b[0;32m      4\u001b[0m saturation_tolerance \u001b[38;5;241m=\u001b[39m cv2\u001b[38;5;241m.\u001b[39mgetTrackbarPos(\u001b[38;5;124m\"\u001b[39m\u001b[38;5;124mSaturation\u001b[39m\u001b[38;5;124m\"\u001b[39m, window_name)\n\u001b[0;32m      5\u001b[0m value_tolerance \u001b[38;5;241m=\u001b[39m cv2\u001b[38;5;241m.\u001b[39mgetTrackbarPos(\u001b[38;5;124m\"\u001b[39m\u001b[38;5;124mValue\u001b[39m\u001b[38;5;124m\"\u001b[39m, window_name)\n\u001b[1;32m----> 6\u001b[0m \u001b[43mprocess_image\u001b[49m\u001b[43m(\u001b[49m\u001b[43m)\u001b[49m\n",
      "Cell \u001b[1;32mIn[30], line 21\u001b[0m, in \u001b[0;36mprocess_image\u001b[1;34m()\u001b[0m\n\u001b[0;32m     17\u001b[0m upper_background \u001b[38;5;241m=\u001b[39m np\u001b[38;5;241m.\u001b[39marray([upper_limit_0, upper_limit_1, upper_limit_2])\n\u001b[0;32m     19\u001b[0m blur \u001b[38;5;241m=\u001b[39m cv2\u001b[38;5;241m.\u001b[39mGaussianBlur(hsv, (\u001b[38;5;241m11\u001b[39m, \u001b[38;5;241m11\u001b[39m), \u001b[38;5;241m0\u001b[39m)\n\u001b[1;32m---> 21\u001b[0m gray_mask \u001b[38;5;241m=\u001b[39m \u001b[43mcv2\u001b[49m\u001b[38;5;241;43m.\u001b[39;49m\u001b[43minRange\u001b[49m\u001b[43m(\u001b[49m\u001b[43mblur\u001b[49m\u001b[43m,\u001b[49m\u001b[43m \u001b[49m\u001b[43mlower_background\u001b[49m\u001b[43m,\u001b[49m\u001b[43m \u001b[49m\u001b[43mupper_background\u001b[49m\u001b[43m)\u001b[49m\n\u001b[0;32m     22\u001b[0m non_gray_mask \u001b[38;5;241m=\u001b[39m cv2\u001b[38;5;241m.\u001b[39mbitwise_not(gray_mask)\n\u001b[0;32m     24\u001b[0m result \u001b[38;5;241m=\u001b[39m cv2\u001b[38;5;241m.\u001b[39mbitwise_and(image, image, mask\u001b[38;5;241m=\u001b[39mnon_gray_mask)\n",
      "\u001b[1;31merror\u001b[0m: OpenCV(4.9.0) D:\\a\\opencv-python\\opencv-python\\opencv\\modules\\core\\src\\arithm.cpp:1782: error: (-215:Assertion failed) lb.type() == ub.type() in function 'cv::inRange'\n"
     ]
    },
    {
     "ename": "error",
     "evalue": "OpenCV(4.9.0) D:\\a\\opencv-python\\opencv-python\\opencv\\modules\\core\\src\\arithm.cpp:1782: error: (-215:Assertion failed) lb.type() == ub.type() in function 'cv::inRange'\n",
     "output_type": "error",
     "traceback": [
      "\u001b[1;31m---------------------------------------------------------------------------\u001b[0m",
      "\u001b[1;31merror\u001b[0m                                     Traceback (most recent call last)",
      "Cell \u001b[1;32mIn[30], line 6\u001b[0m, in \u001b[0;36mupdate_tolerance\u001b[1;34m(*args)\u001b[0m\n\u001b[0;32m      4\u001b[0m saturation_tolerance \u001b[38;5;241m=\u001b[39m cv2\u001b[38;5;241m.\u001b[39mgetTrackbarPos(\u001b[38;5;124m\"\u001b[39m\u001b[38;5;124mSaturation\u001b[39m\u001b[38;5;124m\"\u001b[39m, window_name)\n\u001b[0;32m      5\u001b[0m value_tolerance \u001b[38;5;241m=\u001b[39m cv2\u001b[38;5;241m.\u001b[39mgetTrackbarPos(\u001b[38;5;124m\"\u001b[39m\u001b[38;5;124mValue\u001b[39m\u001b[38;5;124m\"\u001b[39m, window_name)\n\u001b[1;32m----> 6\u001b[0m \u001b[43mprocess_image\u001b[49m\u001b[43m(\u001b[49m\u001b[43m)\u001b[49m\n",
      "Cell \u001b[1;32mIn[30], line 21\u001b[0m, in \u001b[0;36mprocess_image\u001b[1;34m()\u001b[0m\n\u001b[0;32m     17\u001b[0m upper_background \u001b[38;5;241m=\u001b[39m np\u001b[38;5;241m.\u001b[39marray([upper_limit_0, upper_limit_1, upper_limit_2])\n\u001b[0;32m     19\u001b[0m blur \u001b[38;5;241m=\u001b[39m cv2\u001b[38;5;241m.\u001b[39mGaussianBlur(hsv, (\u001b[38;5;241m11\u001b[39m, \u001b[38;5;241m11\u001b[39m), \u001b[38;5;241m0\u001b[39m)\n\u001b[1;32m---> 21\u001b[0m gray_mask \u001b[38;5;241m=\u001b[39m \u001b[43mcv2\u001b[49m\u001b[38;5;241;43m.\u001b[39;49m\u001b[43minRange\u001b[49m\u001b[43m(\u001b[49m\u001b[43mblur\u001b[49m\u001b[43m,\u001b[49m\u001b[43m \u001b[49m\u001b[43mlower_background\u001b[49m\u001b[43m,\u001b[49m\u001b[43m \u001b[49m\u001b[43mupper_background\u001b[49m\u001b[43m)\u001b[49m\n\u001b[0;32m     22\u001b[0m non_gray_mask \u001b[38;5;241m=\u001b[39m cv2\u001b[38;5;241m.\u001b[39mbitwise_not(gray_mask)\n\u001b[0;32m     24\u001b[0m result \u001b[38;5;241m=\u001b[39m cv2\u001b[38;5;241m.\u001b[39mbitwise_and(image, image, mask\u001b[38;5;241m=\u001b[39mnon_gray_mask)\n",
      "\u001b[1;31merror\u001b[0m: OpenCV(4.9.0) D:\\a\\opencv-python\\opencv-python\\opencv\\modules\\core\\src\\arithm.cpp:1782: error: (-215:Assertion failed) lb.type() == ub.type() in function 'cv::inRange'\n"
     ]
    },
    {
     "ename": "error",
     "evalue": "OpenCV(4.9.0) D:\\a\\opencv-python\\opencv-python\\opencv\\modules\\core\\src\\arithm.cpp:1782: error: (-215:Assertion failed) lb.type() == ub.type() in function 'cv::inRange'\n",
     "output_type": "error",
     "traceback": [
      "\u001b[1;31m---------------------------------------------------------------------------\u001b[0m",
      "\u001b[1;31merror\u001b[0m                                     Traceback (most recent call last)",
      "Cell \u001b[1;32mIn[30], line 6\u001b[0m, in \u001b[0;36mupdate_tolerance\u001b[1;34m(*args)\u001b[0m\n\u001b[0;32m      4\u001b[0m saturation_tolerance \u001b[38;5;241m=\u001b[39m cv2\u001b[38;5;241m.\u001b[39mgetTrackbarPos(\u001b[38;5;124m\"\u001b[39m\u001b[38;5;124mSaturation\u001b[39m\u001b[38;5;124m\"\u001b[39m, window_name)\n\u001b[0;32m      5\u001b[0m value_tolerance \u001b[38;5;241m=\u001b[39m cv2\u001b[38;5;241m.\u001b[39mgetTrackbarPos(\u001b[38;5;124m\"\u001b[39m\u001b[38;5;124mValue\u001b[39m\u001b[38;5;124m\"\u001b[39m, window_name)\n\u001b[1;32m----> 6\u001b[0m \u001b[43mprocess_image\u001b[49m\u001b[43m(\u001b[49m\u001b[43m)\u001b[49m\n",
      "Cell \u001b[1;32mIn[30], line 21\u001b[0m, in \u001b[0;36mprocess_image\u001b[1;34m()\u001b[0m\n\u001b[0;32m     17\u001b[0m upper_background \u001b[38;5;241m=\u001b[39m np\u001b[38;5;241m.\u001b[39marray([upper_limit_0, upper_limit_1, upper_limit_2])\n\u001b[0;32m     19\u001b[0m blur \u001b[38;5;241m=\u001b[39m cv2\u001b[38;5;241m.\u001b[39mGaussianBlur(hsv, (\u001b[38;5;241m11\u001b[39m, \u001b[38;5;241m11\u001b[39m), \u001b[38;5;241m0\u001b[39m)\n\u001b[1;32m---> 21\u001b[0m gray_mask \u001b[38;5;241m=\u001b[39m \u001b[43mcv2\u001b[49m\u001b[38;5;241;43m.\u001b[39;49m\u001b[43minRange\u001b[49m\u001b[43m(\u001b[49m\u001b[43mblur\u001b[49m\u001b[43m,\u001b[49m\u001b[43m \u001b[49m\u001b[43mlower_background\u001b[49m\u001b[43m,\u001b[49m\u001b[43m \u001b[49m\u001b[43mupper_background\u001b[49m\u001b[43m)\u001b[49m\n\u001b[0;32m     22\u001b[0m non_gray_mask \u001b[38;5;241m=\u001b[39m cv2\u001b[38;5;241m.\u001b[39mbitwise_not(gray_mask)\n\u001b[0;32m     24\u001b[0m result \u001b[38;5;241m=\u001b[39m cv2\u001b[38;5;241m.\u001b[39mbitwise_and(image, image, mask\u001b[38;5;241m=\u001b[39mnon_gray_mask)\n",
      "\u001b[1;31merror\u001b[0m: OpenCV(4.9.0) D:\\a\\opencv-python\\opencv-python\\opencv\\modules\\core\\src\\arithm.cpp:1782: error: (-215:Assertion failed) lb.type() == ub.type() in function 'cv::inRange'\n"
     ]
    },
    {
     "ename": "error",
     "evalue": "OpenCV(4.9.0) D:\\a\\opencv-python\\opencv-python\\opencv\\modules\\core\\src\\arithm.cpp:1782: error: (-215:Assertion failed) lb.type() == ub.type() in function 'cv::inRange'\n",
     "output_type": "error",
     "traceback": [
      "\u001b[1;31m---------------------------------------------------------------------------\u001b[0m",
      "\u001b[1;31merror\u001b[0m                                     Traceback (most recent call last)",
      "Cell \u001b[1;32mIn[30], line 6\u001b[0m, in \u001b[0;36mupdate_tolerance\u001b[1;34m(*args)\u001b[0m\n\u001b[0;32m      4\u001b[0m saturation_tolerance \u001b[38;5;241m=\u001b[39m cv2\u001b[38;5;241m.\u001b[39mgetTrackbarPos(\u001b[38;5;124m\"\u001b[39m\u001b[38;5;124mSaturation\u001b[39m\u001b[38;5;124m\"\u001b[39m, window_name)\n\u001b[0;32m      5\u001b[0m value_tolerance \u001b[38;5;241m=\u001b[39m cv2\u001b[38;5;241m.\u001b[39mgetTrackbarPos(\u001b[38;5;124m\"\u001b[39m\u001b[38;5;124mValue\u001b[39m\u001b[38;5;124m\"\u001b[39m, window_name)\n\u001b[1;32m----> 6\u001b[0m \u001b[43mprocess_image\u001b[49m\u001b[43m(\u001b[49m\u001b[43m)\u001b[49m\n",
      "Cell \u001b[1;32mIn[30], line 21\u001b[0m, in \u001b[0;36mprocess_image\u001b[1;34m()\u001b[0m\n\u001b[0;32m     17\u001b[0m upper_background \u001b[38;5;241m=\u001b[39m np\u001b[38;5;241m.\u001b[39marray([upper_limit_0, upper_limit_1, upper_limit_2])\n\u001b[0;32m     19\u001b[0m blur \u001b[38;5;241m=\u001b[39m cv2\u001b[38;5;241m.\u001b[39mGaussianBlur(hsv, (\u001b[38;5;241m11\u001b[39m, \u001b[38;5;241m11\u001b[39m), \u001b[38;5;241m0\u001b[39m)\n\u001b[1;32m---> 21\u001b[0m gray_mask \u001b[38;5;241m=\u001b[39m \u001b[43mcv2\u001b[49m\u001b[38;5;241;43m.\u001b[39;49m\u001b[43minRange\u001b[49m\u001b[43m(\u001b[49m\u001b[43mblur\u001b[49m\u001b[43m,\u001b[49m\u001b[43m \u001b[49m\u001b[43mlower_background\u001b[49m\u001b[43m,\u001b[49m\u001b[43m \u001b[49m\u001b[43mupper_background\u001b[49m\u001b[43m)\u001b[49m\n\u001b[0;32m     22\u001b[0m non_gray_mask \u001b[38;5;241m=\u001b[39m cv2\u001b[38;5;241m.\u001b[39mbitwise_not(gray_mask)\n\u001b[0;32m     24\u001b[0m result \u001b[38;5;241m=\u001b[39m cv2\u001b[38;5;241m.\u001b[39mbitwise_and(image, image, mask\u001b[38;5;241m=\u001b[39mnon_gray_mask)\n",
      "\u001b[1;31merror\u001b[0m: OpenCV(4.9.0) D:\\a\\opencv-python\\opencv-python\\opencv\\modules\\core\\src\\arithm.cpp:1782: error: (-215:Assertion failed) lb.type() == ub.type() in function 'cv::inRange'\n"
     ]
    },
    {
     "ename": "error",
     "evalue": "OpenCV(4.9.0) D:\\a\\opencv-python\\opencv-python\\opencv\\modules\\core\\src\\arithm.cpp:1782: error: (-215:Assertion failed) lb.type() == ub.type() in function 'cv::inRange'\n",
     "output_type": "error",
     "traceback": [
      "\u001b[1;31m---------------------------------------------------------------------------\u001b[0m",
      "\u001b[1;31merror\u001b[0m                                     Traceback (most recent call last)",
      "Cell \u001b[1;32mIn[30], line 6\u001b[0m, in \u001b[0;36mupdate_tolerance\u001b[1;34m(*args)\u001b[0m\n\u001b[0;32m      4\u001b[0m saturation_tolerance \u001b[38;5;241m=\u001b[39m cv2\u001b[38;5;241m.\u001b[39mgetTrackbarPos(\u001b[38;5;124m\"\u001b[39m\u001b[38;5;124mSaturation\u001b[39m\u001b[38;5;124m\"\u001b[39m, window_name)\n\u001b[0;32m      5\u001b[0m value_tolerance \u001b[38;5;241m=\u001b[39m cv2\u001b[38;5;241m.\u001b[39mgetTrackbarPos(\u001b[38;5;124m\"\u001b[39m\u001b[38;5;124mValue\u001b[39m\u001b[38;5;124m\"\u001b[39m, window_name)\n\u001b[1;32m----> 6\u001b[0m \u001b[43mprocess_image\u001b[49m\u001b[43m(\u001b[49m\u001b[43m)\u001b[49m\n",
      "Cell \u001b[1;32mIn[30], line 21\u001b[0m, in \u001b[0;36mprocess_image\u001b[1;34m()\u001b[0m\n\u001b[0;32m     17\u001b[0m upper_background \u001b[38;5;241m=\u001b[39m np\u001b[38;5;241m.\u001b[39marray([upper_limit_0, upper_limit_1, upper_limit_2])\n\u001b[0;32m     19\u001b[0m blur \u001b[38;5;241m=\u001b[39m cv2\u001b[38;5;241m.\u001b[39mGaussianBlur(hsv, (\u001b[38;5;241m11\u001b[39m, \u001b[38;5;241m11\u001b[39m), \u001b[38;5;241m0\u001b[39m)\n\u001b[1;32m---> 21\u001b[0m gray_mask \u001b[38;5;241m=\u001b[39m \u001b[43mcv2\u001b[49m\u001b[38;5;241;43m.\u001b[39;49m\u001b[43minRange\u001b[49m\u001b[43m(\u001b[49m\u001b[43mblur\u001b[49m\u001b[43m,\u001b[49m\u001b[43m \u001b[49m\u001b[43mlower_background\u001b[49m\u001b[43m,\u001b[49m\u001b[43m \u001b[49m\u001b[43mupper_background\u001b[49m\u001b[43m)\u001b[49m\n\u001b[0;32m     22\u001b[0m non_gray_mask \u001b[38;5;241m=\u001b[39m cv2\u001b[38;5;241m.\u001b[39mbitwise_not(gray_mask)\n\u001b[0;32m     24\u001b[0m result \u001b[38;5;241m=\u001b[39m cv2\u001b[38;5;241m.\u001b[39mbitwise_and(image, image, mask\u001b[38;5;241m=\u001b[39mnon_gray_mask)\n",
      "\u001b[1;31merror\u001b[0m: OpenCV(4.9.0) D:\\a\\opencv-python\\opencv-python\\opencv\\modules\\core\\src\\arithm.cpp:1782: error: (-215:Assertion failed) lb.type() == ub.type() in function 'cv::inRange'\n"
     ]
    },
    {
     "ename": "error",
     "evalue": "OpenCV(4.9.0) D:\\a\\opencv-python\\opencv-python\\opencv\\modules\\core\\src\\arithm.cpp:1782: error: (-215:Assertion failed) lb.type() == ub.type() in function 'cv::inRange'\n",
     "output_type": "error",
     "traceback": [
      "\u001b[1;31m---------------------------------------------------------------------------\u001b[0m",
      "\u001b[1;31merror\u001b[0m                                     Traceback (most recent call last)",
      "Cell \u001b[1;32mIn[30], line 6\u001b[0m, in \u001b[0;36mupdate_tolerance\u001b[1;34m(*args)\u001b[0m\n\u001b[0;32m      4\u001b[0m saturation_tolerance \u001b[38;5;241m=\u001b[39m cv2\u001b[38;5;241m.\u001b[39mgetTrackbarPos(\u001b[38;5;124m\"\u001b[39m\u001b[38;5;124mSaturation\u001b[39m\u001b[38;5;124m\"\u001b[39m, window_name)\n\u001b[0;32m      5\u001b[0m value_tolerance \u001b[38;5;241m=\u001b[39m cv2\u001b[38;5;241m.\u001b[39mgetTrackbarPos(\u001b[38;5;124m\"\u001b[39m\u001b[38;5;124mValue\u001b[39m\u001b[38;5;124m\"\u001b[39m, window_name)\n\u001b[1;32m----> 6\u001b[0m \u001b[43mprocess_image\u001b[49m\u001b[43m(\u001b[49m\u001b[43m)\u001b[49m\n",
      "Cell \u001b[1;32mIn[30], line 21\u001b[0m, in \u001b[0;36mprocess_image\u001b[1;34m()\u001b[0m\n\u001b[0;32m     17\u001b[0m upper_background \u001b[38;5;241m=\u001b[39m np\u001b[38;5;241m.\u001b[39marray([upper_limit_0, upper_limit_1, upper_limit_2])\n\u001b[0;32m     19\u001b[0m blur \u001b[38;5;241m=\u001b[39m cv2\u001b[38;5;241m.\u001b[39mGaussianBlur(hsv, (\u001b[38;5;241m11\u001b[39m, \u001b[38;5;241m11\u001b[39m), \u001b[38;5;241m0\u001b[39m)\n\u001b[1;32m---> 21\u001b[0m gray_mask \u001b[38;5;241m=\u001b[39m \u001b[43mcv2\u001b[49m\u001b[38;5;241;43m.\u001b[39;49m\u001b[43minRange\u001b[49m\u001b[43m(\u001b[49m\u001b[43mblur\u001b[49m\u001b[43m,\u001b[49m\u001b[43m \u001b[49m\u001b[43mlower_background\u001b[49m\u001b[43m,\u001b[49m\u001b[43m \u001b[49m\u001b[43mupper_background\u001b[49m\u001b[43m)\u001b[49m\n\u001b[0;32m     22\u001b[0m non_gray_mask \u001b[38;5;241m=\u001b[39m cv2\u001b[38;5;241m.\u001b[39mbitwise_not(gray_mask)\n\u001b[0;32m     24\u001b[0m result \u001b[38;5;241m=\u001b[39m cv2\u001b[38;5;241m.\u001b[39mbitwise_and(image, image, mask\u001b[38;5;241m=\u001b[39mnon_gray_mask)\n",
      "\u001b[1;31merror\u001b[0m: OpenCV(4.9.0) D:\\a\\opencv-python\\opencv-python\\opencv\\modules\\core\\src\\arithm.cpp:1782: error: (-215:Assertion failed) lb.type() == ub.type() in function 'cv::inRange'\n"
     ]
    },
    {
     "ename": "error",
     "evalue": "OpenCV(4.9.0) D:\\a\\opencv-python\\opencv-python\\opencv\\modules\\core\\src\\arithm.cpp:1782: error: (-215:Assertion failed) lb.type() == ub.type() in function 'cv::inRange'\n",
     "output_type": "error",
     "traceback": [
      "\u001b[1;31m---------------------------------------------------------------------------\u001b[0m",
      "\u001b[1;31merror\u001b[0m                                     Traceback (most recent call last)",
      "Cell \u001b[1;32mIn[30], line 6\u001b[0m, in \u001b[0;36mupdate_tolerance\u001b[1;34m(*args)\u001b[0m\n\u001b[0;32m      4\u001b[0m saturation_tolerance \u001b[38;5;241m=\u001b[39m cv2\u001b[38;5;241m.\u001b[39mgetTrackbarPos(\u001b[38;5;124m\"\u001b[39m\u001b[38;5;124mSaturation\u001b[39m\u001b[38;5;124m\"\u001b[39m, window_name)\n\u001b[0;32m      5\u001b[0m value_tolerance \u001b[38;5;241m=\u001b[39m cv2\u001b[38;5;241m.\u001b[39mgetTrackbarPos(\u001b[38;5;124m\"\u001b[39m\u001b[38;5;124mValue\u001b[39m\u001b[38;5;124m\"\u001b[39m, window_name)\n\u001b[1;32m----> 6\u001b[0m \u001b[43mprocess_image\u001b[49m\u001b[43m(\u001b[49m\u001b[43m)\u001b[49m\n",
      "Cell \u001b[1;32mIn[30], line 21\u001b[0m, in \u001b[0;36mprocess_image\u001b[1;34m()\u001b[0m\n\u001b[0;32m     17\u001b[0m upper_background \u001b[38;5;241m=\u001b[39m np\u001b[38;5;241m.\u001b[39marray([upper_limit_0, upper_limit_1, upper_limit_2])\n\u001b[0;32m     19\u001b[0m blur \u001b[38;5;241m=\u001b[39m cv2\u001b[38;5;241m.\u001b[39mGaussianBlur(hsv, (\u001b[38;5;241m11\u001b[39m, \u001b[38;5;241m11\u001b[39m), \u001b[38;5;241m0\u001b[39m)\n\u001b[1;32m---> 21\u001b[0m gray_mask \u001b[38;5;241m=\u001b[39m \u001b[43mcv2\u001b[49m\u001b[38;5;241;43m.\u001b[39;49m\u001b[43minRange\u001b[49m\u001b[43m(\u001b[49m\u001b[43mblur\u001b[49m\u001b[43m,\u001b[49m\u001b[43m \u001b[49m\u001b[43mlower_background\u001b[49m\u001b[43m,\u001b[49m\u001b[43m \u001b[49m\u001b[43mupper_background\u001b[49m\u001b[43m)\u001b[49m\n\u001b[0;32m     22\u001b[0m non_gray_mask \u001b[38;5;241m=\u001b[39m cv2\u001b[38;5;241m.\u001b[39mbitwise_not(gray_mask)\n\u001b[0;32m     24\u001b[0m result \u001b[38;5;241m=\u001b[39m cv2\u001b[38;5;241m.\u001b[39mbitwise_and(image, image, mask\u001b[38;5;241m=\u001b[39mnon_gray_mask)\n",
      "\u001b[1;31merror\u001b[0m: OpenCV(4.9.0) D:\\a\\opencv-python\\opencv-python\\opencv\\modules\\core\\src\\arithm.cpp:1782: error: (-215:Assertion failed) lb.type() == ub.type() in function 'cv::inRange'\n"
     ]
    },
    {
     "ename": "error",
     "evalue": "OpenCV(4.9.0) D:\\a\\opencv-python\\opencv-python\\opencv\\modules\\core\\src\\arithm.cpp:1782: error: (-215:Assertion failed) lb.type() == ub.type() in function 'cv::inRange'\n",
     "output_type": "error",
     "traceback": [
      "\u001b[1;31m---------------------------------------------------------------------------\u001b[0m",
      "\u001b[1;31merror\u001b[0m                                     Traceback (most recent call last)",
      "Cell \u001b[1;32mIn[30], line 6\u001b[0m, in \u001b[0;36mupdate_tolerance\u001b[1;34m(*args)\u001b[0m\n\u001b[0;32m      4\u001b[0m saturation_tolerance \u001b[38;5;241m=\u001b[39m cv2\u001b[38;5;241m.\u001b[39mgetTrackbarPos(\u001b[38;5;124m\"\u001b[39m\u001b[38;5;124mSaturation\u001b[39m\u001b[38;5;124m\"\u001b[39m, window_name)\n\u001b[0;32m      5\u001b[0m value_tolerance \u001b[38;5;241m=\u001b[39m cv2\u001b[38;5;241m.\u001b[39mgetTrackbarPos(\u001b[38;5;124m\"\u001b[39m\u001b[38;5;124mValue\u001b[39m\u001b[38;5;124m\"\u001b[39m, window_name)\n\u001b[1;32m----> 6\u001b[0m \u001b[43mprocess_image\u001b[49m\u001b[43m(\u001b[49m\u001b[43m)\u001b[49m\n",
      "Cell \u001b[1;32mIn[30], line 21\u001b[0m, in \u001b[0;36mprocess_image\u001b[1;34m()\u001b[0m\n\u001b[0;32m     17\u001b[0m upper_background \u001b[38;5;241m=\u001b[39m np\u001b[38;5;241m.\u001b[39marray([upper_limit_0, upper_limit_1, upper_limit_2])\n\u001b[0;32m     19\u001b[0m blur \u001b[38;5;241m=\u001b[39m cv2\u001b[38;5;241m.\u001b[39mGaussianBlur(hsv, (\u001b[38;5;241m11\u001b[39m, \u001b[38;5;241m11\u001b[39m), \u001b[38;5;241m0\u001b[39m)\n\u001b[1;32m---> 21\u001b[0m gray_mask \u001b[38;5;241m=\u001b[39m \u001b[43mcv2\u001b[49m\u001b[38;5;241;43m.\u001b[39;49m\u001b[43minRange\u001b[49m\u001b[43m(\u001b[49m\u001b[43mblur\u001b[49m\u001b[43m,\u001b[49m\u001b[43m \u001b[49m\u001b[43mlower_background\u001b[49m\u001b[43m,\u001b[49m\u001b[43m \u001b[49m\u001b[43mupper_background\u001b[49m\u001b[43m)\u001b[49m\n\u001b[0;32m     22\u001b[0m non_gray_mask \u001b[38;5;241m=\u001b[39m cv2\u001b[38;5;241m.\u001b[39mbitwise_not(gray_mask)\n\u001b[0;32m     24\u001b[0m result \u001b[38;5;241m=\u001b[39m cv2\u001b[38;5;241m.\u001b[39mbitwise_and(image, image, mask\u001b[38;5;241m=\u001b[39mnon_gray_mask)\n",
      "\u001b[1;31merror\u001b[0m: OpenCV(4.9.0) D:\\a\\opencv-python\\opencv-python\\opencv\\modules\\core\\src\\arithm.cpp:1782: error: (-215:Assertion failed) lb.type() == ub.type() in function 'cv::inRange'\n"
     ]
    },
    {
     "ename": "error",
     "evalue": "OpenCV(4.9.0) D:\\a\\opencv-python\\opencv-python\\opencv\\modules\\core\\src\\arithm.cpp:1782: error: (-215:Assertion failed) lb.type() == ub.type() in function 'cv::inRange'\n",
     "output_type": "error",
     "traceback": [
      "\u001b[1;31m---------------------------------------------------------------------------\u001b[0m",
      "\u001b[1;31merror\u001b[0m                                     Traceback (most recent call last)",
      "Cell \u001b[1;32mIn[30], line 6\u001b[0m, in \u001b[0;36mupdate_tolerance\u001b[1;34m(*args)\u001b[0m\n\u001b[0;32m      4\u001b[0m saturation_tolerance \u001b[38;5;241m=\u001b[39m cv2\u001b[38;5;241m.\u001b[39mgetTrackbarPos(\u001b[38;5;124m\"\u001b[39m\u001b[38;5;124mSaturation\u001b[39m\u001b[38;5;124m\"\u001b[39m, window_name)\n\u001b[0;32m      5\u001b[0m value_tolerance \u001b[38;5;241m=\u001b[39m cv2\u001b[38;5;241m.\u001b[39mgetTrackbarPos(\u001b[38;5;124m\"\u001b[39m\u001b[38;5;124mValue\u001b[39m\u001b[38;5;124m\"\u001b[39m, window_name)\n\u001b[1;32m----> 6\u001b[0m \u001b[43mprocess_image\u001b[49m\u001b[43m(\u001b[49m\u001b[43m)\u001b[49m\n",
      "Cell \u001b[1;32mIn[30], line 21\u001b[0m, in \u001b[0;36mprocess_image\u001b[1;34m()\u001b[0m\n\u001b[0;32m     17\u001b[0m upper_background \u001b[38;5;241m=\u001b[39m np\u001b[38;5;241m.\u001b[39marray([upper_limit_0, upper_limit_1, upper_limit_2])\n\u001b[0;32m     19\u001b[0m blur \u001b[38;5;241m=\u001b[39m cv2\u001b[38;5;241m.\u001b[39mGaussianBlur(hsv, (\u001b[38;5;241m11\u001b[39m, \u001b[38;5;241m11\u001b[39m), \u001b[38;5;241m0\u001b[39m)\n\u001b[1;32m---> 21\u001b[0m gray_mask \u001b[38;5;241m=\u001b[39m \u001b[43mcv2\u001b[49m\u001b[38;5;241;43m.\u001b[39;49m\u001b[43minRange\u001b[49m\u001b[43m(\u001b[49m\u001b[43mblur\u001b[49m\u001b[43m,\u001b[49m\u001b[43m \u001b[49m\u001b[43mlower_background\u001b[49m\u001b[43m,\u001b[49m\u001b[43m \u001b[49m\u001b[43mupper_background\u001b[49m\u001b[43m)\u001b[49m\n\u001b[0;32m     22\u001b[0m non_gray_mask \u001b[38;5;241m=\u001b[39m cv2\u001b[38;5;241m.\u001b[39mbitwise_not(gray_mask)\n\u001b[0;32m     24\u001b[0m result \u001b[38;5;241m=\u001b[39m cv2\u001b[38;5;241m.\u001b[39mbitwise_and(image, image, mask\u001b[38;5;241m=\u001b[39mnon_gray_mask)\n",
      "\u001b[1;31merror\u001b[0m: OpenCV(4.9.0) D:\\a\\opencv-python\\opencv-python\\opencv\\modules\\core\\src\\arithm.cpp:1782: error: (-215:Assertion failed) lb.type() == ub.type() in function 'cv::inRange'\n"
     ]
    },
    {
     "ename": "error",
     "evalue": "OpenCV(4.9.0) D:\\a\\opencv-python\\opencv-python\\opencv\\modules\\core\\src\\arithm.cpp:1782: error: (-215:Assertion failed) lb.type() == ub.type() in function 'cv::inRange'\n",
     "output_type": "error",
     "traceback": [
      "\u001b[1;31m---------------------------------------------------------------------------\u001b[0m",
      "\u001b[1;31merror\u001b[0m                                     Traceback (most recent call last)",
      "Cell \u001b[1;32mIn[30], line 6\u001b[0m, in \u001b[0;36mupdate_tolerance\u001b[1;34m(*args)\u001b[0m\n\u001b[0;32m      4\u001b[0m saturation_tolerance \u001b[38;5;241m=\u001b[39m cv2\u001b[38;5;241m.\u001b[39mgetTrackbarPos(\u001b[38;5;124m\"\u001b[39m\u001b[38;5;124mSaturation\u001b[39m\u001b[38;5;124m\"\u001b[39m, window_name)\n\u001b[0;32m      5\u001b[0m value_tolerance \u001b[38;5;241m=\u001b[39m cv2\u001b[38;5;241m.\u001b[39mgetTrackbarPos(\u001b[38;5;124m\"\u001b[39m\u001b[38;5;124mValue\u001b[39m\u001b[38;5;124m\"\u001b[39m, window_name)\n\u001b[1;32m----> 6\u001b[0m \u001b[43mprocess_image\u001b[49m\u001b[43m(\u001b[49m\u001b[43m)\u001b[49m\n",
      "Cell \u001b[1;32mIn[30], line 21\u001b[0m, in \u001b[0;36mprocess_image\u001b[1;34m()\u001b[0m\n\u001b[0;32m     17\u001b[0m upper_background \u001b[38;5;241m=\u001b[39m np\u001b[38;5;241m.\u001b[39marray([upper_limit_0, upper_limit_1, upper_limit_2])\n\u001b[0;32m     19\u001b[0m blur \u001b[38;5;241m=\u001b[39m cv2\u001b[38;5;241m.\u001b[39mGaussianBlur(hsv, (\u001b[38;5;241m11\u001b[39m, \u001b[38;5;241m11\u001b[39m), \u001b[38;5;241m0\u001b[39m)\n\u001b[1;32m---> 21\u001b[0m gray_mask \u001b[38;5;241m=\u001b[39m \u001b[43mcv2\u001b[49m\u001b[38;5;241;43m.\u001b[39;49m\u001b[43minRange\u001b[49m\u001b[43m(\u001b[49m\u001b[43mblur\u001b[49m\u001b[43m,\u001b[49m\u001b[43m \u001b[49m\u001b[43mlower_background\u001b[49m\u001b[43m,\u001b[49m\u001b[43m \u001b[49m\u001b[43mupper_background\u001b[49m\u001b[43m)\u001b[49m\n\u001b[0;32m     22\u001b[0m non_gray_mask \u001b[38;5;241m=\u001b[39m cv2\u001b[38;5;241m.\u001b[39mbitwise_not(gray_mask)\n\u001b[0;32m     24\u001b[0m result \u001b[38;5;241m=\u001b[39m cv2\u001b[38;5;241m.\u001b[39mbitwise_and(image, image, mask\u001b[38;5;241m=\u001b[39mnon_gray_mask)\n",
      "\u001b[1;31merror\u001b[0m: OpenCV(4.9.0) D:\\a\\opencv-python\\opencv-python\\opencv\\modules\\core\\src\\arithm.cpp:1782: error: (-215:Assertion failed) lb.type() == ub.type() in function 'cv::inRange'\n"
     ]
    },
    {
     "ename": "error",
     "evalue": "OpenCV(4.9.0) D:\\a\\opencv-python\\opencv-python\\opencv\\modules\\core\\src\\arithm.cpp:1782: error: (-215:Assertion failed) lb.type() == ub.type() in function 'cv::inRange'\n",
     "output_type": "error",
     "traceback": [
      "\u001b[1;31m---------------------------------------------------------------------------\u001b[0m",
      "\u001b[1;31merror\u001b[0m                                     Traceback (most recent call last)",
      "Cell \u001b[1;32mIn[30], line 6\u001b[0m, in \u001b[0;36mupdate_tolerance\u001b[1;34m(*args)\u001b[0m\n\u001b[0;32m      4\u001b[0m saturation_tolerance \u001b[38;5;241m=\u001b[39m cv2\u001b[38;5;241m.\u001b[39mgetTrackbarPos(\u001b[38;5;124m\"\u001b[39m\u001b[38;5;124mSaturation\u001b[39m\u001b[38;5;124m\"\u001b[39m, window_name)\n\u001b[0;32m      5\u001b[0m value_tolerance \u001b[38;5;241m=\u001b[39m cv2\u001b[38;5;241m.\u001b[39mgetTrackbarPos(\u001b[38;5;124m\"\u001b[39m\u001b[38;5;124mValue\u001b[39m\u001b[38;5;124m\"\u001b[39m, window_name)\n\u001b[1;32m----> 6\u001b[0m \u001b[43mprocess_image\u001b[49m\u001b[43m(\u001b[49m\u001b[43m)\u001b[49m\n",
      "Cell \u001b[1;32mIn[30], line 21\u001b[0m, in \u001b[0;36mprocess_image\u001b[1;34m()\u001b[0m\n\u001b[0;32m     17\u001b[0m upper_background \u001b[38;5;241m=\u001b[39m np\u001b[38;5;241m.\u001b[39marray([upper_limit_0, upper_limit_1, upper_limit_2])\n\u001b[0;32m     19\u001b[0m blur \u001b[38;5;241m=\u001b[39m cv2\u001b[38;5;241m.\u001b[39mGaussianBlur(hsv, (\u001b[38;5;241m11\u001b[39m, \u001b[38;5;241m11\u001b[39m), \u001b[38;5;241m0\u001b[39m)\n\u001b[1;32m---> 21\u001b[0m gray_mask \u001b[38;5;241m=\u001b[39m \u001b[43mcv2\u001b[49m\u001b[38;5;241;43m.\u001b[39;49m\u001b[43minRange\u001b[49m\u001b[43m(\u001b[49m\u001b[43mblur\u001b[49m\u001b[43m,\u001b[49m\u001b[43m \u001b[49m\u001b[43mlower_background\u001b[49m\u001b[43m,\u001b[49m\u001b[43m \u001b[49m\u001b[43mupper_background\u001b[49m\u001b[43m)\u001b[49m\n\u001b[0;32m     22\u001b[0m non_gray_mask \u001b[38;5;241m=\u001b[39m cv2\u001b[38;5;241m.\u001b[39mbitwise_not(gray_mask)\n\u001b[0;32m     24\u001b[0m result \u001b[38;5;241m=\u001b[39m cv2\u001b[38;5;241m.\u001b[39mbitwise_and(image, image, mask\u001b[38;5;241m=\u001b[39mnon_gray_mask)\n",
      "\u001b[1;31merror\u001b[0m: OpenCV(4.9.0) D:\\a\\opencv-python\\opencv-python\\opencv\\modules\\core\\src\\arithm.cpp:1782: error: (-215:Assertion failed) lb.type() == ub.type() in function 'cv::inRange'\n"
     ]
    },
    {
     "ename": "error",
     "evalue": "OpenCV(4.9.0) D:\\a\\opencv-python\\opencv-python\\opencv\\modules\\core\\src\\arithm.cpp:1782: error: (-215:Assertion failed) lb.type() == ub.type() in function 'cv::inRange'\n",
     "output_type": "error",
     "traceback": [
      "\u001b[1;31m---------------------------------------------------------------------------\u001b[0m",
      "\u001b[1;31merror\u001b[0m                                     Traceback (most recent call last)",
      "Cell \u001b[1;32mIn[30], line 6\u001b[0m, in \u001b[0;36mupdate_tolerance\u001b[1;34m(*args)\u001b[0m\n\u001b[0;32m      4\u001b[0m saturation_tolerance \u001b[38;5;241m=\u001b[39m cv2\u001b[38;5;241m.\u001b[39mgetTrackbarPos(\u001b[38;5;124m\"\u001b[39m\u001b[38;5;124mSaturation\u001b[39m\u001b[38;5;124m\"\u001b[39m, window_name)\n\u001b[0;32m      5\u001b[0m value_tolerance \u001b[38;5;241m=\u001b[39m cv2\u001b[38;5;241m.\u001b[39mgetTrackbarPos(\u001b[38;5;124m\"\u001b[39m\u001b[38;5;124mValue\u001b[39m\u001b[38;5;124m\"\u001b[39m, window_name)\n\u001b[1;32m----> 6\u001b[0m \u001b[43mprocess_image\u001b[49m\u001b[43m(\u001b[49m\u001b[43m)\u001b[49m\n",
      "Cell \u001b[1;32mIn[30], line 21\u001b[0m, in \u001b[0;36mprocess_image\u001b[1;34m()\u001b[0m\n\u001b[0;32m     17\u001b[0m upper_background \u001b[38;5;241m=\u001b[39m np\u001b[38;5;241m.\u001b[39marray([upper_limit_0, upper_limit_1, upper_limit_2])\n\u001b[0;32m     19\u001b[0m blur \u001b[38;5;241m=\u001b[39m cv2\u001b[38;5;241m.\u001b[39mGaussianBlur(hsv, (\u001b[38;5;241m11\u001b[39m, \u001b[38;5;241m11\u001b[39m), \u001b[38;5;241m0\u001b[39m)\n\u001b[1;32m---> 21\u001b[0m gray_mask \u001b[38;5;241m=\u001b[39m \u001b[43mcv2\u001b[49m\u001b[38;5;241;43m.\u001b[39;49m\u001b[43minRange\u001b[49m\u001b[43m(\u001b[49m\u001b[43mblur\u001b[49m\u001b[43m,\u001b[49m\u001b[43m \u001b[49m\u001b[43mlower_background\u001b[49m\u001b[43m,\u001b[49m\u001b[43m \u001b[49m\u001b[43mupper_background\u001b[49m\u001b[43m)\u001b[49m\n\u001b[0;32m     22\u001b[0m non_gray_mask \u001b[38;5;241m=\u001b[39m cv2\u001b[38;5;241m.\u001b[39mbitwise_not(gray_mask)\n\u001b[0;32m     24\u001b[0m result \u001b[38;5;241m=\u001b[39m cv2\u001b[38;5;241m.\u001b[39mbitwise_and(image, image, mask\u001b[38;5;241m=\u001b[39mnon_gray_mask)\n",
      "\u001b[1;31merror\u001b[0m: OpenCV(4.9.0) D:\\a\\opencv-python\\opencv-python\\opencv\\modules\\core\\src\\arithm.cpp:1782: error: (-215:Assertion failed) lb.type() == ub.type() in function 'cv::inRange'\n"
     ]
    },
    {
     "ename": "error",
     "evalue": "OpenCV(4.9.0) D:\\a\\opencv-python\\opencv-python\\opencv\\modules\\core\\src\\arithm.cpp:1782: error: (-215:Assertion failed) lb.type() == ub.type() in function 'cv::inRange'\n",
     "output_type": "error",
     "traceback": [
      "\u001b[1;31m---------------------------------------------------------------------------\u001b[0m",
      "\u001b[1;31merror\u001b[0m                                     Traceback (most recent call last)",
      "Cell \u001b[1;32mIn[30], line 6\u001b[0m, in \u001b[0;36mupdate_tolerance\u001b[1;34m(*args)\u001b[0m\n\u001b[0;32m      4\u001b[0m saturation_tolerance \u001b[38;5;241m=\u001b[39m cv2\u001b[38;5;241m.\u001b[39mgetTrackbarPos(\u001b[38;5;124m\"\u001b[39m\u001b[38;5;124mSaturation\u001b[39m\u001b[38;5;124m\"\u001b[39m, window_name)\n\u001b[0;32m      5\u001b[0m value_tolerance \u001b[38;5;241m=\u001b[39m cv2\u001b[38;5;241m.\u001b[39mgetTrackbarPos(\u001b[38;5;124m\"\u001b[39m\u001b[38;5;124mValue\u001b[39m\u001b[38;5;124m\"\u001b[39m, window_name)\n\u001b[1;32m----> 6\u001b[0m \u001b[43mprocess_image\u001b[49m\u001b[43m(\u001b[49m\u001b[43m)\u001b[49m\n",
      "Cell \u001b[1;32mIn[30], line 21\u001b[0m, in \u001b[0;36mprocess_image\u001b[1;34m()\u001b[0m\n\u001b[0;32m     17\u001b[0m upper_background \u001b[38;5;241m=\u001b[39m np\u001b[38;5;241m.\u001b[39marray([upper_limit_0, upper_limit_1, upper_limit_2])\n\u001b[0;32m     19\u001b[0m blur \u001b[38;5;241m=\u001b[39m cv2\u001b[38;5;241m.\u001b[39mGaussianBlur(hsv, (\u001b[38;5;241m11\u001b[39m, \u001b[38;5;241m11\u001b[39m), \u001b[38;5;241m0\u001b[39m)\n\u001b[1;32m---> 21\u001b[0m gray_mask \u001b[38;5;241m=\u001b[39m \u001b[43mcv2\u001b[49m\u001b[38;5;241;43m.\u001b[39;49m\u001b[43minRange\u001b[49m\u001b[43m(\u001b[49m\u001b[43mblur\u001b[49m\u001b[43m,\u001b[49m\u001b[43m \u001b[49m\u001b[43mlower_background\u001b[49m\u001b[43m,\u001b[49m\u001b[43m \u001b[49m\u001b[43mupper_background\u001b[49m\u001b[43m)\u001b[49m\n\u001b[0;32m     22\u001b[0m non_gray_mask \u001b[38;5;241m=\u001b[39m cv2\u001b[38;5;241m.\u001b[39mbitwise_not(gray_mask)\n\u001b[0;32m     24\u001b[0m result \u001b[38;5;241m=\u001b[39m cv2\u001b[38;5;241m.\u001b[39mbitwise_and(image, image, mask\u001b[38;5;241m=\u001b[39mnon_gray_mask)\n",
      "\u001b[1;31merror\u001b[0m: OpenCV(4.9.0) D:\\a\\opencv-python\\opencv-python\\opencv\\modules\\core\\src\\arithm.cpp:1782: error: (-215:Assertion failed) lb.type() == ub.type() in function 'cv::inRange'\n"
     ]
    },
    {
     "ename": "error",
     "evalue": "OpenCV(4.9.0) D:\\a\\opencv-python\\opencv-python\\opencv\\modules\\core\\src\\arithm.cpp:1782: error: (-215:Assertion failed) lb.type() == ub.type() in function 'cv::inRange'\n",
     "output_type": "error",
     "traceback": [
      "\u001b[1;31m---------------------------------------------------------------------------\u001b[0m",
      "\u001b[1;31merror\u001b[0m                                     Traceback (most recent call last)",
      "Cell \u001b[1;32mIn[30], line 6\u001b[0m, in \u001b[0;36mupdate_tolerance\u001b[1;34m(*args)\u001b[0m\n\u001b[0;32m      4\u001b[0m saturation_tolerance \u001b[38;5;241m=\u001b[39m cv2\u001b[38;5;241m.\u001b[39mgetTrackbarPos(\u001b[38;5;124m\"\u001b[39m\u001b[38;5;124mSaturation\u001b[39m\u001b[38;5;124m\"\u001b[39m, window_name)\n\u001b[0;32m      5\u001b[0m value_tolerance \u001b[38;5;241m=\u001b[39m cv2\u001b[38;5;241m.\u001b[39mgetTrackbarPos(\u001b[38;5;124m\"\u001b[39m\u001b[38;5;124mValue\u001b[39m\u001b[38;5;124m\"\u001b[39m, window_name)\n\u001b[1;32m----> 6\u001b[0m \u001b[43mprocess_image\u001b[49m\u001b[43m(\u001b[49m\u001b[43m)\u001b[49m\n",
      "Cell \u001b[1;32mIn[30], line 21\u001b[0m, in \u001b[0;36mprocess_image\u001b[1;34m()\u001b[0m\n\u001b[0;32m     17\u001b[0m upper_background \u001b[38;5;241m=\u001b[39m np\u001b[38;5;241m.\u001b[39marray([upper_limit_0, upper_limit_1, upper_limit_2])\n\u001b[0;32m     19\u001b[0m blur \u001b[38;5;241m=\u001b[39m cv2\u001b[38;5;241m.\u001b[39mGaussianBlur(hsv, (\u001b[38;5;241m11\u001b[39m, \u001b[38;5;241m11\u001b[39m), \u001b[38;5;241m0\u001b[39m)\n\u001b[1;32m---> 21\u001b[0m gray_mask \u001b[38;5;241m=\u001b[39m \u001b[43mcv2\u001b[49m\u001b[38;5;241;43m.\u001b[39;49m\u001b[43minRange\u001b[49m\u001b[43m(\u001b[49m\u001b[43mblur\u001b[49m\u001b[43m,\u001b[49m\u001b[43m \u001b[49m\u001b[43mlower_background\u001b[49m\u001b[43m,\u001b[49m\u001b[43m \u001b[49m\u001b[43mupper_background\u001b[49m\u001b[43m)\u001b[49m\n\u001b[0;32m     22\u001b[0m non_gray_mask \u001b[38;5;241m=\u001b[39m cv2\u001b[38;5;241m.\u001b[39mbitwise_not(gray_mask)\n\u001b[0;32m     24\u001b[0m result \u001b[38;5;241m=\u001b[39m cv2\u001b[38;5;241m.\u001b[39mbitwise_and(image, image, mask\u001b[38;5;241m=\u001b[39mnon_gray_mask)\n",
      "\u001b[1;31merror\u001b[0m: OpenCV(4.9.0) D:\\a\\opencv-python\\opencv-python\\opencv\\modules\\core\\src\\arithm.cpp:1782: error: (-215:Assertion failed) lb.type() == ub.type() in function 'cv::inRange'\n"
     ]
    },
    {
     "ename": "error",
     "evalue": "OpenCV(4.9.0) D:\\a\\opencv-python\\opencv-python\\opencv\\modules\\core\\src\\arithm.cpp:1782: error: (-215:Assertion failed) lb.type() == ub.type() in function 'cv::inRange'\n",
     "output_type": "error",
     "traceback": [
      "\u001b[1;31m---------------------------------------------------------------------------\u001b[0m",
      "\u001b[1;31merror\u001b[0m                                     Traceback (most recent call last)",
      "Cell \u001b[1;32mIn[30], line 6\u001b[0m, in \u001b[0;36mupdate_tolerance\u001b[1;34m(*args)\u001b[0m\n\u001b[0;32m      4\u001b[0m saturation_tolerance \u001b[38;5;241m=\u001b[39m cv2\u001b[38;5;241m.\u001b[39mgetTrackbarPos(\u001b[38;5;124m\"\u001b[39m\u001b[38;5;124mSaturation\u001b[39m\u001b[38;5;124m\"\u001b[39m, window_name)\n\u001b[0;32m      5\u001b[0m value_tolerance \u001b[38;5;241m=\u001b[39m cv2\u001b[38;5;241m.\u001b[39mgetTrackbarPos(\u001b[38;5;124m\"\u001b[39m\u001b[38;5;124mValue\u001b[39m\u001b[38;5;124m\"\u001b[39m, window_name)\n\u001b[1;32m----> 6\u001b[0m \u001b[43mprocess_image\u001b[49m\u001b[43m(\u001b[49m\u001b[43m)\u001b[49m\n",
      "Cell \u001b[1;32mIn[30], line 21\u001b[0m, in \u001b[0;36mprocess_image\u001b[1;34m()\u001b[0m\n\u001b[0;32m     17\u001b[0m upper_background \u001b[38;5;241m=\u001b[39m np\u001b[38;5;241m.\u001b[39marray([upper_limit_0, upper_limit_1, upper_limit_2])\n\u001b[0;32m     19\u001b[0m blur \u001b[38;5;241m=\u001b[39m cv2\u001b[38;5;241m.\u001b[39mGaussianBlur(hsv, (\u001b[38;5;241m11\u001b[39m, \u001b[38;5;241m11\u001b[39m), \u001b[38;5;241m0\u001b[39m)\n\u001b[1;32m---> 21\u001b[0m gray_mask \u001b[38;5;241m=\u001b[39m \u001b[43mcv2\u001b[49m\u001b[38;5;241;43m.\u001b[39;49m\u001b[43minRange\u001b[49m\u001b[43m(\u001b[49m\u001b[43mblur\u001b[49m\u001b[43m,\u001b[49m\u001b[43m \u001b[49m\u001b[43mlower_background\u001b[49m\u001b[43m,\u001b[49m\u001b[43m \u001b[49m\u001b[43mupper_background\u001b[49m\u001b[43m)\u001b[49m\n\u001b[0;32m     22\u001b[0m non_gray_mask \u001b[38;5;241m=\u001b[39m cv2\u001b[38;5;241m.\u001b[39mbitwise_not(gray_mask)\n\u001b[0;32m     24\u001b[0m result \u001b[38;5;241m=\u001b[39m cv2\u001b[38;5;241m.\u001b[39mbitwise_and(image, image, mask\u001b[38;5;241m=\u001b[39mnon_gray_mask)\n",
      "\u001b[1;31merror\u001b[0m: OpenCV(4.9.0) D:\\a\\opencv-python\\opencv-python\\opencv\\modules\\core\\src\\arithm.cpp:1782: error: (-215:Assertion failed) lb.type() == ub.type() in function 'cv::inRange'\n"
     ]
    },
    {
     "ename": "error",
     "evalue": "OpenCV(4.9.0) D:\\a\\opencv-python\\opencv-python\\opencv\\modules\\core\\src\\arithm.cpp:1782: error: (-215:Assertion failed) lb.type() == ub.type() in function 'cv::inRange'\n",
     "output_type": "error",
     "traceback": [
      "\u001b[1;31m---------------------------------------------------------------------------\u001b[0m",
      "\u001b[1;31merror\u001b[0m                                     Traceback (most recent call last)",
      "Cell \u001b[1;32mIn[30], line 6\u001b[0m, in \u001b[0;36mupdate_tolerance\u001b[1;34m(*args)\u001b[0m\n\u001b[0;32m      4\u001b[0m saturation_tolerance \u001b[38;5;241m=\u001b[39m cv2\u001b[38;5;241m.\u001b[39mgetTrackbarPos(\u001b[38;5;124m\"\u001b[39m\u001b[38;5;124mSaturation\u001b[39m\u001b[38;5;124m\"\u001b[39m, window_name)\n\u001b[0;32m      5\u001b[0m value_tolerance \u001b[38;5;241m=\u001b[39m cv2\u001b[38;5;241m.\u001b[39mgetTrackbarPos(\u001b[38;5;124m\"\u001b[39m\u001b[38;5;124mValue\u001b[39m\u001b[38;5;124m\"\u001b[39m, window_name)\n\u001b[1;32m----> 6\u001b[0m \u001b[43mprocess_image\u001b[49m\u001b[43m(\u001b[49m\u001b[43m)\u001b[49m\n",
      "Cell \u001b[1;32mIn[30], line 21\u001b[0m, in \u001b[0;36mprocess_image\u001b[1;34m()\u001b[0m\n\u001b[0;32m     17\u001b[0m upper_background \u001b[38;5;241m=\u001b[39m np\u001b[38;5;241m.\u001b[39marray([upper_limit_0, upper_limit_1, upper_limit_2])\n\u001b[0;32m     19\u001b[0m blur \u001b[38;5;241m=\u001b[39m cv2\u001b[38;5;241m.\u001b[39mGaussianBlur(hsv, (\u001b[38;5;241m11\u001b[39m, \u001b[38;5;241m11\u001b[39m), \u001b[38;5;241m0\u001b[39m)\n\u001b[1;32m---> 21\u001b[0m gray_mask \u001b[38;5;241m=\u001b[39m \u001b[43mcv2\u001b[49m\u001b[38;5;241;43m.\u001b[39;49m\u001b[43minRange\u001b[49m\u001b[43m(\u001b[49m\u001b[43mblur\u001b[49m\u001b[43m,\u001b[49m\u001b[43m \u001b[49m\u001b[43mlower_background\u001b[49m\u001b[43m,\u001b[49m\u001b[43m \u001b[49m\u001b[43mupper_background\u001b[49m\u001b[43m)\u001b[49m\n\u001b[0;32m     22\u001b[0m non_gray_mask \u001b[38;5;241m=\u001b[39m cv2\u001b[38;5;241m.\u001b[39mbitwise_not(gray_mask)\n\u001b[0;32m     24\u001b[0m result \u001b[38;5;241m=\u001b[39m cv2\u001b[38;5;241m.\u001b[39mbitwise_and(image, image, mask\u001b[38;5;241m=\u001b[39mnon_gray_mask)\n",
      "\u001b[1;31merror\u001b[0m: OpenCV(4.9.0) D:\\a\\opencv-python\\opencv-python\\opencv\\modules\\core\\src\\arithm.cpp:1782: error: (-215:Assertion failed) lb.type() == ub.type() in function 'cv::inRange'\n"
     ]
    },
    {
     "ename": "error",
     "evalue": "OpenCV(4.9.0) D:\\a\\opencv-python\\opencv-python\\opencv\\modules\\core\\src\\arithm.cpp:1782: error: (-215:Assertion failed) lb.type() == ub.type() in function 'cv::inRange'\n",
     "output_type": "error",
     "traceback": [
      "\u001b[1;31m---------------------------------------------------------------------------\u001b[0m",
      "\u001b[1;31merror\u001b[0m                                     Traceback (most recent call last)",
      "Cell \u001b[1;32mIn[30], line 6\u001b[0m, in \u001b[0;36mupdate_tolerance\u001b[1;34m(*args)\u001b[0m\n\u001b[0;32m      4\u001b[0m saturation_tolerance \u001b[38;5;241m=\u001b[39m cv2\u001b[38;5;241m.\u001b[39mgetTrackbarPos(\u001b[38;5;124m\"\u001b[39m\u001b[38;5;124mSaturation\u001b[39m\u001b[38;5;124m\"\u001b[39m, window_name)\n\u001b[0;32m      5\u001b[0m value_tolerance \u001b[38;5;241m=\u001b[39m cv2\u001b[38;5;241m.\u001b[39mgetTrackbarPos(\u001b[38;5;124m\"\u001b[39m\u001b[38;5;124mValue\u001b[39m\u001b[38;5;124m\"\u001b[39m, window_name)\n\u001b[1;32m----> 6\u001b[0m \u001b[43mprocess_image\u001b[49m\u001b[43m(\u001b[49m\u001b[43m)\u001b[49m\n",
      "Cell \u001b[1;32mIn[30], line 21\u001b[0m, in \u001b[0;36mprocess_image\u001b[1;34m()\u001b[0m\n\u001b[0;32m     17\u001b[0m upper_background \u001b[38;5;241m=\u001b[39m np\u001b[38;5;241m.\u001b[39marray([upper_limit_0, upper_limit_1, upper_limit_2])\n\u001b[0;32m     19\u001b[0m blur \u001b[38;5;241m=\u001b[39m cv2\u001b[38;5;241m.\u001b[39mGaussianBlur(hsv, (\u001b[38;5;241m11\u001b[39m, \u001b[38;5;241m11\u001b[39m), \u001b[38;5;241m0\u001b[39m)\n\u001b[1;32m---> 21\u001b[0m gray_mask \u001b[38;5;241m=\u001b[39m \u001b[43mcv2\u001b[49m\u001b[38;5;241;43m.\u001b[39;49m\u001b[43minRange\u001b[49m\u001b[43m(\u001b[49m\u001b[43mblur\u001b[49m\u001b[43m,\u001b[49m\u001b[43m \u001b[49m\u001b[43mlower_background\u001b[49m\u001b[43m,\u001b[49m\u001b[43m \u001b[49m\u001b[43mupper_background\u001b[49m\u001b[43m)\u001b[49m\n\u001b[0;32m     22\u001b[0m non_gray_mask \u001b[38;5;241m=\u001b[39m cv2\u001b[38;5;241m.\u001b[39mbitwise_not(gray_mask)\n\u001b[0;32m     24\u001b[0m result \u001b[38;5;241m=\u001b[39m cv2\u001b[38;5;241m.\u001b[39mbitwise_and(image, image, mask\u001b[38;5;241m=\u001b[39mnon_gray_mask)\n",
      "\u001b[1;31merror\u001b[0m: OpenCV(4.9.0) D:\\a\\opencv-python\\opencv-python\\opencv\\modules\\core\\src\\arithm.cpp:1782: error: (-215:Assertion failed) lb.type() == ub.type() in function 'cv::inRange'\n"
     ]
    },
    {
     "ename": "error",
     "evalue": "OpenCV(4.9.0) D:\\a\\opencv-python\\opencv-python\\opencv\\modules\\core\\src\\arithm.cpp:1782: error: (-215:Assertion failed) lb.type() == ub.type() in function 'cv::inRange'\n",
     "output_type": "error",
     "traceback": [
      "\u001b[1;31m---------------------------------------------------------------------------\u001b[0m",
      "\u001b[1;31merror\u001b[0m                                     Traceback (most recent call last)",
      "Cell \u001b[1;32mIn[30], line 6\u001b[0m, in \u001b[0;36mupdate_tolerance\u001b[1;34m(*args)\u001b[0m\n\u001b[0;32m      4\u001b[0m saturation_tolerance \u001b[38;5;241m=\u001b[39m cv2\u001b[38;5;241m.\u001b[39mgetTrackbarPos(\u001b[38;5;124m\"\u001b[39m\u001b[38;5;124mSaturation\u001b[39m\u001b[38;5;124m\"\u001b[39m, window_name)\n\u001b[0;32m      5\u001b[0m value_tolerance \u001b[38;5;241m=\u001b[39m cv2\u001b[38;5;241m.\u001b[39mgetTrackbarPos(\u001b[38;5;124m\"\u001b[39m\u001b[38;5;124mValue\u001b[39m\u001b[38;5;124m\"\u001b[39m, window_name)\n\u001b[1;32m----> 6\u001b[0m \u001b[43mprocess_image\u001b[49m\u001b[43m(\u001b[49m\u001b[43m)\u001b[49m\n",
      "Cell \u001b[1;32mIn[30], line 21\u001b[0m, in \u001b[0;36mprocess_image\u001b[1;34m()\u001b[0m\n\u001b[0;32m     17\u001b[0m upper_background \u001b[38;5;241m=\u001b[39m np\u001b[38;5;241m.\u001b[39marray([upper_limit_0, upper_limit_1, upper_limit_2])\n\u001b[0;32m     19\u001b[0m blur \u001b[38;5;241m=\u001b[39m cv2\u001b[38;5;241m.\u001b[39mGaussianBlur(hsv, (\u001b[38;5;241m11\u001b[39m, \u001b[38;5;241m11\u001b[39m), \u001b[38;5;241m0\u001b[39m)\n\u001b[1;32m---> 21\u001b[0m gray_mask \u001b[38;5;241m=\u001b[39m \u001b[43mcv2\u001b[49m\u001b[38;5;241;43m.\u001b[39;49m\u001b[43minRange\u001b[49m\u001b[43m(\u001b[49m\u001b[43mblur\u001b[49m\u001b[43m,\u001b[49m\u001b[43m \u001b[49m\u001b[43mlower_background\u001b[49m\u001b[43m,\u001b[49m\u001b[43m \u001b[49m\u001b[43mupper_background\u001b[49m\u001b[43m)\u001b[49m\n\u001b[0;32m     22\u001b[0m non_gray_mask \u001b[38;5;241m=\u001b[39m cv2\u001b[38;5;241m.\u001b[39mbitwise_not(gray_mask)\n\u001b[0;32m     24\u001b[0m result \u001b[38;5;241m=\u001b[39m cv2\u001b[38;5;241m.\u001b[39mbitwise_and(image, image, mask\u001b[38;5;241m=\u001b[39mnon_gray_mask)\n",
      "\u001b[1;31merror\u001b[0m: OpenCV(4.9.0) D:\\a\\opencv-python\\opencv-python\\opencv\\modules\\core\\src\\arithm.cpp:1782: error: (-215:Assertion failed) lb.type() == ub.type() in function 'cv::inRange'\n"
     ]
    },
    {
     "ename": "error",
     "evalue": "OpenCV(4.9.0) D:\\a\\opencv-python\\opencv-python\\opencv\\modules\\core\\src\\arithm.cpp:1782: error: (-215:Assertion failed) lb.type() == ub.type() in function 'cv::inRange'\n",
     "output_type": "error",
     "traceback": [
      "\u001b[1;31m---------------------------------------------------------------------------\u001b[0m",
      "\u001b[1;31merror\u001b[0m                                     Traceback (most recent call last)",
      "Cell \u001b[1;32mIn[30], line 6\u001b[0m, in \u001b[0;36mupdate_tolerance\u001b[1;34m(*args)\u001b[0m\n\u001b[0;32m      4\u001b[0m saturation_tolerance \u001b[38;5;241m=\u001b[39m cv2\u001b[38;5;241m.\u001b[39mgetTrackbarPos(\u001b[38;5;124m\"\u001b[39m\u001b[38;5;124mSaturation\u001b[39m\u001b[38;5;124m\"\u001b[39m, window_name)\n\u001b[0;32m      5\u001b[0m value_tolerance \u001b[38;5;241m=\u001b[39m cv2\u001b[38;5;241m.\u001b[39mgetTrackbarPos(\u001b[38;5;124m\"\u001b[39m\u001b[38;5;124mValue\u001b[39m\u001b[38;5;124m\"\u001b[39m, window_name)\n\u001b[1;32m----> 6\u001b[0m \u001b[43mprocess_image\u001b[49m\u001b[43m(\u001b[49m\u001b[43m)\u001b[49m\n",
      "Cell \u001b[1;32mIn[30], line 21\u001b[0m, in \u001b[0;36mprocess_image\u001b[1;34m()\u001b[0m\n\u001b[0;32m     17\u001b[0m upper_background \u001b[38;5;241m=\u001b[39m np\u001b[38;5;241m.\u001b[39marray([upper_limit_0, upper_limit_1, upper_limit_2])\n\u001b[0;32m     19\u001b[0m blur \u001b[38;5;241m=\u001b[39m cv2\u001b[38;5;241m.\u001b[39mGaussianBlur(hsv, (\u001b[38;5;241m11\u001b[39m, \u001b[38;5;241m11\u001b[39m), \u001b[38;5;241m0\u001b[39m)\n\u001b[1;32m---> 21\u001b[0m gray_mask \u001b[38;5;241m=\u001b[39m \u001b[43mcv2\u001b[49m\u001b[38;5;241;43m.\u001b[39;49m\u001b[43minRange\u001b[49m\u001b[43m(\u001b[49m\u001b[43mblur\u001b[49m\u001b[43m,\u001b[49m\u001b[43m \u001b[49m\u001b[43mlower_background\u001b[49m\u001b[43m,\u001b[49m\u001b[43m \u001b[49m\u001b[43mupper_background\u001b[49m\u001b[43m)\u001b[49m\n\u001b[0;32m     22\u001b[0m non_gray_mask \u001b[38;5;241m=\u001b[39m cv2\u001b[38;5;241m.\u001b[39mbitwise_not(gray_mask)\n\u001b[0;32m     24\u001b[0m result \u001b[38;5;241m=\u001b[39m cv2\u001b[38;5;241m.\u001b[39mbitwise_and(image, image, mask\u001b[38;5;241m=\u001b[39mnon_gray_mask)\n",
      "\u001b[1;31merror\u001b[0m: OpenCV(4.9.0) D:\\a\\opencv-python\\opencv-python\\opencv\\modules\\core\\src\\arithm.cpp:1782: error: (-215:Assertion failed) lb.type() == ub.type() in function 'cv::inRange'\n"
     ]
    },
    {
     "ename": "error",
     "evalue": "OpenCV(4.9.0) D:\\a\\opencv-python\\opencv-python\\opencv\\modules\\core\\src\\arithm.cpp:1782: error: (-215:Assertion failed) lb.type() == ub.type() in function 'cv::inRange'\n",
     "output_type": "error",
     "traceback": [
      "\u001b[1;31m---------------------------------------------------------------------------\u001b[0m",
      "\u001b[1;31merror\u001b[0m                                     Traceback (most recent call last)",
      "Cell \u001b[1;32mIn[30], line 6\u001b[0m, in \u001b[0;36mupdate_tolerance\u001b[1;34m(*args)\u001b[0m\n\u001b[0;32m      4\u001b[0m saturation_tolerance \u001b[38;5;241m=\u001b[39m cv2\u001b[38;5;241m.\u001b[39mgetTrackbarPos(\u001b[38;5;124m\"\u001b[39m\u001b[38;5;124mSaturation\u001b[39m\u001b[38;5;124m\"\u001b[39m, window_name)\n\u001b[0;32m      5\u001b[0m value_tolerance \u001b[38;5;241m=\u001b[39m cv2\u001b[38;5;241m.\u001b[39mgetTrackbarPos(\u001b[38;5;124m\"\u001b[39m\u001b[38;5;124mValue\u001b[39m\u001b[38;5;124m\"\u001b[39m, window_name)\n\u001b[1;32m----> 6\u001b[0m \u001b[43mprocess_image\u001b[49m\u001b[43m(\u001b[49m\u001b[43m)\u001b[49m\n",
      "Cell \u001b[1;32mIn[30], line 21\u001b[0m, in \u001b[0;36mprocess_image\u001b[1;34m()\u001b[0m\n\u001b[0;32m     17\u001b[0m upper_background \u001b[38;5;241m=\u001b[39m np\u001b[38;5;241m.\u001b[39marray([upper_limit_0, upper_limit_1, upper_limit_2])\n\u001b[0;32m     19\u001b[0m blur \u001b[38;5;241m=\u001b[39m cv2\u001b[38;5;241m.\u001b[39mGaussianBlur(hsv, (\u001b[38;5;241m11\u001b[39m, \u001b[38;5;241m11\u001b[39m), \u001b[38;5;241m0\u001b[39m)\n\u001b[1;32m---> 21\u001b[0m gray_mask \u001b[38;5;241m=\u001b[39m \u001b[43mcv2\u001b[49m\u001b[38;5;241;43m.\u001b[39;49m\u001b[43minRange\u001b[49m\u001b[43m(\u001b[49m\u001b[43mblur\u001b[49m\u001b[43m,\u001b[49m\u001b[43m \u001b[49m\u001b[43mlower_background\u001b[49m\u001b[43m,\u001b[49m\u001b[43m \u001b[49m\u001b[43mupper_background\u001b[49m\u001b[43m)\u001b[49m\n\u001b[0;32m     22\u001b[0m non_gray_mask \u001b[38;5;241m=\u001b[39m cv2\u001b[38;5;241m.\u001b[39mbitwise_not(gray_mask)\n\u001b[0;32m     24\u001b[0m result \u001b[38;5;241m=\u001b[39m cv2\u001b[38;5;241m.\u001b[39mbitwise_and(image, image, mask\u001b[38;5;241m=\u001b[39mnon_gray_mask)\n",
      "\u001b[1;31merror\u001b[0m: OpenCV(4.9.0) D:\\a\\opencv-python\\opencv-python\\opencv\\modules\\core\\src\\arithm.cpp:1782: error: (-215:Assertion failed) lb.type() == ub.type() in function 'cv::inRange'\n"
     ]
    },
    {
     "ename": "error",
     "evalue": "OpenCV(4.9.0) D:\\a\\opencv-python\\opencv-python\\opencv\\modules\\core\\src\\arithm.cpp:1782: error: (-215:Assertion failed) lb.type() == ub.type() in function 'cv::inRange'\n",
     "output_type": "error",
     "traceback": [
      "\u001b[1;31m---------------------------------------------------------------------------\u001b[0m",
      "\u001b[1;31merror\u001b[0m                                     Traceback (most recent call last)",
      "Cell \u001b[1;32mIn[30], line 6\u001b[0m, in \u001b[0;36mupdate_tolerance\u001b[1;34m(*args)\u001b[0m\n\u001b[0;32m      4\u001b[0m saturation_tolerance \u001b[38;5;241m=\u001b[39m cv2\u001b[38;5;241m.\u001b[39mgetTrackbarPos(\u001b[38;5;124m\"\u001b[39m\u001b[38;5;124mSaturation\u001b[39m\u001b[38;5;124m\"\u001b[39m, window_name)\n\u001b[0;32m      5\u001b[0m value_tolerance \u001b[38;5;241m=\u001b[39m cv2\u001b[38;5;241m.\u001b[39mgetTrackbarPos(\u001b[38;5;124m\"\u001b[39m\u001b[38;5;124mValue\u001b[39m\u001b[38;5;124m\"\u001b[39m, window_name)\n\u001b[1;32m----> 6\u001b[0m \u001b[43mprocess_image\u001b[49m\u001b[43m(\u001b[49m\u001b[43m)\u001b[49m\n",
      "Cell \u001b[1;32mIn[30], line 21\u001b[0m, in \u001b[0;36mprocess_image\u001b[1;34m()\u001b[0m\n\u001b[0;32m     17\u001b[0m upper_background \u001b[38;5;241m=\u001b[39m np\u001b[38;5;241m.\u001b[39marray([upper_limit_0, upper_limit_1, upper_limit_2])\n\u001b[0;32m     19\u001b[0m blur \u001b[38;5;241m=\u001b[39m cv2\u001b[38;5;241m.\u001b[39mGaussianBlur(hsv, (\u001b[38;5;241m11\u001b[39m, \u001b[38;5;241m11\u001b[39m), \u001b[38;5;241m0\u001b[39m)\n\u001b[1;32m---> 21\u001b[0m gray_mask \u001b[38;5;241m=\u001b[39m \u001b[43mcv2\u001b[49m\u001b[38;5;241;43m.\u001b[39;49m\u001b[43minRange\u001b[49m\u001b[43m(\u001b[49m\u001b[43mblur\u001b[49m\u001b[43m,\u001b[49m\u001b[43m \u001b[49m\u001b[43mlower_background\u001b[49m\u001b[43m,\u001b[49m\u001b[43m \u001b[49m\u001b[43mupper_background\u001b[49m\u001b[43m)\u001b[49m\n\u001b[0;32m     22\u001b[0m non_gray_mask \u001b[38;5;241m=\u001b[39m cv2\u001b[38;5;241m.\u001b[39mbitwise_not(gray_mask)\n\u001b[0;32m     24\u001b[0m result \u001b[38;5;241m=\u001b[39m cv2\u001b[38;5;241m.\u001b[39mbitwise_and(image, image, mask\u001b[38;5;241m=\u001b[39mnon_gray_mask)\n",
      "\u001b[1;31merror\u001b[0m: OpenCV(4.9.0) D:\\a\\opencv-python\\opencv-python\\opencv\\modules\\core\\src\\arithm.cpp:1782: error: (-215:Assertion failed) lb.type() == ub.type() in function 'cv::inRange'\n"
     ]
    }
   ],
   "source": [
    "def update_tolerance(*args):\n",
    "    global hue_tolerance, saturation_tolerance, value_tolerance\n",
    "    hue_tolerance = cv2.getTrackbarPos(\"Hue\", window_name)\n",
    "    saturation_tolerance = cv2.getTrackbarPos(\"Saturation\", window_name)\n",
    "    value_tolerance = cv2.getTrackbarPos(\"Value\", window_name)\n",
    "    process_image()\n",
    "\n",
    "def process_image():\n",
    "    lower_limit_0 = max(background_color[0] - hue_tolerance, 0)\n",
    "    upper_limit_0 = min(background_color[0] + hue_tolerance, 180)\n",
    "    lower_limit_1 = max(background_color[1] - saturation_tolerance, 0)\n",
    "    upper_limit_1 = min(background_color[1] + saturation_tolerance, 255)\n",
    "    lower_limit_2 = max(background_color[2] - value_tolerance, 0)\n",
    "    upper_limit_2 = min(background_color[2] + value_tolerance, 255)\n",
    "    \n",
    "    lower_background = np.array([lower_limit_0, lower_limit_1, lower_limit_2])\n",
    "    upper_background = np.array([upper_limit_0, upper_limit_1, upper_limit_2])\n",
    "\n",
    "    blur = cv2.GaussianBlur(hsv, (11, 11), 0)\n",
    "    \n",
    "    gray_mask = cv2.inRange(blur, lower_background, upper_background)\n",
    "    non_gray_mask = cv2.bitwise_not(gray_mask)\n",
    "    \n",
    "    result = cv2.bitwise_and(image, image, mask=non_gray_mask)\n",
    "    cv2.imshow(window_name, result)\n",
    "\n",
    "image = original_image.copy()\n",
    "hsv = hsv_image.copy()\n",
    "\n",
    "hsv_flattened = hsv.reshape((-1, 3))\n",
    "hsv_flattened = hsv_flattened[hsv_flattened[:, 2] > 0]\n",
    "background_color = np.median(hsv_flattened, axis=0)\n",
    "\n",
    "hue_tolerance = 100\n",
    "saturation_tolerance = 100\n",
    "value_tolerance = 100\n",
    "\n",
    "window_name = \"TEST\"\n",
    "cv2.namedWindow(window_name)\n",
    "\n",
    "cv2.createTrackbar(\"Hue\", window_name, hue_tolerance, 180, update_tolerance)\n",
    "cv2.createTrackbar(\"Saturation\", window_name, saturation_tolerance, 255, update_tolerance)\n",
    "cv2.createTrackbar(\"Value\", window_name, value_tolerance, 255, update_tolerance)\n",
    "\n",
    "process_image()\n",
    "\n",
    "cv2.waitKey(0)\n",
    "cv2.destroyAllWindows()"
   ]
  },
  {
   "cell_type": "markdown",
   "metadata": {},
   "source": [
    "### Canny testing"
   ]
  },
  {
   "cell_type": "code",
   "execution_count": 7,
   "metadata": {},
   "outputs": [],
   "source": [
    "image = original_image.copy()\n",
    "gray = gray_image.copy()\n",
    "hsv = hsv_image.copy()\n",
    "\n",
    "clahe = cv2.createCLAHE(clipLimit=2.0, tileGridSize=(8, 8))\n",
    "clahe_image = clahe.apply(gray)\n",
    "\n",
    "gaussian = cv2.GaussianBlur(clahe_image, (5, 5), 0)\n",
    "\n",
    "canny = cv2.Canny(gaussian, 100, 200)\n",
    "\n",
    "max_value = 255\n",
    "threshold_low_value = 100\n",
    "threshold_high_value = 200\n",
    "window_name = \"TEST\"\n",
    "\n",
    "cv2.namedWindow(window_name, cv2.WINDOW_AUTOSIZE)\n",
    "\n",
    "def alter_low_value(*args):\n",
    "    threshold_low_value = args[0]\n",
    "    canny = cv2.Canny(gaussian, threshold_low_value, threshold_high_value)\n",
    "    cv2.imshow(window_name, canny)\n",
    "\n",
    "def alter_high_value(*args):\n",
    "    threshold_high_value = args[0]\n",
    "    canny = cv2.Canny(gaussian, threshold_low_value, threshold_high_value)\n",
    "    cv2.imshow(window_name, canny)\n",
    "\n",
    "cv2.createTrackbar(\"Low\", window_name, threshold_low_value, max_value, alter_low_value)\n",
    "cv2.createTrackbar(\"High\", window_name, threshold_high_value, max_value, alter_high_value)\n",
    "\n",
    "cv2.waitKey(0)\n",
    "cv2.destroyAllWindows()"
   ]
  }
 ],
 "metadata": {
  "kernelspec": {
   "display_name": "Python 3",
   "language": "python",
   "name": "python3"
  },
  "language_info": {
   "codemirror_mode": {
    "name": "ipython",
    "version": 3
   },
   "file_extension": ".py",
   "mimetype": "text/x-python",
   "name": "python",
   "nbconvert_exporter": "python",
   "pygments_lexer": "ipython3",
   "version": "3.10.10"
  }
 },
 "nbformat": 4,
 "nbformat_minor": 2
}
