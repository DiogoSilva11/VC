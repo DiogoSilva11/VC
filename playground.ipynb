{
 "cells": [
  {
   "cell_type": "markdown",
   "metadata": {},
   "source": [
    "### Libraries"
   ]
  },
  {
   "cell_type": "code",
   "execution_count": 26,
   "metadata": {},
   "outputs": [],
   "source": [
    "# import libraries\n",
    "\n",
    "import cv2\n",
    "import os\n",
    "import json\n",
    "import math\n",
    "import numpy as np\n",
    "from scipy import ndimage"
   ]
  },
  {
   "cell_type": "markdown",
   "metadata": {},
   "source": [
    "### Data directory"
   ]
  },
  {
   "cell_type": "code",
   "execution_count": 2,
   "metadata": {},
   "outputs": [],
   "source": [
    "# main paths\n",
    "\n",
    "images_dir = './samples'\n",
    "input = 'input.json'\n",
    "output = 'output.json'"
   ]
  },
  {
   "cell_type": "markdown",
   "metadata": {},
   "source": [
    "### Input file"
   ]
  },
  {
   "cell_type": "code",
   "execution_count": null,
   "metadata": {},
   "outputs": [],
   "source": [
    "'''\n",
    "\n",
    "# store images in json\n",
    "\n",
    "image_files = [file for file in os.listdir(images_dir) if file.endswith(('.jpg', '.jpeg', '.png'))]\n",
    "\n",
    "data = {\n",
    "    \"image_files\": image_files\n",
    "}\n",
    "\n",
    "with open(input, \"w\") as json_file:\n",
    "    json.dump(data, json_file, indent=4)\n",
    "\n",
    "'''"
   ]
  },
  {
   "cell_type": "code",
   "execution_count": 3,
   "metadata": {},
   "outputs": [],
   "source": [
    "# open an image\n",
    "\n",
    "with open(input, \"r\") as json_file:\n",
    "    data = json.load(json_file)\n",
    "\n",
    "image_paths = data[\"image_files\"]\n",
    "image_index = 0\n",
    "\n",
    "original_image = cv2.imread(os.path.join(images_dir, image_paths[image_index]))\n",
    "original_image = cv2.resize(original_image, (0, 0), fx = 0.15, fy = 0.15)\n",
    "\n",
    "gray_image = cv2.cvtColor(original_image, cv2.COLOR_BGR2GRAY)\n",
    "\n",
    "hsv_image = cv2.cvtColor(original_image, cv2.COLOR_BGR2HSV)\n",
    "\n",
    "cv2.imshow(\"Original\", original_image)\n",
    "cv2.imshow(\"Gray\", gray_image)\n",
    "cv2.imshow(\"HSV\", hsv_image)\n",
    "cv2.waitKey(0)\n",
    "cv2.destroyAllWindows()"
   ]
  },
  {
   "cell_type": "markdown",
   "metadata": {},
   "source": [
    "### Image enhancement"
   ]
  },
  {
   "cell_type": "code",
   "execution_count": 4,
   "metadata": {},
   "outputs": [],
   "source": [
    "# mean filter\n",
    "\n",
    "mean = cv2.blur(original_image, (4,4))\n",
    "\n",
    "cv2.imshow('Original', original_image)\n",
    "cv2.imshow('Mean', mean)\n",
    "cv2.waitKey(0)\n",
    "cv2.destroyAllWindows()"
   ]
  },
  {
   "cell_type": "code",
   "execution_count": 5,
   "metadata": {},
   "outputs": [],
   "source": [
    "# gaussian filter\n",
    "\n",
    "gaussian = cv2.GaussianBlur(original_image, (5, 5), 0)\n",
    "\n",
    "cv2.imshow('Original', original_image)\n",
    "cv2.imshow('Gaussian', gaussian)\n",
    "cv2.waitKey(0)\n",
    "cv2.destroyAllWindows()"
   ]
  },
  {
   "cell_type": "code",
   "execution_count": 6,
   "metadata": {},
   "outputs": [],
   "source": [
    "# median filter\n",
    "\n",
    "median = cv2.medianBlur(original_image, 5)\n",
    "\n",
    "cv2.imshow('Original', original_image)\n",
    "cv2.imshow('Median', median)\n",
    "cv2.waitKey(0)\n",
    "cv2.destroyAllWindows()"
   ]
  },
  {
   "cell_type": "code",
   "execution_count": 7,
   "metadata": {},
   "outputs": [],
   "source": [
    "# bilateral filter\n",
    "\n",
    "bilateral = cv2.bilateralFilter(original_image, 9, 75, 75)\n",
    "\n",
    "cv2.imshow('Original', original_image)\n",
    "cv2.imshow('Bilateral', bilateral)\n",
    "cv2.waitKey(0)\n",
    "cv2.destroyAllWindows()"
   ]
  },
  {
   "cell_type": "code",
   "execution_count": 5,
   "metadata": {},
   "outputs": [],
   "source": [
    "# custom convulotion\n",
    "\n",
    "gray = gray_image / 255\n",
    "\n",
    "kernel = np.array([[0, -1, 0],\n",
    "                   [-1, 4, -1],\n",
    "                   [0, -1, 0]])\n",
    "\n",
    "convolution = ndimage.convolve(gray, kernel)\n",
    "\n",
    "cv2.imshow('Gray', gray)\n",
    "cv2.imshow('Convulotion', convolution)\n",
    "cv2.waitKey(0)\n",
    "cv2.destroyAllWindows()"
   ]
  },
  {
   "cell_type": "code",
   "execution_count": 6,
   "metadata": {},
   "outputs": [],
   "source": [
    "# histograms equalization\n",
    "\n",
    "histogram_equalization = cv2.equalizeHist(gray_image)\n",
    "\n",
    "cv2.imshow('Gray', gray_image)\n",
    "cv2.imshow('Histogram equalization', histogram_equalization)\n",
    "cv2.waitKey(0)\n",
    "cv2.destroyAllWindows()"
   ]
  },
  {
   "cell_type": "code",
   "execution_count": 7,
   "metadata": {},
   "outputs": [],
   "source": [
    "# histograms equalization with color\n",
    "\n",
    "hsv = hsv_image.copy()\n",
    "\n",
    "hsv[:,:,2] = cv2.equalizeHist(hsv[:,:,2])\n",
    "\n",
    "histogram_equalization = cv2.cvtColor(hsv, cv2.COLOR_HSV2BGR)\n",
    "\n",
    "cv2.imshow('HSV', hsv)\n",
    "cv2.imshow('Histogram equalization', histogram_equalization)\n",
    "cv2.waitKey(0)\n",
    "cv2.destroyAllWindows()"
   ]
  },
  {
   "cell_type": "code",
   "execution_count": 8,
   "metadata": {},
   "outputs": [],
   "source": [
    "# CLAHE\n",
    "\n",
    "clahe = cv2.createCLAHE(clipLimit=2.0, tileGridSize=(8,8))\n",
    "image_CLAHE = clahe.apply(gray_image)\n",
    "\n",
    "cv2.imshow('Gray', gray_image)\n",
    "cv2.imshow('CLAHE', image_CLAHE)\n",
    "cv2.waitKey(0)\n",
    "cv2.destroyAllWindows()"
   ]
  },
  {
   "cell_type": "code",
   "execution_count": 9,
   "metadata": {},
   "outputs": [],
   "source": [
    "# CLAHE with color\n",
    "\n",
    "clahe = cv2.createCLAHE(clipLimit=2.0, tileGridSize=(8,8))\n",
    "\n",
    "hsv = hsv_image.copy()\n",
    "\n",
    "hsv[:,:,2] = clahe.apply(hsv[:,:,2])\n",
    "\n",
    "image_CLAHE = cv2.cvtColor(hsv, cv2.COLOR_HSV2BGR)\n",
    "\n",
    "cv2.imshow('HSV', hsv)\n",
    "cv2.imshow('CLAHE', image_CLAHE)\n",
    "cv2.waitKey(0)\n",
    "cv2.destroyAllWindows()"
   ]
  },
  {
   "cell_type": "markdown",
   "metadata": {},
   "source": [
    "### Edge and line detection"
   ]
  },
  {
   "cell_type": "code",
   "execution_count": 12,
   "metadata": {},
   "outputs": [],
   "source": [
    "# sobel filter\n",
    "\n",
    "sobel_x = cv2.Sobel(gray_image, cv2.CV_64F, 1, 0, ksize=5)\n",
    "sobel_y = cv2.Sobel(gray_image, cv2.CV_64F, 0, 1, ksize=5)\n",
    "\n",
    "cv2.imshow(\"Gray\", gray_image)\n",
    "cv2.imshow(\"Sobel X\", sobel_x)\n",
    "cv2.imshow(\"Sobel Y\", sobel_y)\n",
    "cv2.waitKey(0)\n",
    "cv2.destroyAllWindows()"
   ]
  },
  {
   "cell_type": "code",
   "execution_count": 14,
   "metadata": {},
   "outputs": [],
   "source": [
    "# sobel with XY combined\n",
    "\n",
    "sobel_xy = cv2.Sobel(gray_image, cv2.CV_64F, dx=1, dy=1, ksize=5)\n",
    "\n",
    "cv2.imshow(\"Gray\", gray_image)\n",
    "cv2.imshow(\"Sobel XY\", sobel_xy)\n",
    "cv2.waitKey(0)\n",
    "cv2.destroyAllWindows()"
   ]
  },
  {
   "cell_type": "code",
   "execution_count": 17,
   "metadata": {},
   "outputs": [],
   "source": [
    "# LoG\n",
    "\n",
    "laplacian = cv2.Laplacian(gray_image, cv2.CV_64F, ksize=3)\n",
    "\n",
    "cv2.imshow(\"Gray\", gray_image)\n",
    "cv2.imshow(\"LoG\", laplacian)\n",
    "cv2.waitKey(0)\n",
    "cv2.destroyAllWindows()"
   ]
  },
  {
   "cell_type": "code",
   "execution_count": 18,
   "metadata": {},
   "outputs": [],
   "source": [
    "# LoG with Gaussian Blur\n",
    "\n",
    "gaussian = cv2.GaussianBlur(gray_image, (5, 5), 0)\n",
    "\n",
    "laplacian = cv2.Laplacian(gaussian, cv2.CV_64F, ksize=3)\n",
    "\n",
    "cv2.imshow(\"Gray\", gray_image)\n",
    "cv2.imshow(\"LoG with Gaussian Blur\", laplacian)\n",
    "cv2.waitKey(0)\n",
    "cv2.destroyAllWindows()"
   ]
  },
  {
   "cell_type": "code",
   "execution_count": 19,
   "metadata": {},
   "outputs": [],
   "source": [
    "# DoG\n",
    "\n",
    "gaussian_1 = cv2.GaussianBlur(gray_image, (5, 5), 0)\n",
    "gaussian_2 = cv2.GaussianBlur(gray_image, (3, 3), 0)\n",
    "\n",
    "difference = gaussian_1 - gaussian_2\n",
    "\n",
    "cv2.imshow(\"Gray\", gray_image)\n",
    "cv2.imshow(\"DoG\", difference)\n",
    "cv2.waitKey(0)\n",
    "cv2.destroyAllWindows()"
   ]
  },
  {
   "cell_type": "code",
   "execution_count": 25,
   "metadata": {},
   "outputs": [],
   "source": [
    "# canny edge detection\n",
    "\n",
    "canny = cv2.Canny(gray_image, 30, 50)\n",
    "\n",
    "cv2.imshow(\"Gray\", gray_image)\n",
    "cv2.imshow(\"Canny\", canny)\n",
    "cv2.waitKey(0)\n",
    "cv2.destroyAllWindows()"
   ]
  },
  {
   "cell_type": "code",
   "execution_count": 28,
   "metadata": {},
   "outputs": [],
   "source": [
    "# hough line transform\n",
    "\n",
    "canny = cv2.Canny(gray_image, 30, 50)\n",
    "\n",
    "bgr_copy = cv2.cvtColor(canny, cv2.COLOR_GRAY2BGR)\n",
    "\n",
    "num_votes = 60\n",
    "\n",
    "lines = cv2.HoughLines(canny, 1, np.pi / 180, num_votes, None, 0, 0)\n",
    "\n",
    "if lines is not None:\n",
    "    for i in range(0, len(lines)):\n",
    "        rho = lines[i][0][0]\n",
    "        theta = lines[i][0][1]\n",
    "        a = math.cos(theta)\n",
    "        b = math.sin(theta)\n",
    "        x0 = a * rho\n",
    "        y0 = b * rho\n",
    "        pt1 = (int(x0 + 1000*(-b)), int(y0 + 1000*(a)))\n",
    "        pt2 = (int(x0 - 1000*(-b)), int(y0 - 1000*(a)))\n",
    "        cv2.line(bgr_copy, pt1, pt2, (255,0,0), 3)\n",
    "\n",
    "cv2.imshow(\"Canny\", canny)\n",
    "cv2.imshow(\"Image\", bgr_copy)\n",
    "cv2.waitKey(0)\n",
    "cv2.destroyAllWindows()"
   ]
  },
  {
   "cell_type": "markdown",
   "metadata": {},
   "source": [
    "### Feature points"
   ]
  },
  {
   "cell_type": "code",
   "execution_count": null,
   "metadata": {},
   "outputs": [],
   "source": [
    "# TODO"
   ]
  }
 ],
 "metadata": {
  "kernelspec": {
   "display_name": "Python 3",
   "language": "python",
   "name": "python3"
  },
  "language_info": {
   "codemirror_mode": {
    "name": "ipython",
    "version": 3
   },
   "file_extension": ".py",
   "mimetype": "text/x-python",
   "name": "python",
   "nbconvert_exporter": "python",
   "pygments_lexer": "ipython3",
   "version": "3.10.10"
  }
 },
 "nbformat": 4,
 "nbformat_minor": 2
}
