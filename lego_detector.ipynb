{
 "cells": [
  {
   "cell_type": "markdown",
   "metadata": {
    "collapsed": false
   },
   "source": [
    "# Project Computer Vision - Task 1"
   ]
  },
  {
   "cell_type": "markdown",
   "metadata": {
    "collapsed": false
   },
   "source": [
    "### Libraries"
   ]
  },
  {
   "cell_type": "code",
   "execution_count": 1,
   "metadata": {
    "collapsed": false
   },
   "outputs": [],
   "source": [
    "import cv2\n",
    "import os\n",
    "import numpy as np\n",
    "import json"
   ]
  },
  {
   "cell_type": "markdown",
   "metadata": {
    "collapsed": false
   },
   "source": [
    "### Data directory"
   ]
  },
  {
   "cell_type": "code",
   "execution_count": 2,
   "metadata": {
    "collapsed": false
   },
   "outputs": [],
   "source": [
    "imagesDir = './samples'\n",
    "testDir = './json_examples/'"
   ]
  },
  {
   "cell_type": "markdown",
   "metadata": {
    "collapsed": false
   },
   "source": [
    "### Leading with input file"
   ]
  },
  {
   "cell_type": "code",
   "execution_count": 3,
   "metadata": {
    "collapsed": false
   },
   "outputs": [
    {
     "name": "stdout",
     "output_type": "stream",
     "text": [
      "['IMG_20201127_235047.jpg', 'IMG_20201127_234711.jpg', '2_7mUR_original-test_1609981034838.jpg']\n"
     ]
    }
   ],
   "source": [
    "# Build the path to the input.json file\n",
    "json_file_path = os.path.join(testDir, 'input.json')\n",
    "\n",
    "# Open and read the input.json\n",
    "with open(json_file_path, 'r') as file:\n",
    "    data = json.load(file)\n",
    "\n",
    "# Extract image paths into a list\n",
    "image_paths = data['image_files']\n",
    "\n",
    "# Print the list of image paths\n",
    "print(image_paths)"
   ]
  },
  {
   "cell_type": "code",
   "execution_count": 10,
   "metadata": {
    "collapsed": false
   },
   "outputs": [],
   "source": [
    "# Opening an image\n",
    "first_image = image_paths[0]\n",
    "image_to_test = cv2.imread(os.path.join(imagesDir, first_image))\n",
    "image_to_test = cv2.resize(image_to_test, (0, 0), fx = 0.15, fy = 0.15)\n",
    "\n",
    "# Showing the image\n",
    "cv2.imshow(\"Lego\", image_to_test)\n",
    "\n",
    "# Waiting for user to press a key to close the image\n",
    "cv2.waitKey(0)\n",
    "\n",
    "# Close the window after user pressed a key\n",
    "cv2.destroyWindow(\"Lego\")"
   ]
  },
  {
   "cell_type": "markdown",
   "metadata": {
    "collapsed": false
   },
   "source": [
    "## Filtering and Smoothing"
   ]
  },
  {
   "cell_type": "markdown",
   "metadata": {
    "collapsed": false
   },
   "source": [
    "#### MEAN FILTER"
   ]
  },
  {
   "cell_type": "code",
   "execution_count": 11,
   "metadata": {
    "collapsed": false
   },
   "outputs": [],
   "source": [
    "# Apply mean filter to the image\n",
    "img_mean_filter = cv2.blur(image_to_test, (4,4))\n",
    "\n",
    "# Show image\n",
    "cv2.imshow('mean_filter', img_mean_filter)\n",
    "cv2.waitKey(0)\n",
    "cv2.destroyWindow('mean_filter')"
   ]
  },
  {
   "cell_type": "markdown",
   "metadata": {
    "collapsed": false
   },
   "source": [
    "#### GAUSSIAN FILTER"
   ]
  },
  {
   "cell_type": "code",
   "execution_count": 12,
   "metadata": {
    "collapsed": false
   },
   "outputs": [],
   "source": [
    "# Apply gaussian filter to the image\n",
    "img_gaussian_filter = cv2.GaussianBlur(image_to_test, (5,5), 0)\n",
    "\n",
    "# Show image\n",
    "cv2.imshow('gaussian_filter', img_gaussian_filter)\n",
    "cv2.waitKey(0)\n",
    "cv2.destroyWindow('gaussian_filter')"
   ]
  },
  {
   "cell_type": "markdown",
   "metadata": {
    "collapsed": false
   },
   "source": [
    "#### MEDIAN FILTER"
   ]
  },
  {
   "cell_type": "code",
   "execution_count": 13,
   "metadata": {
    "collapsed": false
   },
   "outputs": [],
   "source": [
    "# Apply median filter to the image\n",
    "img_median_filter = cv2.medianBlur(image_to_test, 5)\n",
    "\n",
    "# Show image\n",
    "cv2.imshow('median_filter', img_median_filter)\n",
    "cv2.waitKey(0)\n",
    "cv2.destroyWindow('median_filter')"
   ]
  },
  {
   "cell_type": "markdown",
   "metadata": {
    "collapsed": false
   },
   "source": [
    "#### BILATERAL FILTER"
   ]
  },
  {
   "cell_type": "code",
   "execution_count": 14,
   "metadata": {
    "collapsed": false
   },
   "outputs": [],
   "source": [
    "# Apply bilateral filter to the image\n",
    "img_bilateral_filter = cv2.bilateralFilter(image_to_test, 9, 75, 75)\n",
    "\n",
    "# Show image\n",
    "cv2.imshow('bilateral_filter', img_bilateral_filter)\n",
    "cv2.waitKey(0)\n",
    "cv2.destroyWindow('bilateral_filter')"
   ]
  },
  {
   "cell_type": "markdown",
   "metadata": {
    "collapsed": false
   },
   "source": [
    "## Edge and Line Detection\n"
   ]
  },
  {
   "cell_type": "code",
   "execution_count": 15,
   "metadata": {
    "collapsed": false
   },
   "outputs": [],
   "source": [
    "# Convert the image to grayscale\n",
    "gray_img = cv2.cvtColor(image_to_test, cv2.COLOR_BGR2GRAY)\n",
    "\n",
    "# Apply Canny edge detection\n",
    "edges = cv2.Canny(gray_img, 100, 200)\n",
    "\n",
    "cv2.imshow('canny_edge_detection', edges)\n",
    "cv2.waitKey(0)\n",
    "cv2.destroyWindow('canny_edge_detection')"
   ]
  }
 ],
 "metadata": {
  "kernelspec": {
   "display_name": "Python 3",
   "language": "python",
   "name": "python3"
  },
  "language_info": {
   "codemirror_mode": {
    "name": "ipython",
    "version": 3
   },
   "file_extension": ".py",
   "mimetype": "text/x-python",
   "name": "python",
   "nbconvert_exporter": "python",
   "pygments_lexer": "ipython3",
   "version": "3.10.10"
  }
 },
 "nbformat": 4,
 "nbformat_minor": 2
}
