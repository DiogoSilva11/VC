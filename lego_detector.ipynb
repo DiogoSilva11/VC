{
 "cells": [
  {
   "cell_type": "markdown",
   "metadata": {},
   "source": [
    "### Initial setup"
   ]
  },
  {
   "cell_type": "code",
   "execution_count": 1,
   "metadata": {},
   "outputs": [],
   "source": [
    "import cv2\n",
    "import os\n",
    "import json\n",
    "from utils import *\n",
    "\n",
    "images_dir = './samples'\n",
    "input = 'input.json'\n",
    "output = 'output.json'"
   ]
  },
  {
   "cell_type": "markdown",
   "metadata": {},
   "source": [
    "### Lego detection"
   ]
  },
  {
   "cell_type": "code",
   "execution_count": 3,
   "metadata": {},
   "outputs": [
    {
     "name": "stdout",
     "output_type": "stream",
     "text": [
      "Number of LEGO pieces detected: 8\n"
     ]
    }
   ],
   "source": [
    "# ----------------------------------------------\n",
    "\n",
    "with open(input, 'r') as json_file:\n",
    "    data = json.load(json_file)\n",
    "\n",
    "image_paths = data['image_files']\n",
    "image_index = 13\n",
    "\n",
    "image = cv2.imread(os.path.join(images_dir, image_paths[image_index]))\n",
    "image = cv2.resize(image, (0, 0), fx = 0.15, fy = 0.15)\n",
    "\n",
    "gray = cv2.cvtColor(image, cv2.COLOR_BGR2GRAY)\n",
    "hsv = cv2.cvtColor(image, cv2.COLOR_BGR2HSV)\n",
    "\n",
    "#complexity, _ = get_image_complexity(gray)\n",
    "\n",
    "# ----------------------------------------------\n",
    "\n",
    "#hue_tolerance = 10 if complexity == 'Complex' else 100\n",
    "#saturation_tolerance = 90 if complexity == 'Complex' else 100\n",
    "#value_tolerance = 90 if complexity == 'Complex' else 100\n",
    "#blur_kernel = (11, 11) if complexity == 'Complex' else (5, 5)\n",
    "bg_median_mask = background_median(hsv)\n",
    "bg_median = cv2.bitwise_and(image, image, mask=bg_median_mask)\n",
    "\n",
    "#blur_kernel = (11, 11) if complexity == 'Complex' else (5, 5)\n",
    "#low_threshold = 150 if complexity == 'Complex' else 50\n",
    "#high_threshold = 200 if complexity == 'Complex' else 150\n",
    "canny_mask = canny_edges(gray)\n",
    "canny = cv2.bitwise_and(image, image, mask=canny_mask)\n",
    "\n",
    "combined_mask = cv2.bitwise_or(bg_median_mask, canny_mask)\n",
    "final_mask = combined_mask\n",
    "#if complexity == 'Complex':\n",
    "#    blur_kernel = (9, 9)\n",
    "#    bb_size = 100\n",
    "#    iterations = 5\n",
    "#    grabcut_mask = grab_cut(image, blur_kernel, bb_size, iterations)\n",
    "#    grabcut = cv2.bitwise_and(image, image, mask=grabcut_mask)\n",
    "#    final_mask = cv2.bitwise_and(combined_mask, grabcut_mask)\n",
    "result = cv2.bitwise_and(image, image, mask=final_mask)\n",
    "\n",
    "# ----------------------------------------------\n",
    "\n",
    "contours, _ = cv2.findContours(final_mask, cv2.RETR_EXTERNAL, cv2.CHAIN_APPROX_SIMPLE)\n",
    "contours = filter_contours(contours)\n",
    "for contour in contours:\n",
    "    x, y, w, h = cv2.boundingRect(contour)\n",
    "    cv2.rectangle(image, (x, y), (x + w, y + h), (255, 255, 0), 2)\n",
    "\n",
    "num_lego_pieces = len(contours)\n",
    "print(\"Number of LEGO pieces detected:\", num_lego_pieces)\n",
    "\n",
    "# ----------------------------------------------\n",
    "\n",
    "cv2.imshow('Image', image)\n",
    "#if complexity == 'Complex':\n",
    "#    cv2.imshow('GrabCut', grabcut)\n",
    "cv2.imshow('Background Median', bg_median)\n",
    "cv2.imshow('Canny', canny)\n",
    "cv2.imshow('Final mask', result)\n",
    "cv2.waitKey(0)\n",
    "cv2.destroyAllWindows()\n",
    "\n",
    "# ----------------------------------------------"
   ]
  }
 ],
 "metadata": {
  "kernelspec": {
   "display_name": "Python 3",
   "language": "python",
   "name": "python3"
  },
  "language_info": {
   "codemirror_mode": {
    "name": "ipython",
    "version": 3
   },
   "file_extension": ".py",
   "mimetype": "text/x-python",
   "name": "python",
   "nbconvert_exporter": "python",
   "pygments_lexer": "ipython3",
   "version": "3.10.10"
  }
 },
 "nbformat": 4,
 "nbformat_minor": 2
}
