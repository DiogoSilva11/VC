{
 "cells": [
  {
   "cell_type": "markdown",
   "metadata": {},
   "source": [
    "# Convolutional Neural Network"
   ]
  },
  {
   "cell_type": "markdown",
   "metadata": {},
   "source": [
    "### Libraries"
   ]
  },
  {
   "cell_type": "code",
   "execution_count": null,
   "metadata": {},
   "outputs": [],
   "source": [
    "# import libraries\n",
    "\n",
    "import os\n",
    "import cv2\n",
    "import torch\n",
    "\n",
    "import numpy as np\n",
    "import matplotlib.pyplot as plt\n",
    "\n",
    "from google.colab import drive\n",
    "from xml.etree import ElementTree as ET\n",
    "from torch.utils.data import Dataset, DataLoader\n",
    "from torchvision import transforms"
   ]
  },
  {
   "cell_type": "code",
   "execution_count": null,
   "metadata": {},
   "outputs": [],
   "source": [
    "# major variables\n",
    "\n",
    "photos_dir = '/content/data/photos'\n",
    "renders_dir = '/content/data/renders'"
   ]
  },
  {
   "cell_type": "markdown",
   "metadata": {},
   "source": [
    "### Datasets"
   ]
  },
  {
   "cell_type": "code",
   "execution_count": null,
   "metadata": {},
   "outputs": [],
   "source": [
    "# mount drive on colab notebook\n",
    "\n",
    "drive.mount('/content/drive')"
   ]
  },
  {
   "cell_type": "code",
   "execution_count": null,
   "metadata": {},
   "outputs": [],
   "source": [
    "# unzip data files\n",
    "\n",
    "!unzip \"/content/drive/MyDrive/02 - tagged1.zip\" -d \"/content/data\""
   ]
  },
  {
   "cell_type": "code",
   "execution_count": null,
   "metadata": {},
   "outputs": [],
   "source": [
    "def parse_xml(xml_file):\n",
    "    '''\n",
    "    Read the xml file and return the bounding box coordinates\n",
    "    '''\n",
    "    tree = ET.parse(xml_file)\n",
    "    root = tree.getroot()\n",
    "    bounding_boxes = []\n",
    "    for obj in root.findall('object'):\n",
    "        bbox = obj.find('bndbox')\n",
    "        xmin = int(bbox.find('xmin').text)\n",
    "        ymin = int(bbox.find('ymin').text)\n",
    "        xmax = int(bbox.find('xmax').text)\n",
    "        ymax = int(bbox.find('ymax').text)\n",
    "        bounding_boxes.append([xmin, ymin, xmax, ymax])\n",
    "    return bounding_boxes"
   ]
  },
  {
   "cell_type": "code",
   "execution_count": 1,
   "metadata": {},
   "outputs": [],
   "source": [
    "def load_data(data_dir):\n",
    "    '''\n",
    "    Returns a list of images and labels for each image\n",
    "    '''\n",
    "    image_paths = []\n",
    "    num_legos = []\n",
    "    for subdir, _, files in os.walk(data_dir):\n",
    "        for file in files:\n",
    "            n = int(subdir.split(os.sep)[-1])\n",
    "            num_legos.append(n)\n",
    "            if file.endswith('.jpg'):\n",
    "                image_paths.append(os.path.join(subdir, file))\n",
    "    # image_paths.sort()\n",
    "    image_paths = np.asarray(image_paths)\n",
    "    num_legos = torch.Tensor(num_legos).to(torch.int64)\n",
    "    return image_paths, num_legos"
   ]
  },
  {
   "cell_type": "code",
   "execution_count": null,
   "metadata": {},
   "outputs": [],
   "source": [
    "# load data\n",
    "\n",
    "image_paths, num_legos = load_data(photos_dir)"
   ]
  },
  {
   "cell_type": "code",
   "execution_count": null,
   "metadata": {},
   "outputs": [],
   "source": [
    "# classes distribution\n",
    "\n",
    "plt.hist(num_legos, bins=range(1, max(num_legos)), align='left', rwidth=0.8)\n",
    "plt.xlabel('Number of Legos')\n",
    "plt.ylabel('Frequency')\n",
    "plt.title('Number of Legos Distribution')\n",
    "plt.show()"
   ]
  },
  {
   "cell_type": "code",
   "execution_count": null,
   "metadata": {},
   "outputs": [],
   "source": [
    "# TODO: change split strategy\n",
    "\n",
    "split = np.random.choice([0, 1, 2], len(image_paths), p=[0.8, 0.1, 0.1])\n",
    "\n",
    "train_indexes = np.where(split == 0)[0]\n",
    "valid_indexes = np.where(split == 1)[0]\n",
    "test_indexes = np.where(split == 2)[0]"
   ]
  },
  {
   "cell_type": "code",
   "execution_count": null,
   "metadata": {},
   "outputs": [],
   "source": [
    "class LegosDataset(Dataset):\n",
    "    '''\n",
    "    Dataset class for the legos dataset\n",
    "    '''\n",
    "    def __init__(self, images_filenames, num_legos, transform=None):\n",
    "        self.images_filenames = images_filenames\n",
    "        self.transform = transform\n",
    "        self.labels = num_legos - 1\n",
    "\n",
    "    def __len__(self):\n",
    "        return len(self.images_filenames)\n",
    "\n",
    "    def __getitem__(self, idx):\n",
    "        image_filename = self.images_filenames[idx]\n",
    "        label = self.labels[idx]\n",
    "        image = cv2.imread(image_filename)\n",
    "        image = cv2.cvtColor(image, cv2.COLOR_BGR2RGB)\n",
    "        if self.transform is not None:\n",
    "            image = self.transform(image)\n",
    "        return image, label"
   ]
  },
  {
   "cell_type": "code",
   "execution_count": null,
   "metadata": {},
   "outputs": [],
   "source": [
    "# train, valid and test datasets\n",
    "\n",
    "batch_size = 32\n",
    "num_workers = 2\n",
    "\n",
    "transform = transforms.Compose(\n",
    "    [\n",
    "        transforms.ToTensor(),\n",
    "        transforms.Resize(224),\n",
    "        transforms.Normalize([0.485, 0.456, 0.406], [0.229, 0.224, 0.225])\n",
    "    ]\n",
    ")\n",
    "\n",
    "train_dataset = LegosDataset(image_paths[train_indexes], num_legos[train_indexes], transform=transform)\n",
    "valid_dataset = LegosDataset(image_paths[valid_indexes], num_legos[valid_indexes], transform=transform)\n",
    "test_dataset = LegosDataset(image_paths[test_indexes], num_legos[test_indexes], transform=transform)\n",
    "\n",
    "train_dataloader = DataLoader(train_dataset, batch_size=batch_size, num_workers=num_workers, shuffle=True)\n",
    "valid_dataloader = DataLoader(valid_dataset, batch_size=batch_size, num_workers=num_workers, shuffle=False)\n",
    "test_dataloader = DataLoader(test_dataset, batch_size=batch_size, num_workers=num_workers, shuffle=False)"
   ]
  }
 ],
 "metadata": {
  "kernelspec": {
   "display_name": "Python 3",
   "language": "python",
   "name": "python3"
  },
  "language_info": {
   "codemirror_mode": {
    "name": "ipython",
    "version": 3
   },
   "file_extension": ".py",
   "mimetype": "text/x-python",
   "name": "python",
   "nbconvert_exporter": "python",
   "pygments_lexer": "ipython3",
   "version": "3.10.10"
  }
 },
 "nbformat": 4,
 "nbformat_minor": 2
}
